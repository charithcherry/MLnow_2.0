{
  "nbformat": 4,
  "nbformat_minor": 0,
  "metadata": {
    "kernelspec": {
      "display_name": "Python 3",
      "language": "python",
      "name": "python3"
    },
    "language_info": {
      "codemirror_mode": {
        "name": "ipython",
        "version": 3
      },
      "file_extension": ".py",
      "mimetype": "text/x-python",
      "name": "python",
      "nbconvert_exporter": "python",
      "pygments_lexer": "ipython3",
      "version": "3.7.0"
    },
    "colab": {
      "name": "EDATitanicDataset.ipynb",
      "provenance": [],
      "collapsed_sections": [],
      "include_colab_link": true
    }
  },
  "cells": [
    {
      "cell_type": "markdown",
      "metadata": {
        "id": "view-in-github",
        "colab_type": "text"
      },
      "source": [
        "<a href=\"https://colab.research.google.com/github/charithcherry/MLnow_2.0/blob/main/PandasProfiling/EDATitanicDataset.ipynb\" target=\"_parent\"><img src=\"https://colab.research.google.com/assets/colab-badge.svg\" alt=\"Open In Colab\"/></a>"
      ]
    },
    {
      "cell_type": "markdown",
      "metadata": {
        "id": "oEGzAwKasgjq"
      },
      "source": [
        "# Exploratory Data Analysis"
      ]
    },
    {
      "cell_type": "markdown",
      "metadata": {
        "id": "QRClmAxnsgjq"
      },
      "source": [
        "## Table of Contents\n",
        "\n",
        "1. [Introduction](#section1)<br>\n",
        "2. [Problem statement](#section2)\n",
        "3. [Importing dependencies](#section3)\n",
        "4. [Data Loading and Description](#section)\n",
        "5. [Data Profiling](#section3)\n",
        "    - 5.1   [Understanding the Dataset](#section301)<br/>\n",
        "    - 5.2   [Pre Profiling](#section302)<br/>\n",
        "    - 5.3   [Preprocessing](#section303)<br/>\n",
        "    - 5.4   [Post Profiling](#section304)<br/>\n",
        "6. [Questions](#section6)\n",
        "    - 6.1.  [What was the demographic structure of Titanic passengers?](#section601)<br/>\n",
        "    - 6.2.  [What is the survival ratio of Titanic passengers?](#section602)<br/>\n",
        "    - 6.3.  [Who is more likely to survive Man, Woman or Children?](#section603)<br/>\n",
        "    - 6.4.  [What is the rate of survival of man, woman and children on the basis of Ticket Class?](#section604)<br/>\n",
        "    - 6.5.  [How is age related to Ticket_Class?](#section605)<br/>\n",
        "    - 6.6.  [How fare is related to Age, Class and Port of Embarkation?](#section606)<br/>\n",
        "    - 6.7.  [What is the survival rate considering the Embarked variable?](#section607)<br/>\n",
        "    - 6.8.  [Survival rate - Comparing Embarked and Sex.](#section608)<br/>\n",
        "    - 6.9.  [How survival rate vary with Embarked, Sex and Ticket_Class?](#section609)<br/>\n",
        "    - 6.10. [Segment age in bins with size 10.](#section610)<br/>\n",
        "    - 6.11. [Analysing SibSp and Parch variable.](#section611)<br/>\n",
        "    - 6.12. [Segment fare in bins of size 12.](#section612)<br/>\n",
        "    - 6.13. [Draw pair plot to know the joint relationship between 'Fare','Age','Ticket_Class' and 'Survived'](#section613)<br/>\n",
        "    - 6.14. [Establish coorelation between all the features using heatmap.](#section614)<br/>\n",
        "    - 6.15. [Hypothesis: Women and children are more likely to survive](#section615)<br/>\n",
        "7. [Conclusions](#section7)<br/>  "
      ]
    },
    {
      "cell_type": "markdown",
      "metadata": {
        "id": "M_6Q-TtZsgjr"
      },
      "source": [
        "<a id=section1></a>\n",
        "### 1. Introduction \n",
        "\n",
        "<center><img src=\"https://raw.githubusercontent.com/insaid2018/Term-2/master/images/titanic-body.jpg\" width=\"600\" height=\"300\" /></center>\n",
        "<br> \n",
        "\n",
        "- The sinking of the RMS Titanic in the early morning of __15 April 1912, four days into the ship's maiden voyage__ from __Southampton to New York City__, was one of the deadliest peacetime maritime disasters in history, __killing__ more \n",
        "than **1,500 people**. \n",
        "\n",
        "- The largest passenger liner in service at the time, Titanic had an __estimated 2,224 people on board__ when she struck an __iceberg in the North Atlantic__. \n",
        "\n",
        "- The ship had received __six warnings__ of sea ice but was travelling at near __maximum speed when the lookouts sighted the iceberg__. \n",
        "\n",
        "<br> \n",
        "<center><img src=\"https://raw.githubusercontent.com/insaid2018/Term-2/master/images/source.gif\" width=\"500\" height=\"300\" /></center>\n",
        "<br> \n",
        "\n",
        "- __Unable to turn quickly enough__, the ship suffered a glancing blow that buckled the starboard (right) side and opened __five of sixteen compartments to the sea__. \n",
        "\n",
        "- The disaster caused widespread outrage over the lack of lifeboats, lax regulations, and the __unequal treatment__ of the three passenger classes __during the evacuation__. \n",
        "\n",
        "- Inquiries recommended sweeping changes to maritime regulations, leading to the __International Convention for the Safety of Life at Sea (1914)__, which continues to govern maritime safety.\n",
        "\n"
      ]
    },
    {
      "cell_type": "markdown",
      "metadata": {
        "id": "vmCIWIK0sgjs"
      },
      "source": [
        "<a id=section1></a>\n",
        "### 2. Problem Statement\n",
        "\n",
        "- On __April 15, 1912__, the largest passenger liner ever made collided with an __iceberg__ during her maiden voyage. \n",
        "\n",
        "- When the __Titanic sank it killed 1502 out of 2224 passengers and crew__.\n",
        "\n",
        "- This __sensational__ tragedy shocked the international community and led to better safety regulations for **ships**. \n",
        "\n",
        "- One of the reasons that the **shipwreck** resulted in such loss of life was that there were **not enough lifeboats** for the passengers and crew. \n",
        "\n",
        "- Although there was some element of luck involved in surviving the sinking, some groups of people were more likely to survive than others such as **women, children, and the upper-class.**\n",
        "\n",
        "<br> \n",
        "<center><img src=\"https://raw.githubusercontent.com/insaid2018/Term-2/master/images/anigif_sub-buzz-2417-1580340238-6.gif\" width=\"600\" height=\"360\" /></center>\n",
        "<br> \n",
        "\n",
        "- The **`titanic.csv`** file contains data for **891** of the real Titanic passengers. \n",
        "  - Each row represents one person. \n",
        "\n",
        "  - The columns describe different attributes about the person including whether they survived, their age, their ticket-class, their sex and the fare they paid.\n",
        "\n",
        "<br> \n",
        "\n",
        "- The goal of this analysis is to analyse the data set, explore it answering related questions using data visualization and statistical methods. \n",
        "\n",
        "- There are also some questions we would like to answer with Titanic dataset analysis.\n",
        "\n",
        "  - What is passengers demographic structure analyzed in terms of attributes?\n",
        "\n",
        "  - What is the overall passengers survival ratio?\n",
        "\n",
        "  - Which groups have higher chances for survival?"
      ]
    },
    {
      "cell_type": "markdown",
      "metadata": {
        "_cell_guid": "998b2a03-c60e-4fd6-9f69-784de6e6c9b8",
        "_uuid": "d3086cb02907affe5a674b54e4baaedd632482c7",
        "id": "L2CQUsQ3sgjv"
      },
      "source": [
        "### 3.Importing packages                                          "
      ]
    },
    {
      "cell_type": "code",
      "metadata": {
        "_cell_guid": "872b97b2-56fe-4644-a11f-afb00f422169",
        "_uuid": "efb595c75201cdb2a53388dc152a8e526e1b921a",
        "id": "QqzR0yoSsgjw"
      },
      "source": [
        "import numpy as np                                                 # Implements multi-dimensional array and matrices\n",
        "import pandas as pd                                                # For data manipulation and analysis\n",
        "import pandas_profiling                                            # For simple Exploratory data analysis\n",
        "import matplotlib.pyplot as plt                                    # Plotting library for Python programming language and it's numerical mathematics extension NumPy\n",
        "import seaborn as sns                                              # Provides a high level interface for drawing attractive and informative statistical graphics\n",
        "%matplotlib inline\n",
        "sns.set()\n",
        "\n",
        "from subprocess import check_output\n",
        "\n"
      ],
      "execution_count": null,
      "outputs": []
    },
    {
      "cell_type": "markdown",
      "metadata": {
        "id": "WxG88ETt9cag"
      },
      "source": [
        "### 4.Data loading and Description"
      ]
    },
    {
      "cell_type": "markdown",
      "metadata": {
        "id": "OMv00PoEsgjy"
      },
      "source": [
        "#### Importing the Dataset"
      ]
    },
    {
      "cell_type": "code",
      "metadata": {
        "_cell_guid": "080fb327-390d-4124-b287-a561d050fe7e",
        "_uuid": "0333d5086a63e3870708e7ba7a540d036c53544e",
        "id": "RGmEgGCFsgj0",
        "colab": {
          "base_uri": "https://localhost:8080/",
          "height": 203
        },
        "outputId": "62ccdfea-670c-4ece-ab20-1dc8c978f5eb"
      },
      "source": [
        "titanic_data = pd.read_csv(\"https://raw.githubusercontent.com/hrishi1234/ML-MODELS/master/train%20(1).csv\")     # Importing the titanic dataset using pd.read_csv\n",
        "titanic_data.head()"
      ],
      "execution_count": null,
      "outputs": [
        {
          "output_type": "execute_result",
          "data": {
            "text/html": [
              "<div>\n",
              "<style scoped>\n",
              "    .dataframe tbody tr th:only-of-type {\n",
              "        vertical-align: middle;\n",
              "    }\n",
              "\n",
              "    .dataframe tbody tr th {\n",
              "        vertical-align: top;\n",
              "    }\n",
              "\n",
              "    .dataframe thead th {\n",
              "        text-align: right;\n",
              "    }\n",
              "</style>\n",
              "<table border=\"1\" class=\"dataframe\">\n",
              "  <thead>\n",
              "    <tr style=\"text-align: right;\">\n",
              "      <th></th>\n",
              "      <th>PassengerId</th>\n",
              "      <th>Survived</th>\n",
              "      <th>Pclass</th>\n",
              "      <th>Name</th>\n",
              "      <th>Sex</th>\n",
              "      <th>Age</th>\n",
              "      <th>SibSp</th>\n",
              "      <th>Parch</th>\n",
              "      <th>Ticket</th>\n",
              "      <th>Fare</th>\n",
              "      <th>Cabin</th>\n",
              "      <th>Embarked</th>\n",
              "    </tr>\n",
              "  </thead>\n",
              "  <tbody>\n",
              "    <tr>\n",
              "      <th>0</th>\n",
              "      <td>1</td>\n",
              "      <td>0</td>\n",
              "      <td>3</td>\n",
              "      <td>Braund, Mr. Owen Harris</td>\n",
              "      <td>male</td>\n",
              "      <td>22.0</td>\n",
              "      <td>1</td>\n",
              "      <td>0</td>\n",
              "      <td>A/5 21171</td>\n",
              "      <td>7.2500</td>\n",
              "      <td>NaN</td>\n",
              "      <td>S</td>\n",
              "    </tr>\n",
              "    <tr>\n",
              "      <th>1</th>\n",
              "      <td>2</td>\n",
              "      <td>1</td>\n",
              "      <td>1</td>\n",
              "      <td>Cumings, Mrs. John Bradley (Florence Briggs Th...</td>\n",
              "      <td>female</td>\n",
              "      <td>38.0</td>\n",
              "      <td>1</td>\n",
              "      <td>0</td>\n",
              "      <td>PC 17599</td>\n",
              "      <td>71.2833</td>\n",
              "      <td>C85</td>\n",
              "      <td>C</td>\n",
              "    </tr>\n",
              "    <tr>\n",
              "      <th>2</th>\n",
              "      <td>3</td>\n",
              "      <td>1</td>\n",
              "      <td>3</td>\n",
              "      <td>Heikkinen, Miss. Laina</td>\n",
              "      <td>female</td>\n",
              "      <td>26.0</td>\n",
              "      <td>0</td>\n",
              "      <td>0</td>\n",
              "      <td>STON/O2. 3101282</td>\n",
              "      <td>7.9250</td>\n",
              "      <td>NaN</td>\n",
              "      <td>S</td>\n",
              "    </tr>\n",
              "    <tr>\n",
              "      <th>3</th>\n",
              "      <td>4</td>\n",
              "      <td>1</td>\n",
              "      <td>1</td>\n",
              "      <td>Futrelle, Mrs. Jacques Heath (Lily May Peel)</td>\n",
              "      <td>female</td>\n",
              "      <td>35.0</td>\n",
              "      <td>1</td>\n",
              "      <td>0</td>\n",
              "      <td>113803</td>\n",
              "      <td>53.1000</td>\n",
              "      <td>C123</td>\n",
              "      <td>S</td>\n",
              "    </tr>\n",
              "    <tr>\n",
              "      <th>4</th>\n",
              "      <td>5</td>\n",
              "      <td>0</td>\n",
              "      <td>3</td>\n",
              "      <td>Allen, Mr. William Henry</td>\n",
              "      <td>male</td>\n",
              "      <td>35.0</td>\n",
              "      <td>0</td>\n",
              "      <td>0</td>\n",
              "      <td>373450</td>\n",
              "      <td>8.0500</td>\n",
              "      <td>NaN</td>\n",
              "      <td>S</td>\n",
              "    </tr>\n",
              "  </tbody>\n",
              "</table>\n",
              "</div>"
            ],
            "text/plain": [
              "   PassengerId  Survived  Pclass  ...     Fare Cabin  Embarked\n",
              "0            1         0       3  ...   7.2500   NaN         S\n",
              "1            2         1       1  ...  71.2833   C85         C\n",
              "2            3         1       3  ...   7.9250   NaN         S\n",
              "3            4         1       1  ...  53.1000  C123         S\n",
              "4            5         0       3  ...   8.0500   NaN         S\n",
              "\n",
              "[5 rows x 12 columns]"
            ]
          },
          "metadata": {
            "tags": []
          },
          "execution_count": 2
        }
      ]
    },
    {
      "cell_type": "markdown",
      "metadata": {
        "id": "-qKxevok3lfK"
      },
      "source": [
        "<center><img src=\"https://raw.githubusercontent.com/insaid2018/Term-2/master/images/download%20(1).png\" width=\"300\" height=\"180\" /></center>"
      ]
    },
    {
      "cell_type": "markdown",
      "metadata": {
        "id": "3eVqzwJwsgj2"
      },
      "source": [
        "- The dataset consists of the information about people boarding the famous RMS Titanic. Various variables present in the dataset includes data of age, sex, fare, ticket etc. \n",
        "- The dataset comprises of __891 observations of 12 columns__. Below is a table showing names of all the columns and their description."
      ]
    },
    {
      "cell_type": "markdown",
      "metadata": {
        "id": "RsCz1ISn9pd7"
      },
      "source": [
        "| Column Name   | Description                                               |\n",
        "| ------------- |:-------------                                            :| \n",
        "| PassengerId   | Passenger Identity                                        | \n",
        "| Survived      | Whether passenger survived or not: 0 = People died,   1 = People survived                         |  \n",
        "| Pclass        | Class of ticket: 1 = First Class, 2 = Second class, 3 = Third class                                         | \n",
        "| Name          | Name of passenger                                         |   \n",
        "| Sex           | Sex of passenger                                          |\n",
        "| Age           | Age of passenger                                          |\n",
        "| SibSp         | Number of sibling and/or spouse travelling with passenger |\n",
        "| Parch         | Number of parent and/or children travelling with passenger|\n",
        "| Ticket        | Ticket number                                             |\n",
        "| Fare          | Price of ticket                                           |\n",
        "| Cabin         | Cabin number                                              |\n",
        "| Embarked      | Source of the passenger                                   |\n"
      ]
    },
    {
      "cell_type": "markdown",
      "metadata": {
        "id": "Wa1zmAWVBx99"
      },
      "source": [
        "- Renaming the Column Pclass by Ticket_Class as the name can create confusion and since it is the class of ticket so Ticket_Class will be more suitable for it"
      ]
    },
    {
      "cell_type": "code",
      "metadata": {
        "id": "ZaDzspIFBnb6",
        "colab": {
          "base_uri": "https://localhost:8080/",
          "height": 237
        },
        "outputId": "8a14c543-8d84-4514-9650-bc45e0884273"
      },
      "source": [
        "titanic_data.rename(columns={'Pclass':'Ticket_Class'},inplace=True)\n",
        "titanic_data.head()"
      ],
      "execution_count": null,
      "outputs": [
        {
          "output_type": "execute_result",
          "data": {
            "text/html": [
              "<div>\n",
              "<style scoped>\n",
              "    .dataframe tbody tr th:only-of-type {\n",
              "        vertical-align: middle;\n",
              "    }\n",
              "\n",
              "    .dataframe tbody tr th {\n",
              "        vertical-align: top;\n",
              "    }\n",
              "\n",
              "    .dataframe thead th {\n",
              "        text-align: right;\n",
              "    }\n",
              "</style>\n",
              "<table border=\"1\" class=\"dataframe\">\n",
              "  <thead>\n",
              "    <tr style=\"text-align: right;\">\n",
              "      <th></th>\n",
              "      <th>PassengerId</th>\n",
              "      <th>Survived</th>\n",
              "      <th>Ticket_Class</th>\n",
              "      <th>Name</th>\n",
              "      <th>Sex</th>\n",
              "      <th>Age</th>\n",
              "      <th>SibSp</th>\n",
              "      <th>Parch</th>\n",
              "      <th>Ticket</th>\n",
              "      <th>Fare</th>\n",
              "      <th>Cabin</th>\n",
              "      <th>Embarked</th>\n",
              "    </tr>\n",
              "  </thead>\n",
              "  <tbody>\n",
              "    <tr>\n",
              "      <th>0</th>\n",
              "      <td>1</td>\n",
              "      <td>0</td>\n",
              "      <td>3</td>\n",
              "      <td>Braund, Mr. Owen Harris</td>\n",
              "      <td>male</td>\n",
              "      <td>22.0</td>\n",
              "      <td>1</td>\n",
              "      <td>0</td>\n",
              "      <td>A/5 21171</td>\n",
              "      <td>7.2500</td>\n",
              "      <td>NaN</td>\n",
              "      <td>S</td>\n",
              "    </tr>\n",
              "    <tr>\n",
              "      <th>1</th>\n",
              "      <td>2</td>\n",
              "      <td>1</td>\n",
              "      <td>1</td>\n",
              "      <td>Cumings, Mrs. John Bradley (Florence Briggs Th...</td>\n",
              "      <td>female</td>\n",
              "      <td>38.0</td>\n",
              "      <td>1</td>\n",
              "      <td>0</td>\n",
              "      <td>PC 17599</td>\n",
              "      <td>71.2833</td>\n",
              "      <td>C85</td>\n",
              "      <td>C</td>\n",
              "    </tr>\n",
              "    <tr>\n",
              "      <th>2</th>\n",
              "      <td>3</td>\n",
              "      <td>1</td>\n",
              "      <td>3</td>\n",
              "      <td>Heikkinen, Miss. Laina</td>\n",
              "      <td>female</td>\n",
              "      <td>26.0</td>\n",
              "      <td>0</td>\n",
              "      <td>0</td>\n",
              "      <td>STON/O2. 3101282</td>\n",
              "      <td>7.9250</td>\n",
              "      <td>NaN</td>\n",
              "      <td>S</td>\n",
              "    </tr>\n",
              "    <tr>\n",
              "      <th>3</th>\n",
              "      <td>4</td>\n",
              "      <td>1</td>\n",
              "      <td>1</td>\n",
              "      <td>Futrelle, Mrs. Jacques Heath (Lily May Peel)</td>\n",
              "      <td>female</td>\n",
              "      <td>35.0</td>\n",
              "      <td>1</td>\n",
              "      <td>0</td>\n",
              "      <td>113803</td>\n",
              "      <td>53.1000</td>\n",
              "      <td>C123</td>\n",
              "      <td>S</td>\n",
              "    </tr>\n",
              "    <tr>\n",
              "      <th>4</th>\n",
              "      <td>5</td>\n",
              "      <td>0</td>\n",
              "      <td>3</td>\n",
              "      <td>Allen, Mr. William Henry</td>\n",
              "      <td>male</td>\n",
              "      <td>35.0</td>\n",
              "      <td>0</td>\n",
              "      <td>0</td>\n",
              "      <td>373450</td>\n",
              "      <td>8.0500</td>\n",
              "      <td>NaN</td>\n",
              "      <td>S</td>\n",
              "    </tr>\n",
              "  </tbody>\n",
              "</table>\n",
              "</div>"
            ],
            "text/plain": [
              "   PassengerId  Survived  Ticket_Class  ...     Fare Cabin  Embarked\n",
              "0            1         0             3  ...   7.2500   NaN         S\n",
              "1            2         1             1  ...  71.2833   C85         C\n",
              "2            3         1             3  ...   7.9250   NaN         S\n",
              "3            4         1             1  ...  53.1000  C123         S\n",
              "4            5         0             3  ...   8.0500   NaN         S\n",
              "\n",
              "[5 rows x 12 columns]"
            ]
          },
          "metadata": {
            "tags": []
          },
          "execution_count": 3
        }
      ]
    },
    {
      "cell_type": "markdown",
      "metadata": {
        "_cell_guid": "6c7d2500-95b1-4057-98f7-39100e8a6d7f",
        "_uuid": "13fd8422db7a1ceae9ebb002df452e8293a9ab0c",
        "id": "UocOqZg9sgj3"
      },
      "source": [
        "## 5. Data Profiling"
      ]
    },
    {
      "cell_type": "markdown",
      "metadata": {
        "id": "icemj2lQsgj3"
      },
      "source": [
        "- In the upcoming sections we will first __understand our dataset__ using various pandas functionalities.\n",
        "- Then with the help of __pandas profiling__ we will find which columns of our dataset need preprocessing.\n",
        "- In __preprocessing__ we will deal with erronous and missing values of columns. \n",
        "- Again we will do __pandas profiling__ to see how preprocessing have transformed our dataset."
      ]
    },
    {
      "cell_type": "markdown",
      "metadata": {
        "id": "xxQgIFxxsgj3"
      },
      "source": [
        "<a id=section301></a>"
      ]
    },
    {
      "cell_type": "markdown",
      "metadata": {
        "id": "jytq_jywsgj4"
      },
      "source": [
        "### 5.1 Understanding the Dataset"
      ]
    },
    {
      "cell_type": "markdown",
      "metadata": {
        "id": "Ra_UIDC7sgj4"
      },
      "source": [
        "To gain insights from data we must look into each aspect of it very carefully. We will start with observing few rows and columns of data both from the starting and from the end\n"
      ]
    },
    {
      "cell_type": "code",
      "metadata": {
        "id": "2O5Ody2gsgj5",
        "colab": {
          "base_uri": "https://localhost:8080/"
        },
        "outputId": "ba2fda27-35fc-426b-bd2a-c74a470005c4"
      },
      "source": [
        "titanic_data.shape                                                    # This will print the number of rows and comlumns of the Data Frame"
      ],
      "execution_count": null,
      "outputs": [
        {
          "output_type": "execute_result",
          "data": {
            "text/plain": [
              "(891, 12)"
            ]
          },
          "metadata": {
            "tags": []
          },
          "execution_count": 4
        }
      ]
    },
    {
      "cell_type": "markdown",
      "metadata": {
        "id": "Sq4zP3lmsgj7"
      },
      "source": [
        "**Observations:**\n",
        "- titanic_data has __891 rows__ and __12 columns.__"
      ]
    },
    {
      "cell_type": "code",
      "metadata": {
        "id": "uJY00r3nsgj7",
        "colab": {
          "base_uri": "https://localhost:8080/"
        },
        "outputId": "d247dd3d-a031-4fa3-ca02-345ef32fc1e5"
      },
      "source": [
        "titanic_data.columns                                            # This will print the names of all columns."
      ],
      "execution_count": null,
      "outputs": [
        {
          "output_type": "execute_result",
          "data": {
            "text/plain": [
              "Index(['PassengerId', 'Survived', 'Ticket_Class', 'Name', 'Sex', 'Age',\n",
              "       'SibSp', 'Parch', 'Ticket', 'Fare', 'Cabin', 'Embarked'],\n",
              "      dtype='object')"
            ]
          },
          "metadata": {
            "tags": []
          },
          "execution_count": 5
        }
      ]
    },
    {
      "cell_type": "code",
      "metadata": {
        "id": "jOQfQyvjsgkC",
        "colab": {
          "base_uri": "https://localhost:8080/"
        },
        "outputId": "cf6767d7-59ae-4a42-8b65-d04f7a2ab3be"
      },
      "source": [
        "titanic_data.info()                                                   # This will give Index, Datatype and Memory information"
      ],
      "execution_count": null,
      "outputs": [
        {
          "output_type": "stream",
          "text": [
            "<class 'pandas.core.frame.DataFrame'>\n",
            "RangeIndex: 891 entries, 0 to 890\n",
            "Data columns (total 12 columns):\n",
            "PassengerId     891 non-null int64\n",
            "Survived        891 non-null int64\n",
            "Ticket_Class    891 non-null int64\n",
            "Name            891 non-null object\n",
            "Sex             891 non-null object\n",
            "Age             714 non-null float64\n",
            "SibSp           891 non-null int64\n",
            "Parch           891 non-null int64\n",
            "Ticket          891 non-null object\n",
            "Fare            891 non-null float64\n",
            "Cabin           204 non-null object\n",
            "Embarked        889 non-null object\n",
            "dtypes: float64(2), int64(5), object(5)\n",
            "memory usage: 83.7+ KB\n"
          ],
          "name": "stdout"
        }
      ]
    },
    {
      "cell_type": "markdown",
      "metadata": {
        "id": "WyHvrkTTGIGj"
      },
      "source": [
        "**Observations:**\n",
        "- We can see that there are **missing data** as all features do not contain **equal number of records**.\n",
        "- All the **variables** are present in **appropriate data types**."
      ]
    },
    {
      "cell_type": "code",
      "metadata": {
        "id": "-nXKZHMjsgkD",
        "colab": {
          "base_uri": "https://localhost:8080/",
          "height": 295
        },
        "outputId": "d5cb1b6a-dce5-47f2-9c49-2039322795d5"
      },
      "source": [
        "titanic_data.describe()"
      ],
      "execution_count": null,
      "outputs": [
        {
          "output_type": "execute_result",
          "data": {
            "text/html": [
              "<div>\n",
              "<style scoped>\n",
              "    .dataframe tbody tr th:only-of-type {\n",
              "        vertical-align: middle;\n",
              "    }\n",
              "\n",
              "    .dataframe tbody tr th {\n",
              "        vertical-align: top;\n",
              "    }\n",
              "\n",
              "    .dataframe thead th {\n",
              "        text-align: right;\n",
              "    }\n",
              "</style>\n",
              "<table border=\"1\" class=\"dataframe\">\n",
              "  <thead>\n",
              "    <tr style=\"text-align: right;\">\n",
              "      <th></th>\n",
              "      <th>PassengerId</th>\n",
              "      <th>Survived</th>\n",
              "      <th>Ticket_Class</th>\n",
              "      <th>Age</th>\n",
              "      <th>SibSp</th>\n",
              "      <th>Parch</th>\n",
              "      <th>Fare</th>\n",
              "    </tr>\n",
              "  </thead>\n",
              "  <tbody>\n",
              "    <tr>\n",
              "      <th>count</th>\n",
              "      <td>891.000000</td>\n",
              "      <td>891.000000</td>\n",
              "      <td>891.000000</td>\n",
              "      <td>714.000000</td>\n",
              "      <td>891.000000</td>\n",
              "      <td>891.000000</td>\n",
              "      <td>891.000000</td>\n",
              "    </tr>\n",
              "    <tr>\n",
              "      <th>mean</th>\n",
              "      <td>446.000000</td>\n",
              "      <td>0.383838</td>\n",
              "      <td>2.308642</td>\n",
              "      <td>29.699118</td>\n",
              "      <td>0.523008</td>\n",
              "      <td>0.381594</td>\n",
              "      <td>32.204208</td>\n",
              "    </tr>\n",
              "    <tr>\n",
              "      <th>std</th>\n",
              "      <td>257.353842</td>\n",
              "      <td>0.486592</td>\n",
              "      <td>0.836071</td>\n",
              "      <td>14.526497</td>\n",
              "      <td>1.102743</td>\n",
              "      <td>0.806057</td>\n",
              "      <td>49.693429</td>\n",
              "    </tr>\n",
              "    <tr>\n",
              "      <th>min</th>\n",
              "      <td>1.000000</td>\n",
              "      <td>0.000000</td>\n",
              "      <td>1.000000</td>\n",
              "      <td>0.420000</td>\n",
              "      <td>0.000000</td>\n",
              "      <td>0.000000</td>\n",
              "      <td>0.000000</td>\n",
              "    </tr>\n",
              "    <tr>\n",
              "      <th>25%</th>\n",
              "      <td>223.500000</td>\n",
              "      <td>0.000000</td>\n",
              "      <td>2.000000</td>\n",
              "      <td>20.125000</td>\n",
              "      <td>0.000000</td>\n",
              "      <td>0.000000</td>\n",
              "      <td>7.910400</td>\n",
              "    </tr>\n",
              "    <tr>\n",
              "      <th>50%</th>\n",
              "      <td>446.000000</td>\n",
              "      <td>0.000000</td>\n",
              "      <td>3.000000</td>\n",
              "      <td>28.000000</td>\n",
              "      <td>0.000000</td>\n",
              "      <td>0.000000</td>\n",
              "      <td>14.454200</td>\n",
              "    </tr>\n",
              "    <tr>\n",
              "      <th>75%</th>\n",
              "      <td>668.500000</td>\n",
              "      <td>1.000000</td>\n",
              "      <td>3.000000</td>\n",
              "      <td>38.000000</td>\n",
              "      <td>1.000000</td>\n",
              "      <td>0.000000</td>\n",
              "      <td>31.000000</td>\n",
              "    </tr>\n",
              "    <tr>\n",
              "      <th>max</th>\n",
              "      <td>891.000000</td>\n",
              "      <td>1.000000</td>\n",
              "      <td>3.000000</td>\n",
              "      <td>80.000000</td>\n",
              "      <td>8.000000</td>\n",
              "      <td>6.000000</td>\n",
              "      <td>512.329200</td>\n",
              "    </tr>\n",
              "  </tbody>\n",
              "</table>\n",
              "</div>"
            ],
            "text/plain": [
              "       PassengerId    Survived  ...       Parch        Fare\n",
              "count   891.000000  891.000000  ...  891.000000  891.000000\n",
              "mean    446.000000    0.383838  ...    0.381594   32.204208\n",
              "std     257.353842    0.486592  ...    0.806057   49.693429\n",
              "min       1.000000    0.000000  ...    0.000000    0.000000\n",
              "25%     223.500000    0.000000  ...    0.000000    7.910400\n",
              "50%     446.000000    0.000000  ...    0.000000   14.454200\n",
              "75%     668.500000    1.000000  ...    0.000000   31.000000\n",
              "max     891.000000    1.000000  ...    6.000000  512.329200\n",
              "\n",
              "[8 rows x 7 columns]"
            ]
          },
          "metadata": {
            "tags": []
          },
          "execution_count": 7
        }
      ]
    },
    {
      "cell_type": "code",
      "metadata": {
        "id": "AgD-yNCwW-WU",
        "colab": {
          "base_uri": "https://localhost:8080/",
          "height": 1000
        },
        "outputId": "17acf35b-e6c7-4904-f1d7-561c27da2b22"
      },
      "source": [
        "titanic_data.hist(bins=20,figsize=(18, 16))"
      ],
      "execution_count": null,
      "outputs": [
        {
          "output_type": "stream",
          "text": [
            "/usr/local/lib/python3.7/dist-packages/pandas/plotting/_matplotlib/tools.py:307: MatplotlibDeprecationWarning: \n",
            "The rowNum attribute was deprecated in Matplotlib 3.2 and will be removed two minor releases later. Use ax.get_subplotspec().rowspan.start instead.\n",
            "  layout[ax.rowNum, ax.colNum] = ax.get_visible()\n",
            "/usr/local/lib/python3.7/dist-packages/pandas/plotting/_matplotlib/tools.py:307: MatplotlibDeprecationWarning: \n",
            "The colNum attribute was deprecated in Matplotlib 3.2 and will be removed two minor releases later. Use ax.get_subplotspec().colspan.start instead.\n",
            "  layout[ax.rowNum, ax.colNum] = ax.get_visible()\n",
            "/usr/local/lib/python3.7/dist-packages/pandas/plotting/_matplotlib/tools.py:313: MatplotlibDeprecationWarning: \n",
            "The rowNum attribute was deprecated in Matplotlib 3.2 and will be removed two minor releases later. Use ax.get_subplotspec().rowspan.start instead.\n",
            "  if not layout[ax.rowNum + 1, ax.colNum]:\n",
            "/usr/local/lib/python3.7/dist-packages/pandas/plotting/_matplotlib/tools.py:313: MatplotlibDeprecationWarning: \n",
            "The colNum attribute was deprecated in Matplotlib 3.2 and will be removed two minor releases later. Use ax.get_subplotspec().colspan.start instead.\n",
            "  if not layout[ax.rowNum + 1, ax.colNum]:\n"
          ],
          "name": "stderr"
        },
        {
          "output_type": "execute_result",
          "data": {
            "text/plain": [
              "array([[<matplotlib.axes._subplots.AxesSubplot object at 0x7f7235248410>,\n",
              "        <matplotlib.axes._subplots.AxesSubplot object at 0x7f72351cd5d0>,\n",
              "        <matplotlib.axes._subplots.AxesSubplot object at 0x7f7235181c50>],\n",
              "       [<matplotlib.axes._subplots.AxesSubplot object at 0x7f7235140310>,\n",
              "        <matplotlib.axes._subplots.AxesSubplot object at 0x7f72350f5910>,\n",
              "        <matplotlib.axes._subplots.AxesSubplot object at 0x7f72350aef90>],\n",
              "       [<matplotlib.axes._subplots.AxesSubplot object at 0x7f723506f6d0>,\n",
              "        <matplotlib.axes._subplots.AxesSubplot object at 0x7f7235024c90>,\n",
              "        <matplotlib.axes._subplots.AxesSubplot object at 0x7f7235024cd0>]],\n",
              "      dtype=object)"
            ]
          },
          "metadata": {
            "tags": []
          },
          "execution_count": 8
        },
        {
          "output_type": "display_data",
          "data": {
            "image/png": "[encoded data removed]",
            "text/plain": [
              "<Figure size 1296x1152 with 9 Axes>"
            ]
          },
          "metadata": {
            "tags": [],
            "needs_background": "light"
          }
        }
      ]
    },
    {
      "cell_type": "markdown",
      "metadata": {
        "id": "U0752iL1KHhZ"
      },
      "source": [
        "**Observations:**\n",
        "- The mean of the **Age** of the passengers is found to be **29.7** years with quite large standard deviation of 14.5264. Age distribution is centered around 20-30 years ranging to 80 with quite large number of children aged 0-5. The minimum age is 0.42 years and the maximum age is 80 years. The median value is 28 years.\n",
        "\n",
        "- On average, Passengers were not travelling with their *parents and children*.\n",
        "\n",
        "- The maximum fare is found to be **512** dollars. Fare attribute values distribution is strongly positevely skewed with mean 32.2042 and large stadard deviation of 49.6934. Because the distribution is skewed median is much smaller than the mean with value of 14.4542. The range of data is large ranging from 0 to 512. At the same time 75% of the data is lower than 31.\n",
        "\n",
        "- Ticket_Class distribution shows that almost 500 out of all 891 passengers in the dataset were travelling the third class and 200 passengers were travelling both in first and second class.\n",
        "\n",
        "- SibSp (number of siblings/spouses aboard) is similar to Parch distribution but with larger number of passengers travelling with one sibling/spouse.\n",
        "\n",
        "- Survived obviously shows only two values but we can also see that number of survivors is much smaller than the number of passengers who died in the disaster."
      ]
    },
    {
      "cell_type": "markdown",
      "metadata": {
        "id": "8xyPFqH8sgkI"
      },
      "source": [
        "### 5.2 Pre Profiling"
      ]
    },
    {
      "cell_type": "markdown",
      "metadata": {
        "id": "RhXufrOosgkJ"
      },
      "source": [
        "- By pandas profiling, an __interactive HTML report__ gets generated which contins all the information about the columns of the dataset, like the __counts and type__ of each _column_. Detailed information about each column, __coorelation between different columns__ and a sample of dataset.<br/>\n",
        "- It gives us __visual interpretation__ of each column in the data.\n",
        "- _Spread of the data_ can be better understood by the distribution plot. \n",
        "- _Grannular level_ analysis of each column."
      ]
    },
    {
      "cell_type": "code",
      "metadata": {
        "id": "QjH2_AUgTh6S",
        "colab": {
          "base_uri": "https://localhost:8080/",
          "height": 389
        },
        "outputId": "87a29c55-4cca-431f-c0ad-9d1c387e5fdc"
      },
      "source": [
        "!pip install pandas==0.25                    # You need to install pandas version 0.25 for pandas profiling or it might give some error while profiling"
      ],
      "execution_count": null,
      "outputs": [
        {
          "output_type": "stream",
          "text": [
            "Collecting pandas==0.25\n",
            "\u001b[?25l  Downloading https://files.pythonhosted.org/packages/3b/42/dc1f4820b95fbdbc9352ec9ad0f0c40db2122e1f2440ea53c7f9fbccf2b8/pandas-0.25.0-cp37-cp37m-manylinux1_x86_64.whl (10.4MB)\n",
            "\u001b[K     |████████████████████████████████| 10.4MB 5.4MB/s \n",
            "\u001b[?25hRequirement already satisfied: python-dateutil>=2.6.1 in /usr/local/lib/python3.7/dist-packages (from pandas==0.25) (2.8.1)\n",
            "Requirement already satisfied: numpy>=1.13.3 in /usr/local/lib/python3.7/dist-packages (from pandas==0.25) (1.19.5)\n",
            "Requirement already satisfied: pytz>=2017.2 in /usr/local/lib/python3.7/dist-packages (from pandas==0.25) (2018.9)\n",
            "Requirement already satisfied: six>=1.5 in /usr/local/lib/python3.7/dist-packages (from python-dateutil>=2.6.1->pandas==0.25) (1.15.0)\n",
            "\u001b[31mERROR: xarray 0.18.2 has requirement pandas>=1.0, but you'll have pandas 0.25.0 which is incompatible.\u001b[0m\n",
            "\u001b[31mERROR: google-colab 1.0.0 has requirement pandas~=1.1.0; python_version >= \"3.0\", but you'll have pandas 0.25.0 which is incompatible.\u001b[0m\n",
            "\u001b[31mERROR: fbprophet 0.7.1 has requirement pandas>=1.0.4, but you'll have pandas 0.25.0 which is incompatible.\u001b[0m\n",
            "Installing collected packages: pandas\n",
            "  Found existing installation: pandas 1.1.5\n",
            "    Uninstalling pandas-1.1.5:\n",
            "      Successfully uninstalled pandas-1.1.5\n",
            "Successfully installed pandas-0.25.0\n"
          ],
          "name": "stdout"
        },
        {
          "output_type": "display_data",
          "data": {
            "application/vnd.colab-display-data+json": {
              "pip_warning": {
                "packages": [
                  "pandas"
                ]
              }
            }
          },
          "metadata": {
            "tags": []
          }
        }
      ]
    },
    {
      "cell_type": "code",
      "metadata": {
        "id": "uIx_RIjlsgkJ",
        "colab": {
          "base_uri": "https://localhost:8080/"
        },
        "outputId": "ae84f27c-f81e-41bc-c259-6ba10b87e8e8"
      },
      "source": [
        "profile = pandas_profiling.ProfileReport(titanic_data)\n",
        "profile.to_file(outputfile=\"titanic_before_preprocessing.html\")"
      ],
      "execution_count": null,
      "outputs": [
        {
          "output_type": "stream",
          "text": [
            "/usr/local/lib/python3.7/dist-packages/pandas_profiling/describe.py:392: FutureWarning: The join_axes-keyword is deprecated. Use .reindex or .reindex_like on the result to achieve the same functionality.\n",
            "  variable_stats = pd.concat(ldesc, join_axes=pd.Index([names]), axis=1)\n"
          ],
          "name": "stderr"
        }
      ]
    },
    {
      "cell_type": "markdown",
      "metadata": {
        "id": "ngHqSQYBsgkM"
      },
      "source": [
        "Here, we have done Pandas Profiling before preprocessing our dataset, so we have named the html file as __titanic_before_preprocessing.html__. Take a look at the file and see what useful insight you can develop from it. <br/>\n",
        "Now we will process our data to better understand it."
      ]
    },
    {
      "cell_type": "markdown",
      "metadata": {
        "id": "4jfEMQOYM0a1"
      },
      "source": [
        "**Observations from Pandas Profiling before Data Processing**\n",
        "__Dataset info__:\n",
        "- Number of variables: 12\n",
        "- Number of observations: 891\n",
        "- Missing cells: 8.1%\n",
        "\n",
        "__Variables types__: \n",
        "- Numeric = 6\n",
        "- Categorical = 4\n",
        "- Text (Unique) = 1\n",
        "- Rejected = 0\n",
        "\n",
        "\n",
        "\n",
        "- **Survived** has two distinct values.\n",
        "- The mean of **Age** is found to be **29.7**\n",
        "- The maximum **Fare** is found to be **512** with an average of **32.2**\n",
        "- The passengers were embarked from 3 ports of which **Southampton** has the highest number of passengers\n"
      ]
    },
    {
      "cell_type": "markdown",
      "metadata": {
        "id": "RvwQgDJYsgkN"
      },
      "source": [
        "###5.3 Preprocessing"
      ]
    },
    {
      "cell_type": "markdown",
      "metadata": {
        "id": "JocnGdfosgkN"
      },
      "source": [
        "- Dealing with missing values<br/>\n",
        "    - Dropping/Replacing missing entries of __Embarked.__\n",
        "    - Replacing missing values of __Age__ with median values.\n",
        "    - Dropping the column __'Cabin'__ as it has too many _null_ values.\n",
        "    - Dropping the column __'PassengerID'__,__'Name'__ and __'Ticket'__"
      ]
    },
    {
      "cell_type": "code",
      "metadata": {
        "id": "WVYB1-o9sgkG",
        "colab": {
          "base_uri": "https://localhost:8080/"
        },
        "outputId": "4cf8dabd-390d-4ab2-c7e6-d749b25e7a68"
      },
      "source": [
        "titanic_data.isnull().sum()"
      ],
      "execution_count": null,
      "outputs": [
        {
          "output_type": "execute_result",
          "data": {
            "text/plain": [
              "PassengerId       0\n",
              "Survived          0\n",
              "Ticket_Class      0\n",
              "Name              0\n",
              "Sex               0\n",
              "Age             177\n",
              "SibSp             0\n",
              "Parch             0\n",
              "Ticket            0\n",
              "Fare              0\n",
              "Cabin           687\n",
              "Embarked          2\n",
              "dtype: int64"
            ]
          },
          "metadata": {
            "tags": []
          },
          "execution_count": 13
        }
      ]
    },
    {
      "cell_type": "markdown",
      "metadata": {
        "id": "jkWV_3NesgkI"
      },
      "source": [
        "**Observations:**\n",
        "- From the above output we can see that __Age__ and __Cabin__ columns contains __maximum null values__. We will see how to deal with them."
      ]
    },
    {
      "cell_type": "markdown",
      "metadata": {
        "id": "IWSpyak4onfG"
      },
      "source": [
        "- Since Embarked is having 2 null values so we will fill those values with the mode of the Embarked column"
      ]
    },
    {
      "cell_type": "code",
      "metadata": {
        "colab": {
          "base_uri": "https://localhost:8080/",
          "height": 35
        },
        "id": "w5XKOl5tvCXf",
        "outputId": "d4aa2c65-5c7c-4894-eb97-3aa96318989c"
      },
      "source": [
        "a=titanic_data['Embarked'].mode()[0]\n",
        "a"
      ],
      "execution_count": null,
      "outputs": [
        {
          "output_type": "execute_result",
          "data": {
            "application/vnd.google.colaboratory.intrinsic+json": {
              "type": "string"
            },
            "text/plain": [
              "'S'"
            ]
          },
          "metadata": {
            "tags": []
          },
          "execution_count": 14
        }
      ]
    },
    {
      "cell_type": "code",
      "metadata": {
        "id": "aMK9IneTsgkN"
      },
      "source": [
        "titanic_data.Embarked = titanic_data.Embarked.fillna(titanic_data['Embarked'].mode()[0]) # replacing the missing entries of Embarked with the mode"
      ],
      "execution_count": null,
      "outputs": []
    },
    {
      "cell_type": "markdown",
      "metadata": {
        "id": "0juVu539o016"
      },
      "source": [
        "- Since Age is having 177 missing entries, so we will fill the entries with the median of the Age column"
      ]
    },
    {
      "cell_type": "code",
      "metadata": {
        "id": "Z75OUc-JsgkP"
      },
      "source": [
        "median_age = titanic_data.Age.median()                                              \n",
        "titanic_data.Age.fillna(median_age, inplace = True)                                         # replacing the missing entries of the column Age with the median"
      ],
      "execution_count": null,
      "outputs": []
    },
    {
      "cell_type": "markdown",
      "metadata": {
        "id": "VSDZuB6JpPdy"
      },
      "source": [
        "- Since the column Cabin has lots of missing entries, so we are dropping that column from the data frame"
      ]
    },
    {
      "cell_type": "code",
      "metadata": {
        "id": "GeViBO2zsgkR"
      },
      "source": [
        "titanic_data.drop('Cabin', axis = 1,inplace = True)                                 # dropping the column Cabin as there are too many missing entries"
      ],
      "execution_count": null,
      "outputs": []
    },
    {
      "cell_type": "markdown",
      "metadata": {
        "id": "mjQXFb6rpaEL"
      },
      "source": [
        "- Since the columns PassengerID,Name and Ticket does not make any differences to our analysis, so we will drop those columns as well  "
      ]
    },
    {
      "cell_type": "code",
      "metadata": {
        "id": "G3ecEGrCpzkO"
      },
      "source": [
        "titanic_data.drop(['PassengerId','Name','Ticket'],axis=1,inplace=True)"
      ],
      "execution_count": null,
      "outputs": []
    },
    {
      "cell_type": "markdown",
      "metadata": {
        "id": "FHw_vO9xXaGs"
      },
      "source": [
        "- Creating a new column **FamilySize** by adding **SibSp** and **Parch** and **self**"
      ]
    },
    {
      "cell_type": "code",
      "metadata": {
        "id": "F5GAKbcosgkV"
      },
      "source": [
        "titanic_data['FamilySize'] = titanic_data['SibSp'] + titanic_data['Parch']+1"
      ],
      "execution_count": null,
      "outputs": []
    },
    {
      "cell_type": "markdown",
      "metadata": {
        "id": "_oOBNaoasgkW"
      },
      "source": [
        "- Segmenting __Sex__ column as per __Age__, Age less than 15 as __Child__, Age greater than 15 as __Males and Females__ as per their gender."
      ]
    },
    {
      "cell_type": "code",
      "metadata": {
        "id": "b_ip8kYIsgkW"
      },
      "source": [
        "titanic_data['People_Class'] = titanic_data.apply(lambda x: 'child' if x['Age'] < 15 else x['Sex'],axis=1)"
      ],
      "execution_count": null,
      "outputs": []
    },
    {
      "cell_type": "code",
      "metadata": {
        "colab": {
          "base_uri": "https://localhost:8080/"
        },
        "id": "bWcrjRmDxPml",
        "outputId": "619774b4-65f2-4bce-add8-fcd55aa69d88"
      },
      "source": [
        "titanic_data['People_Class'].unique()"
      ],
      "execution_count": null,
      "outputs": [
        {
          "output_type": "execute_result",
          "data": {
            "text/plain": [
              "array(['male', 'female', 'child'], dtype=object)"
            ]
          },
          "metadata": {
            "tags": []
          },
          "execution_count": 21
        }
      ]
    },
    {
      "cell_type": "code",
      "metadata": {
        "id": "3UGhyBoGsgkY",
        "colab": {
          "base_uri": "https://localhost:8080/",
          "height": 195
        },
        "outputId": "5707f885-ea6b-451b-83e2-b6f06d882aac"
      },
      "source": [
        "titanic_data[titanic_data.Age<15].head()   #displaying only the child class"
      ],
      "execution_count": null,
      "outputs": [
        {
          "output_type": "execute_result",
          "data": {
            "text/html": [
              "<div>\n",
              "<style scoped>\n",
              "    .dataframe tbody tr th:only-of-type {\n",
              "        vertical-align: middle;\n",
              "    }\n",
              "\n",
              "    .dataframe tbody tr th {\n",
              "        vertical-align: top;\n",
              "    }\n",
              "\n",
              "    .dataframe thead th {\n",
              "        text-align: right;\n",
              "    }\n",
              "</style>\n",
              "<table border=\"1\" class=\"dataframe\">\n",
              "  <thead>\n",
              "    <tr style=\"text-align: right;\">\n",
              "      <th></th>\n",
              "      <th>Survived</th>\n",
              "      <th>Ticket_Class</th>\n",
              "      <th>Sex</th>\n",
              "      <th>Age</th>\n",
              "      <th>SibSp</th>\n",
              "      <th>Parch</th>\n",
              "      <th>Fare</th>\n",
              "      <th>Embarked</th>\n",
              "      <th>FamilySize</th>\n",
              "      <th>People_Class</th>\n",
              "    </tr>\n",
              "  </thead>\n",
              "  <tbody>\n",
              "    <tr>\n",
              "      <th>7</th>\n",
              "      <td>0</td>\n",
              "      <td>3</td>\n",
              "      <td>male</td>\n",
              "      <td>2.0</td>\n",
              "      <td>3</td>\n",
              "      <td>1</td>\n",
              "      <td>21.0750</td>\n",
              "      <td>S</td>\n",
              "      <td>5</td>\n",
              "      <td>child</td>\n",
              "    </tr>\n",
              "    <tr>\n",
              "      <th>9</th>\n",
              "      <td>1</td>\n",
              "      <td>2</td>\n",
              "      <td>female</td>\n",
              "      <td>14.0</td>\n",
              "      <td>1</td>\n",
              "      <td>0</td>\n",
              "      <td>30.0708</td>\n",
              "      <td>C</td>\n",
              "      <td>2</td>\n",
              "      <td>child</td>\n",
              "    </tr>\n",
              "    <tr>\n",
              "      <th>10</th>\n",
              "      <td>1</td>\n",
              "      <td>3</td>\n",
              "      <td>female</td>\n",
              "      <td>4.0</td>\n",
              "      <td>1</td>\n",
              "      <td>1</td>\n",
              "      <td>16.7000</td>\n",
              "      <td>S</td>\n",
              "      <td>3</td>\n",
              "      <td>child</td>\n",
              "    </tr>\n",
              "    <tr>\n",
              "      <th>14</th>\n",
              "      <td>0</td>\n",
              "      <td>3</td>\n",
              "      <td>female</td>\n",
              "      <td>14.0</td>\n",
              "      <td>0</td>\n",
              "      <td>0</td>\n",
              "      <td>7.8542</td>\n",
              "      <td>S</td>\n",
              "      <td>1</td>\n",
              "      <td>child</td>\n",
              "    </tr>\n",
              "    <tr>\n",
              "      <th>16</th>\n",
              "      <td>0</td>\n",
              "      <td>3</td>\n",
              "      <td>male</td>\n",
              "      <td>2.0</td>\n",
              "      <td>4</td>\n",
              "      <td>1</td>\n",
              "      <td>29.1250</td>\n",
              "      <td>Q</td>\n",
              "      <td>6</td>\n",
              "      <td>child</td>\n",
              "    </tr>\n",
              "  </tbody>\n",
              "</table>\n",
              "</div>"
            ],
            "text/plain": [
              "    Survived  Ticket_Class     Sex  ...  Embarked  FamilySize  People_Class\n",
              "7          0             3    male  ...         S           5         child\n",
              "9          1             2  female  ...         C           2         child\n",
              "10         1             3  female  ...         S           3         child\n",
              "14         0             3  female  ...         S           1         child\n",
              "16         0             3    male  ...         Q           6         child\n",
              "\n",
              "[5 rows x 10 columns]"
            ]
          },
          "metadata": {
            "tags": []
          },
          "execution_count": 22
        }
      ]
    },
    {
      "cell_type": "code",
      "metadata": {
        "id": "do6Hdw4Wsgka",
        "colab": {
          "base_uri": "https://localhost:8080/",
          "height": 195
        },
        "outputId": "25ad565e-f428-40ed-edfd-df77f5d6de80"
      },
      "source": [
        "titanic_data[titanic_data.Age>15].head()"
      ],
      "execution_count": null,
      "outputs": [
        {
          "output_type": "execute_result",
          "data": {
            "text/html": [
              "<div>\n",
              "<style scoped>\n",
              "    .dataframe tbody tr th:only-of-type {\n",
              "        vertical-align: middle;\n",
              "    }\n",
              "\n",
              "    .dataframe tbody tr th {\n",
              "        vertical-align: top;\n",
              "    }\n",
              "\n",
              "    .dataframe thead th {\n",
              "        text-align: right;\n",
              "    }\n",
              "</style>\n",
              "<table border=\"1\" class=\"dataframe\">\n",
              "  <thead>\n",
              "    <tr style=\"text-align: right;\">\n",
              "      <th></th>\n",
              "      <th>Survived</th>\n",
              "      <th>Ticket_Class</th>\n",
              "      <th>Sex</th>\n",
              "      <th>Age</th>\n",
              "      <th>SibSp</th>\n",
              "      <th>Parch</th>\n",
              "      <th>Fare</th>\n",
              "      <th>Embarked</th>\n",
              "      <th>FamilySize</th>\n",
              "      <th>People_Class</th>\n",
              "    </tr>\n",
              "  </thead>\n",
              "  <tbody>\n",
              "    <tr>\n",
              "      <th>0</th>\n",
              "      <td>0</td>\n",
              "      <td>3</td>\n",
              "      <td>male</td>\n",
              "      <td>22.0</td>\n",
              "      <td>1</td>\n",
              "      <td>0</td>\n",
              "      <td>7.2500</td>\n",
              "      <td>S</td>\n",
              "      <td>2</td>\n",
              "      <td>male</td>\n",
              "    </tr>\n",
              "    <tr>\n",
              "      <th>1</th>\n",
              "      <td>1</td>\n",
              "      <td>1</td>\n",
              "      <td>female</td>\n",
              "      <td>38.0</td>\n",
              "      <td>1</td>\n",
              "      <td>0</td>\n",
              "      <td>71.2833</td>\n",
              "      <td>C</td>\n",
              "      <td>2</td>\n",
              "      <td>female</td>\n",
              "    </tr>\n",
              "    <tr>\n",
              "      <th>2</th>\n",
              "      <td>1</td>\n",
              "      <td>3</td>\n",
              "      <td>female</td>\n",
              "      <td>26.0</td>\n",
              "      <td>0</td>\n",
              "      <td>0</td>\n",
              "      <td>7.9250</td>\n",
              "      <td>S</td>\n",
              "      <td>1</td>\n",
              "      <td>female</td>\n",
              "    </tr>\n",
              "    <tr>\n",
              "      <th>3</th>\n",
              "      <td>1</td>\n",
              "      <td>1</td>\n",
              "      <td>female</td>\n",
              "      <td>35.0</td>\n",
              "      <td>1</td>\n",
              "      <td>0</td>\n",
              "      <td>53.1000</td>\n",
              "      <td>S</td>\n",
              "      <td>2</td>\n",
              "      <td>female</td>\n",
              "    </tr>\n",
              "    <tr>\n",
              "      <th>4</th>\n",
              "      <td>0</td>\n",
              "      <td>3</td>\n",
              "      <td>male</td>\n",
              "      <td>35.0</td>\n",
              "      <td>0</td>\n",
              "      <td>0</td>\n",
              "      <td>8.0500</td>\n",
              "      <td>S</td>\n",
              "      <td>1</td>\n",
              "      <td>male</td>\n",
              "    </tr>\n",
              "  </tbody>\n",
              "</table>\n",
              "</div>"
            ],
            "text/plain": [
              "   Survived  Ticket_Class     Sex  ...  Embarked  FamilySize  People_Class\n",
              "0         0             3    male  ...         S           2          male\n",
              "1         1             1  female  ...         C           2        female\n",
              "2         1             3  female  ...         S           1        female\n",
              "3         1             1  female  ...         S           2        female\n",
              "4         0             3    male  ...         S           1          male\n",
              "\n",
              "[5 rows x 10 columns]"
            ]
          },
          "metadata": {
            "tags": []
          },
          "execution_count": 23
        }
      ]
    },
    {
      "cell_type": "markdown",
      "metadata": {
        "id": "iuaIykfNrDfG"
      },
      "source": [
        "- Since male and female does'not look suitable for People_Class so let's change it to Man and Woman respectively "
      ]
    },
    {
      "cell_type": "code",
      "metadata": {
        "id": "CsyiZ2KErUvt",
        "colab": {
          "base_uri": "https://localhost:8080/",
          "height": 195
        },
        "outputId": "0c586916-18eb-4d1a-a650-fab99cbf6f9e"
      },
      "source": [
        "titanic_data['People_Class']=titanic_data['People_Class'].map({'male':'Man','female':'Woman','child':'Children'})\n",
        "titanic_data.head()"
      ],
      "execution_count": null,
      "outputs": [
        {
          "output_type": "execute_result",
          "data": {
            "text/html": [
              "<div>\n",
              "<style scoped>\n",
              "    .dataframe tbody tr th:only-of-type {\n",
              "        vertical-align: middle;\n",
              "    }\n",
              "\n",
              "    .dataframe tbody tr th {\n",
              "        vertical-align: top;\n",
              "    }\n",
              "\n",
              "    .dataframe thead th {\n",
              "        text-align: right;\n",
              "    }\n",
              "</style>\n",
              "<table border=\"1\" class=\"dataframe\">\n",
              "  <thead>\n",
              "    <tr style=\"text-align: right;\">\n",
              "      <th></th>\n",
              "      <th>Survived</th>\n",
              "      <th>Ticket_Class</th>\n",
              "      <th>Sex</th>\n",
              "      <th>Age</th>\n",
              "      <th>SibSp</th>\n",
              "      <th>Parch</th>\n",
              "      <th>Fare</th>\n",
              "      <th>Embarked</th>\n",
              "      <th>FamilySize</th>\n",
              "      <th>People_Class</th>\n",
              "    </tr>\n",
              "  </thead>\n",
              "  <tbody>\n",
              "    <tr>\n",
              "      <th>0</th>\n",
              "      <td>0</td>\n",
              "      <td>3</td>\n",
              "      <td>male</td>\n",
              "      <td>22.0</td>\n",
              "      <td>1</td>\n",
              "      <td>0</td>\n",
              "      <td>7.2500</td>\n",
              "      <td>S</td>\n",
              "      <td>2</td>\n",
              "      <td>Man</td>\n",
              "    </tr>\n",
              "    <tr>\n",
              "      <th>1</th>\n",
              "      <td>1</td>\n",
              "      <td>1</td>\n",
              "      <td>female</td>\n",
              "      <td>38.0</td>\n",
              "      <td>1</td>\n",
              "      <td>0</td>\n",
              "      <td>71.2833</td>\n",
              "      <td>C</td>\n",
              "      <td>2</td>\n",
              "      <td>Woman</td>\n",
              "    </tr>\n",
              "    <tr>\n",
              "      <th>2</th>\n",
              "      <td>1</td>\n",
              "      <td>3</td>\n",
              "      <td>female</td>\n",
              "      <td>26.0</td>\n",
              "      <td>0</td>\n",
              "      <td>0</td>\n",
              "      <td>7.9250</td>\n",
              "      <td>S</td>\n",
              "      <td>1</td>\n",
              "      <td>Woman</td>\n",
              "    </tr>\n",
              "    <tr>\n",
              "      <th>3</th>\n",
              "      <td>1</td>\n",
              "      <td>1</td>\n",
              "      <td>female</td>\n",
              "      <td>35.0</td>\n",
              "      <td>1</td>\n",
              "      <td>0</td>\n",
              "      <td>53.1000</td>\n",
              "      <td>S</td>\n",
              "      <td>2</td>\n",
              "      <td>Woman</td>\n",
              "    </tr>\n",
              "    <tr>\n",
              "      <th>4</th>\n",
              "      <td>0</td>\n",
              "      <td>3</td>\n",
              "      <td>male</td>\n",
              "      <td>35.0</td>\n",
              "      <td>0</td>\n",
              "      <td>0</td>\n",
              "      <td>8.0500</td>\n",
              "      <td>S</td>\n",
              "      <td>1</td>\n",
              "      <td>Man</td>\n",
              "    </tr>\n",
              "  </tbody>\n",
              "</table>\n",
              "</div>"
            ],
            "text/plain": [
              "   Survived  Ticket_Class     Sex  ...  Embarked  FamilySize  People_Class\n",
              "0         0             3    male  ...         S           2           Man\n",
              "1         1             1  female  ...         C           2         Woman\n",
              "2         1             3  female  ...         S           1         Woman\n",
              "3         1             1  female  ...         S           2         Woman\n",
              "4         0             3    male  ...         S           1           Man\n",
              "\n",
              "[5 rows x 10 columns]"
            ]
          },
          "metadata": {
            "tags": []
          },
          "execution_count": 24
        }
      ]
    },
    {
      "cell_type": "code",
      "metadata": {
        "id": "L7ekmx_vsVgp",
        "colab": {
          "base_uri": "https://localhost:8080/",
          "height": 195
        },
        "outputId": "aa29248e-1b7a-4a77-ff6c-55ee2c42dbb7"
      },
      "source": [
        "titanic_data[titanic_data.Age<15].head() "
      ],
      "execution_count": null,
      "outputs": [
        {
          "output_type": "execute_result",
          "data": {
            "text/html": [
              "<div>\n",
              "<style scoped>\n",
              "    .dataframe tbody tr th:only-of-type {\n",
              "        vertical-align: middle;\n",
              "    }\n",
              "\n",
              "    .dataframe tbody tr th {\n",
              "        vertical-align: top;\n",
              "    }\n",
              "\n",
              "    .dataframe thead th {\n",
              "        text-align: right;\n",
              "    }\n",
              "</style>\n",
              "<table border=\"1\" class=\"dataframe\">\n",
              "  <thead>\n",
              "    <tr style=\"text-align: right;\">\n",
              "      <th></th>\n",
              "      <th>Survived</th>\n",
              "      <th>Ticket_Class</th>\n",
              "      <th>Sex</th>\n",
              "      <th>Age</th>\n",
              "      <th>SibSp</th>\n",
              "      <th>Parch</th>\n",
              "      <th>Fare</th>\n",
              "      <th>Embarked</th>\n",
              "      <th>FamilySize</th>\n",
              "      <th>People_Class</th>\n",
              "    </tr>\n",
              "  </thead>\n",
              "  <tbody>\n",
              "    <tr>\n",
              "      <th>7</th>\n",
              "      <td>0</td>\n",
              "      <td>3</td>\n",
              "      <td>male</td>\n",
              "      <td>2.0</td>\n",
              "      <td>3</td>\n",
              "      <td>1</td>\n",
              "      <td>21.0750</td>\n",
              "      <td>S</td>\n",
              "      <td>5</td>\n",
              "      <td>Children</td>\n",
              "    </tr>\n",
              "    <tr>\n",
              "      <th>9</th>\n",
              "      <td>1</td>\n",
              "      <td>2</td>\n",
              "      <td>female</td>\n",
              "      <td>14.0</td>\n",
              "      <td>1</td>\n",
              "      <td>0</td>\n",
              "      <td>30.0708</td>\n",
              "      <td>C</td>\n",
              "      <td>2</td>\n",
              "      <td>Children</td>\n",
              "    </tr>\n",
              "    <tr>\n",
              "      <th>10</th>\n",
              "      <td>1</td>\n",
              "      <td>3</td>\n",
              "      <td>female</td>\n",
              "      <td>4.0</td>\n",
              "      <td>1</td>\n",
              "      <td>1</td>\n",
              "      <td>16.7000</td>\n",
              "      <td>S</td>\n",
              "      <td>3</td>\n",
              "      <td>Children</td>\n",
              "    </tr>\n",
              "    <tr>\n",
              "      <th>14</th>\n",
              "      <td>0</td>\n",
              "      <td>3</td>\n",
              "      <td>female</td>\n",
              "      <td>14.0</td>\n",
              "      <td>0</td>\n",
              "      <td>0</td>\n",
              "      <td>7.8542</td>\n",
              "      <td>S</td>\n",
              "      <td>1</td>\n",
              "      <td>Children</td>\n",
              "    </tr>\n",
              "    <tr>\n",
              "      <th>16</th>\n",
              "      <td>0</td>\n",
              "      <td>3</td>\n",
              "      <td>male</td>\n",
              "      <td>2.0</td>\n",
              "      <td>4</td>\n",
              "      <td>1</td>\n",
              "      <td>29.1250</td>\n",
              "      <td>Q</td>\n",
              "      <td>6</td>\n",
              "      <td>Children</td>\n",
              "    </tr>\n",
              "  </tbody>\n",
              "</table>\n",
              "</div>"
            ],
            "text/plain": [
              "    Survived  Ticket_Class     Sex  ...  Embarked  FamilySize  People_Class\n",
              "7          0             3    male  ...         S           5      Children\n",
              "9          1             2  female  ...         C           2      Children\n",
              "10         1             3  female  ...         S           3      Children\n",
              "14         0             3  female  ...         S           1      Children\n",
              "16         0             3    male  ...         Q           6      Children\n",
              "\n",
              "[5 rows x 10 columns]"
            ]
          },
          "metadata": {
            "tags": []
          },
          "execution_count": 25
        }
      ]
    },
    {
      "cell_type": "markdown",
      "metadata": {
        "id": "QQAdl6ZUsgkb"
      },
      "source": [
        "## 5.4 Post Pandas Profiling"
      ]
    },
    {
      "cell_type": "code",
      "metadata": {
        "id": "Gsxc34BAsgkc"
      },
      "source": [
        "import pandas_profiling\n",
        "profile = pandas_profiling.ProfileReport(titanic_data)\n",
        "profile.to_file(outputfile=\"titanic_after_preprocessing.html\")"
      ],
      "execution_count": null,
      "outputs": []
    },
    {
      "cell_type": "markdown",
      "metadata": {
        "id": "AonLku2psgke"
      },
      "source": [
        "Now we have preprocessed the data, now the dataset doesnot contain missing values, we have also introduced new feature named __FamilySize__. So, the pandas profiling report which we have generated after preprocessing will give us more beneficial insights. You can compare the two reports, i.e __titanic_after_preprocessing.html__ and titanic_before_preprocessing.html.<br/>\n",
        "In titanic_after_preprocessing.html report, observations:\n",
        "- In the Dataset info, Total __Missing(%)__ = __0.0%__ \n",
        "- Number of __variables__ = __13__ \n",
        "- Observe the newly created variable FamilySize, Click on Toggle details to get more detailed information about it."
      ]
    },
    {
      "cell_type": "markdown",
      "metadata": {
        "id": "KHR4KFQdsgke"
      },
      "source": [
        "<a id=section4></a>"
      ]
    },
    {
      "cell_type": "markdown",
      "metadata": {
        "id": "C6hOaFB0sgke"
      },
      "source": [
        "### 6. Exploratory Data Analysis"
      ]
    },
    {
      "cell_type": "markdown",
      "metadata": {
        "id": "gig9VlDesigX"
      },
      "source": [
        "### 6.1. What was the demographic structure of Titanic passengers?"
      ]
    },
    {
      "cell_type": "code",
      "metadata": {
        "id": "Puxf8Kovs3rX",
        "colab": {
          "base_uri": "https://localhost:8080/"
        },
        "outputId": "c4af04a0-c90b-4471-abaa-bb00b4f51391"
      },
      "source": [
        "titanic_age_groups = pd.cut(titanic_data[\"Age\"], bins=[0, 15, 25, 40, 60, 80]).value_counts().sort_index()\n",
        "titanic_age_groups"
      ],
      "execution_count": null,
      "outputs": [
        {
          "output_type": "execute_result",
          "data": {
            "text/plain": [
              "(0, 15]      83\n",
              "(15, 25]    218\n",
              "(25, 40]    263\n",
              "(40, 60]    128\n",
              "(60, 80]     22\n",
              "Name: Age, dtype: int64"
            ]
          },
          "metadata": {
            "tags": []
          },
          "execution_count": 10
        }
      ]
    },
    {
      "cell_type": "markdown",
      "metadata": {
        "id": "blKYE0JTuJrn"
      },
      "source": [
        "- 83 passengers were children in age 0-15. A little over 200 of passengers were both between 15-25 and 263 of them were 25-40 years old. Almost 128 of all passengers were 40-60 years old. Only 22 of all passengers were above 60 years old. That tells us that Titanic passengers population was quite young."
      ]
    },
    {
      "cell_type": "code",
      "metadata": {
        "id": "gmH8A3KZvWFc",
        "colab": {
          "base_uri": "https://localhost:8080/"
        },
        "outputId": "76d25b7a-72a4-4dbd-a6ba-a244d0c8d89e"
      },
      "source": [
        "titanic_data[\"Age\"].describe()"
      ],
      "execution_count": null,
      "outputs": [
        {
          "output_type": "execute_result",
          "data": {
            "text/plain": [
              "count    714.000000\n",
              "mean      29.699118\n",
              "std       14.526497\n",
              "min        0.420000\n",
              "25%       20.125000\n",
              "50%       28.000000\n",
              "75%       38.000000\n",
              "max       80.000000\n",
              "Name: Age, dtype: float64"
            ]
          },
          "metadata": {
            "tags": []
          },
          "execution_count": 11
        }
      ]
    },
    {
      "cell_type": "markdown",
      "metadata": {
        "id": "LagBnTucvjoW"
      },
      "source": [
        "- You can notice that the youngest passenger was 5 months old (0.42 year old). Let's see who he or she was?"
      ]
    },
    {
      "cell_type": "code",
      "metadata": {
        "id": "8gIdzpUWvaSo",
        "colab": {
          "base_uri": "https://localhost:8080/"
        },
        "outputId": "c85de5d3-ad48-4355-fa59-7dfea3c08644"
      },
      "source": [
        "titanic_data.loc[titanic_data[\"Age\"].argmin()]"
      ],
      "execution_count": null,
      "outputs": [
        {
          "output_type": "stream",
          "text": [
            "/usr/local/lib/python3.7/dist-packages/ipykernel_launcher.py:1: FutureWarning: \n",
            "The current behaviour of 'Series.argmin' is deprecated, use 'idxmin'\n",
            "instead.\n",
            "The behavior of 'argmin' will be corrected to return the positional\n",
            "minimum in the future. For now, use 'series.values.argmin' or\n",
            "'np.argmin(np.array(values))' to get the position of the minimum\n",
            "row.\n",
            "  \"\"\"Entry point for launching an IPython kernel.\n"
          ],
          "name": "stderr"
        },
        {
          "output_type": "execute_result",
          "data": {
            "text/plain": [
              "Survived               1\n",
              "Ticket_Class           3\n",
              "Sex                 male\n",
              "Age                 0.42\n",
              "SibSp                  0\n",
              "Parch                  1\n",
              "Fare              8.5167\n",
              "Embarked               C\n",
              "FamilySize             2\n",
              "People_Class    Children\n",
              "Name: 803, dtype: object"
            ]
          },
          "metadata": {
            "tags": []
          },
          "execution_count": 26
        }
      ]
    },
    {
      "cell_type": "markdown",
      "metadata": {
        "id": "7ibHoBpQwHfc"
      },
      "source": [
        "- It was a boy named Assed Alexander Thomas born in Hardīn, Lebanon on 8 November 1911.\n",
        "\n",
        "- From the above information we can see that the child survived"
      ]
    },
    {
      "cell_type": "code",
      "metadata": {
        "id": "ecu18NTENLk9",
        "colab": {
          "base_uri": "https://localhost:8080/"
        },
        "outputId": "29b1f751-89b0-403d-cb92-da40d4f8167b"
      },
      "source": [
        "titanic_sibsp = titanic_data[\"SibSp\"].value_counts()\n",
        "titanic_sibsp"
      ],
      "execution_count": null,
      "outputs": [
        {
          "output_type": "execute_result",
          "data": {
            "text/plain": [
              "0    608\n",
              "1    209\n",
              "2     28\n",
              "4     18\n",
              "3     16\n",
              "8      7\n",
              "5      5\n",
              "Name: SibSp, dtype: int64"
            ]
          },
          "metadata": {
            "tags": []
          },
          "execution_count": 27
        }
      ]
    },
    {
      "cell_type": "markdown",
      "metadata": {
        "id": "IkPbtnToNWej"
      },
      "source": [
        "Observations:\n",
        "\n",
        "- 608 passengers travelled without any siblings or spouse. \n",
        "\n",
        "- 209 passengers travelled with one child or spouse. \n",
        "\n",
        "- Only 74 passengers traveled with more than one sibling or spouse."
      ]
    },
    {
      "cell_type": "code",
      "metadata": {
        "id": "NFYBPl5vN_DN",
        "colab": {
          "base_uri": "https://localhost:8080/"
        },
        "outputId": "4c4dcbae-efa7-4b8d-a047-33fd30643c6d"
      },
      "source": [
        "titanic_parch = titanic_data[\"Parch\"].value_counts()\n",
        "titanic_parch"
      ],
      "execution_count": null,
      "outputs": [
        {
          "output_type": "execute_result",
          "data": {
            "text/plain": [
              "0    678\n",
              "1    118\n",
              "2     80\n",
              "5      5\n",
              "3      5\n",
              "4      4\n",
              "6      1\n",
              "Name: Parch, dtype: int64"
            ]
          },
          "metadata": {
            "tags": []
          },
          "execution_count": 28
        }
      ]
    },
    {
      "cell_type": "markdown",
      "metadata": {
        "id": "pDl6QOdbOIBG"
      },
      "source": [
        "The situation is pretty similar in case of passengers travelling with parents or children. \n",
        "\n",
        "- Most of them (678) travelled alone and 118 travelled with just one parent or children. \n",
        "\n",
        "- 95 passengers travelled with two and more parents or children."
      ]
    },
    {
      "cell_type": "code",
      "metadata": {
        "id": "zPUMiT1hOeyI",
        "colab": {
          "base_uri": "https://localhost:8080/"
        },
        "outputId": "89d101ba-1c5e-4893-9b1c-383493531bef"
      },
      "source": [
        "titanic_fare_groups = pd.cut(titanic_data[\"Fare\"], bins=[0, 30, 60, 150, 550]).value_counts().sort_index()\n",
        "titanic_fare_groups"
      ],
      "execution_count": null,
      "outputs": [
        {
          "output_type": "execute_result",
          "data": {
            "text/plain": [
              "(0, 40]       700\n",
              "(40, 60]       54\n",
              "(60, 150]      93\n",
              "(150, 550]     29\n",
              "Name: Fare, dtype: int64"
            ]
          },
          "metadata": {
            "tags": []
          },
          "execution_count": 29
        }
      ]
    },
    {
      "cell_type": "markdown",
      "metadata": {
        "id": "suBijJ4HPTad"
      },
      "source": [
        "- The first class tickets ranged enormously in price, from 150 dollars for a simple berth, up to 512 dollars for one of the two Parlour suites. \n",
        "\n",
        "- Second class tickets were 60 dollars and third class passengers paid between 15 and 40 dollars."
      ]
    },
    {
      "cell_type": "code",
      "metadata": {
        "id": "k4xEhw-jRYQk",
        "colab": {
          "base_uri": "https://localhost:8080/"
        },
        "outputId": "82c22d1d-7029-421d-ba58-50892e922f10"
      },
      "source": [
        "titanic_embarked = titanic_data[\"Embarked\"].value_counts()\n",
        "titanic_embarked.index = [\"Southampton\", \"Cherbourg\", \"Queenstown\"]\n",
        "titanic_embarked"
      ],
      "execution_count": null,
      "outputs": [
        {
          "output_type": "execute_result",
          "data": {
            "text/plain": [
              "Southampton    646\n",
              "Cherbourg      168\n",
              "Queenstown      77\n",
              "Name: Embarked, dtype: int64"
            ]
          },
          "metadata": {
            "tags": []
          },
          "execution_count": 30
        }
      ]
    },
    {
      "cell_type": "markdown",
      "metadata": {
        "id": "fuxlMQuPRue1"
      },
      "source": [
        "- We can see that vast majority of passengers, 644, embarked in Southampton), 168 embarked in Cherbourg and only 77 of passengers embarked Titanic in Queenstown."
      ]
    },
    {
      "cell_type": "markdown",
      "metadata": {
        "id": "aK2Ay8d_R8Gh"
      },
      "source": [
        "### 6.2. What is the survival ratio of Titanic passengers?\n",
        "\n",
        "Survival ratio metric is defined as the ratio between the number of survived passengers and the overall number of passengers."
      ]
    },
    {
      "cell_type": "code",
      "metadata": {
        "id": "41TVk-0iSD7G",
        "colab": {
          "base_uri": "https://localhost:8080/"
        },
        "outputId": "8babcb91-f29c-4a4f-f67f-45936319a09b"
      },
      "source": [
        "titanic_survived = titanic_data[\"Survived\"].value_counts(sort=False)\n",
        "titanic_survived.index = [\"Not Survived\", \"Survived\"]\n",
        "titanic_survived"
      ],
      "execution_count": null,
      "outputs": [
        {
          "output_type": "execute_result",
          "data": {
            "text/plain": [
              "Not Survived    549\n",
              "Survived        342\n",
              "Name: Survived, dtype: int64"
            ]
          },
          "metadata": {
            "tags": []
          },
          "execution_count": 31
        }
      ]
    },
    {
      "cell_type": "code",
      "metadata": {
        "id": "TR7MqmxbWEU_"
      },
      "source": [
        "def get_survival_ratio(passengers_df):\n",
        "    return passengers_df[\"Survived\"].sum()/passengers_df[\"Survived\"].count()"
      ],
      "execution_count": null,
      "outputs": []
    },
    {
      "cell_type": "code",
      "metadata": {
        "id": "ZhISpfggWOIO",
        "colab": {
          "base_uri": "https://localhost:8080/"
        },
        "outputId": "76a9f08f-f0bd-4fa6-f074-d8eac01c7d87"
      },
      "source": [
        "survival_ratio = get_survival_ratio(titanic_data)\n",
        "survival_ratio"
      ],
      "execution_count": null,
      "outputs": [
        {
          "output_type": "execute_result",
          "data": {
            "text/plain": [
              "0.3838383838383838"
            ]
          },
          "metadata": {
            "tags": []
          },
          "execution_count": 33
        }
      ]
    },
    {
      "cell_type": "markdown",
      "metadata": {
        "id": "8VF-UVy3Wg1S"
      },
      "source": [
        "- Out of 891 passengers only 342 survived and 549 died. The Titanic survival ratio is approximately 0.38, meaning that only 38% of all passengers survived the disaster. That is really small percentage."
      ]
    },
    {
      "cell_type": "markdown",
      "metadata": {
        "id": "zTNisCFqsgkf"
      },
      "source": [
        "- Using Countplot"
      ]
    },
    {
      "cell_type": "code",
      "metadata": {
        "_cell_guid": "d2bd2723-3a68-4e94-a629-7a0fca99cb2a",
        "_uuid": "3fe99f565401dae73cfecd3fb2cf8dc201119b36",
        "id": "SB7WEj3Ksgkf",
        "colab": {
          "base_uri": "https://localhost:8080/",
          "height": 546
        },
        "outputId": "dea8bfa8-4646-460f-d699-d1731580035b"
      },
      "source": [
        "sns.countplot(x='Survived', data=titanic_data).set_title('Count plot for Survived')"
      ],
      "execution_count": null,
      "outputs": [
        {
          "output_type": "execute_result",
          "data": {
            "text/plain": [
              "Text(0.5, 1.0, 'Count plot for Survived')"
            ]
          },
          "metadata": {
            "tags": []
          },
          "execution_count": 34
        },
        {
          "output_type": "display_data",
          "data": {
            "image/png": "[encoded data removed]",
            "text/plain": [
              "<Figure size 800x550 with 1 Axes>"
            ]
          },
          "metadata": {
            "tags": []
          }
        }
      ]
    },
    {
      "cell_type": "markdown",
      "metadata": {
        "_cell_guid": "1babbbf7-085d-4141-b29a-f9fd8f388e46",
        "_uuid": "efa6e3dbb66ca31c8aa1a2e4ec934c00bbf2e411",
        "id": "R2IUOFXBsgkh"
      },
      "source": [
        "**Observations:**\n",
        "- You can see that __more people died than survived.__ \n",
        "\n"
      ]
    },
    {
      "cell_type": "markdown",
      "metadata": {
        "_cell_guid": "d9cd643d-14a4-43e6-8eeb-53fca5e2ffb1",
        "_uuid": "fdc97f58b646df5993d1e90ff28abfa2b41b1425",
        "id": "P2CmdrjDsgkk"
      },
      "source": [
        "### 6.3. Who is more likely to survive Men, Women or Children?"
      ]
    },
    {
      "cell_type": "markdown",
      "metadata": {
        "id": "OSIm16w9sgkk"
      },
      "source": [
        "- First of all looking at how __Age is varying with gender.__"
      ]
    },
    {
      "cell_type": "code",
      "metadata": {
        "id": "U92Eq5yusgkk",
        "colab": {
          "base_uri": "https://localhost:8080/",
          "height": 249
        },
        "outputId": "eed937ee-ff61-4ef6-fa6d-2084fd0b3798"
      },
      "source": [
        "as_fig = sns.FacetGrid(titanic_data,hue='People_Class',aspect=5)\n",
        "\n",
        "as_fig.map(sns.kdeplot,'Age',shade=True)\n",
        "\n",
        "oldest = titanic_data['Age'].max()\n",
        "\n",
        "as_fig.set(xlim=(0,oldest))\n",
        "\n",
        "as_fig.add_legend()\n",
        "plt.title('Age distribution using FacetGrid')"
      ],
      "execution_count": null,
      "outputs": [
        {
          "output_type": "execute_result",
          "data": {
            "text/plain": [
              "Text(0.5, 1.0, 'Age distribution using FacetGrid')"
            ]
          },
          "metadata": {
            "tags": []
          },
          "execution_count": 35
        },
        {
          "output_type": "display_data",
          "data": {
            "image/png": "[encoded data removed]",
            "text/plain": [
              "<Figure size 1602x300 with 1 Axes>"
            ]
          },
          "metadata": {
            "tags": []
          }
        }
      ]
    },
    {
      "cell_type": "markdown",
      "metadata": {
        "id": "KQmhEyWfsgkm"
      },
      "source": [
        "**Observations:**\n",
        "- In titanic RMS __Children__ of Age __3-8__ yrs are in majority.\n",
        "- Maximum __Men and Women__ are of Age __25-35__ yrs. "
      ]
    },
    {
      "cell_type": "markdown",
      "metadata": {
        "id": "rXDDl3orsgkn"
      },
      "source": [
        "Using groupby"
      ]
    },
    {
      "cell_type": "code",
      "metadata": {
        "_cell_guid": "d6dd2033-80b8-44c6-8d91-95a7353552fd",
        "_uuid": "1b7ef6637506ba053434c3e0b0b3f0bc0cf4d01d",
        "id": "WpAorR98sgkn"
      },
      "source": [
        "titanic_data.groupby(['Survived','People_Class'])['Survived'].count()"
      ],
      "execution_count": null,
      "outputs": []
    },
    {
      "cell_type": "markdown",
      "metadata": {
        "id": "0FIo59RXsgkp"
      },
      "source": [
        "**Observations:**\n",
        "- From the above you can see that its __difficult__ to absorb information quickly by looking at __numbers.__ Therefore we will make variety of plots to get clear vision of the scenario."
      ]
    },
    {
      "cell_type": "markdown",
      "metadata": {
        "id": "YKUgs9YZsgkp"
      },
      "source": [
        "- Using factorplot "
      ]
    },
    {
      "cell_type": "code",
      "metadata": {
        "_cell_guid": "b1f97218-9ef5-43b3-b946-e067827a6693",
        "_uuid": "1e13eaa5a0070378fc59f3a87c3862b1eb0a804a",
        "scrolled": true,
        "id": "1eVBmqr1sgkp",
        "colab": {
          "base_uri": "https://localhost:8080/",
          "height": 654
        },
        "outputId": "bf95de96-aaf7-4aa1-8066-1de4474f7393"
      },
      "source": [
        "sns.factorplot('People_Class', hue='Survived', kind='count', data=titanic_data);\n",
        "plt.title('Factor plot for man woman and children')"
      ],
      "execution_count": null,
      "outputs": [
        {
          "output_type": "stream",
          "text": [
            "/usr/local/lib/python3.7/dist-packages/seaborn/categorical.py:3714: UserWarning: The `factorplot` function has been renamed to `catplot`. The original name will be removed in a future release. Please update your code. Note that the default `kind` in `factorplot` (`'point'`) has changed `'strip'` in `catplot`.\n",
            "  warnings.warn(msg)\n",
            "/usr/local/lib/python3.7/dist-packages/seaborn/_decorators.py:43: FutureWarning: Pass the following variable as a keyword arg: x. From version 0.12, the only valid positional argument will be `data`, and passing other arguments without an explicit keyword will result in an error or misinterpretation.\n",
            "  FutureWarning\n"
          ],
          "name": "stderr"
        },
        {
          "output_type": "execute_result",
          "data": {
            "text/plain": [
              "Text(0.5, 1.0, 'Factor plot for man woman and children')"
            ]
          },
          "metadata": {
            "tags": []
          },
          "execution_count": 36
        },
        {
          "output_type": "display_data",
          "data": {
            "image/png": "[encoded data removed]",
            "text/plain": [
              "<Figure size 565.486x500 with 1 Axes>"
            ]
          },
          "metadata": {
            "tags": []
          }
        }
      ]
    },
    {
      "cell_type": "markdown",
      "metadata": {
        "id": "cr83Mr_5sgkr"
      },
      "source": [
        "**Observations:**\n",
        "- Majority of __males died__.\n",
        "- __Females__ have high probability to __survive.__"
      ]
    },
    {
      "cell_type": "markdown",
      "metadata": {
        "id": "b85o3MUWsgkr"
      },
      "source": [
        "To know the exact %"
      ]
    },
    {
      "cell_type": "code",
      "metadata": {
        "_cell_guid": "4a6f8e4e-c58f-4f6f-9287-9f9a741431da",
        "_uuid": "11444fc10bb62ac315a6ab2114b9ff54dde3d45e",
        "id": "TNfr-EYPsgkr",
        "colab": {
          "base_uri": "https://localhost:8080/"
        },
        "outputId": "b91a5b4c-fcde-4918-9c00-0d82682dd2f9"
      },
      "source": [
        "print(\"% of women survived: \" , titanic_data[titanic_data.People_Class == 'Woman']['Survived'].sum()/titanic_data[titanic_data.People_Class == 'Woman']['Survived'].count())\n",
        "print(\"% of men survived:   \" , titanic_data[titanic_data.People_Class == 'Man']['Survived'].sum()/titanic_data[titanic_data.People_Class == 'Man']['Survived'].count())\n",
        "print(\"% of child survived:   \" , titanic_data[titanic_data.People_Class == 'Children']['Survived'].sum()/titanic_data[titanic_data.People_Class == 'Children']['Survived'].count())"
      ],
      "execution_count": null,
      "outputs": [
        {
          "output_type": "stream",
          "text": [
            "% of women survived:  0.76\n",
            "% of men survived:    0.16356877323420074\n",
            "% of child survived:    0.5769230769230769\n"
          ],
          "name": "stdout"
        }
      ]
    },
    {
      "cell_type": "markdown",
      "metadata": {
        "id": "VA3WOCuasgkt"
      },
      "source": [
        "- Using pie plot"
      ]
    },
    {
      "cell_type": "code",
      "metadata": {
        "_cell_guid": "fbbf541c-ae16-4f7e-a462-fdd6f9898440",
        "_uuid": "3994bc6102c107006edc0854ea7663eea2c030d2",
        "id": "fOxvXvOssgkt",
        "colab": {
          "base_uri": "https://localhost:8080/",
          "height": 620
        },
        "outputId": "d5546d62-61a2-4c38-9421-4ebdfecf35bf"
      },
      "source": [
        "f,ax = plt.subplots(1,3,figsize=(20,7))\n",
        "titanic_data['Survived'][titanic_data['People_Class'] == 'Man'].value_counts().plot.pie(explode=[0,0.2],autopct='%1.1f%%',ax=ax[0],shadow=True)\n",
        "titanic_data['Survived'][titanic_data['People_Class'] == 'Woman'].value_counts().plot.pie(explode=[0,0.2],autopct='%1.1f%%',ax=ax[1],shadow=True)\n",
        "titanic_data['Survived'][titanic_data['People_Class'] == 'Children'].value_counts().plot.pie(explode=[0,0.2],autopct='%1.1f%%',ax=ax[2],shadow=True)\n",
        "ax[0].set_title('Survived (Man)')\n",
        "ax[1].set_title('Survived (Woman)')\n",
        "ax[2].set_title('Survived (Children)')\n"
      ],
      "execution_count": null,
      "outputs": [
        {
          "output_type": "stream",
          "text": [
            "/usr/local/lib/python3.7/dist-packages/pandas/plotting/_matplotlib/tools.py:307: MatplotlibDeprecationWarning: \n",
            "The rowNum attribute was deprecated in Matplotlib 3.2 and will be removed two minor releases later. Use ax.get_subplotspec().rowspan.start instead.\n",
            "  layout[ax.rowNum, ax.colNum] = ax.get_visible()\n",
            "/usr/local/lib/python3.7/dist-packages/pandas/plotting/_matplotlib/tools.py:307: MatplotlibDeprecationWarning: \n",
            "The colNum attribute was deprecated in Matplotlib 3.2 and will be removed two minor releases later. Use ax.get_subplotspec().colspan.start instead.\n",
            "  layout[ax.rowNum, ax.colNum] = ax.get_visible()\n",
            "/usr/local/lib/python3.7/dist-packages/pandas/plotting/_matplotlib/tools.py:313: MatplotlibDeprecationWarning: \n",
            "The rowNum attribute was deprecated in Matplotlib 3.2 and will be removed two minor releases later. Use ax.get_subplotspec().rowspan.start instead.\n",
            "  if not layout[ax.rowNum + 1, ax.colNum]:\n",
            "/usr/local/lib/python3.7/dist-packages/pandas/plotting/_matplotlib/tools.py:313: MatplotlibDeprecationWarning: \n",
            "The colNum attribute was deprecated in Matplotlib 3.2 and will be removed two minor releases later. Use ax.get_subplotspec().colspan.start instead.\n",
            "  if not layout[ax.rowNum + 1, ax.colNum]:\n"
          ],
          "name": "stderr"
        },
        {
          "output_type": "execute_result",
          "data": {
            "text/plain": [
              "Text(0.5, 1.0, 'Survived (Children)')"
            ]
          },
          "metadata": {
            "tags": []
          },
          "execution_count": 38
        },
        {
          "output_type": "display_data",
          "data": {
            "image/png": "[encoded data removed]",
            "text/plain": [
              "<Figure size 2000x700 with 3 Axes>"
            ]
          },
          "metadata": {
            "tags": []
          }
        }
      ]
    },
    {
      "cell_type": "markdown",
      "metadata": {
        "id": "6MxgSC-qsgkv"
      },
      "source": [
        "**Observations:**\n",
        "- __76% of woman__ survived.\n",
        "- __57% of children__ also survived.\n",
        "- Only __16% of man__ survived."
      ]
    },
    {
      "cell_type": "code",
      "metadata": {
        "id": "W8Vd2itIsgkv",
        "colab": {
          "base_uri": "https://localhost:8080/"
        },
        "outputId": "8a2f34e5-1a1f-45e5-a8d7-24de77ca5bfa"
      },
      "source": [
        "titanic_data['Survived'][titanic_data['People_Class'] == 'Man'].value_counts()       #count of men survived and died"
      ],
      "execution_count": null,
      "outputs": [
        {
          "output_type": "execute_result",
          "data": {
            "text/plain": [
              "0    450\n",
              "1     88\n",
              "Name: Survived, dtype: int64"
            ]
          },
          "metadata": {
            "tags": []
          },
          "execution_count": 39
        }
      ]
    },
    {
      "cell_type": "code",
      "metadata": {
        "id": "uYMz-BNpsgkx",
        "colab": {
          "base_uri": "https://localhost:8080/"
        },
        "outputId": "9e955d37-0af5-43d6-c211-65d8f5d57b9a"
      },
      "source": [
        "titanic_data['Survived'][titanic_data['People_Class'] == 'Woman'].value_counts()     #count of women survived and died   "
      ],
      "execution_count": null,
      "outputs": [
        {
          "output_type": "execute_result",
          "data": {
            "text/plain": [
              "1    209\n",
              "0     66\n",
              "Name: Survived, dtype: int64"
            ]
          },
          "metadata": {
            "tags": []
          },
          "execution_count": 40
        }
      ]
    },
    {
      "cell_type": "code",
      "metadata": {
        "id": "q7uvzFtdsgkz",
        "colab": {
          "base_uri": "https://localhost:8080/"
        },
        "outputId": "11a8a154-810a-4fa3-e83d-c799b759daf0"
      },
      "source": [
        "(titanic_data.Survived==0).sum()                # Total no. of people died"
      ],
      "execution_count": null,
      "outputs": [
        {
          "output_type": "execute_result",
          "data": {
            "text/plain": [
              "549"
            ]
          },
          "metadata": {
            "tags": []
          },
          "execution_count": 41
        }
      ]
    },
    {
      "cell_type": "markdown",
      "metadata": {
        "id": "OYkcwRzrsgk0"
      },
      "source": [
        "Using __donut pie chart__ to see the relationship between __survival and gender__"
      ]
    },
    {
      "cell_type": "code",
      "metadata": {
        "id": "Nd-52vQnsgk1"
      },
      "source": [
        "def func(pct, allvals):\n",
        "    absolute = int(pct/100.*np.sum(allvals))\n",
        "    return \"{:.1f}%\\n({:d} g)\".format(pct, absolute)"
      ],
      "execution_count": null,
      "outputs": []
    },
    {
      "cell_type": "code",
      "metadata": {
        "id": "f4inizlQsgk3"
      },
      "source": [
        "import matplotlib.pyplot as plt\n",
        " \n",
        "# Make data: \n",
        "group_names=['Survived', 'Not Survived']\n",
        "group_size=[342,549]\n",
        "subgroup_names=['Survived.Men','Survived.Women','Not Survived.Men','Not Survived.Women']\n",
        "subgroup_size=[88,209,450,66]\n",
        " \n",
        "# Create colors\n",
        "a, b, c=[plt.cm.Blues, plt.cm.Reds, plt.cm.Greens]\n",
        " \n",
        "# First Ring (outside)\n",
        "fig, ax = plt.subplots()\n",
        "ax.axis('equal')\n",
        "mypie, _ = ax.pie(group_size, radius=1.3, labels=group_names, colors = ['yellowgreen', 'gold'])\n",
        "plt.setp( mypie, width=0.3, edgecolor='white')\n",
        "\n",
        "# wedges, texts, autotexts = ax.pie(group_size, autopct=lambda pct: func(pct, data),\n",
        "                                  #textprops=dict(color=\"w\"))\n",
        " \n",
        "# Second Ring (Inside)\n",
        "mypie2, _ = ax.pie(subgroup_size, radius=1.3-0.3, labels=subgroup_names, labeldistance=0.7, colors=[a(0.5), b(0.4), a(0.5), b(0.4)])\n",
        "plt.setp( mypie2, width=0.4, edgecolor='white')\n",
        "plt.margins(0,0)\n",
        "plt.title('Donut plot')\n",
        "# show it\n",
        "plt.show()\n"
      ],
      "execution_count": null,
      "outputs": []
    },
    {
      "cell_type": "markdown",
      "metadata": {
        "id": "BnxaK4xvsgk5"
      },
      "source": [
        "<a id=section403></a>"
      ]
    },
    {
      "cell_type": "markdown",
      "metadata": {
        "id": "W-81tQcXsgk5"
      },
      "source": [
        "### 6.4. What is the rate of survival of men, women and children on the basis of Passenger Class?"
      ]
    },
    {
      "cell_type": "markdown",
      "metadata": {
        "id": "F7e3bYY9sgk6"
      },
      "source": [
        "- Using mathematical function"
      ]
    },
    {
      "cell_type": "code",
      "metadata": {
        "id": "ajlZpiUWsgk7",
        "colab": {
          "base_uri": "https://localhost:8080/"
        },
        "outputId": "75c048aa-4b3e-4404-9296-a219cc944527"
      },
      "source": [
        "print(\"% of survivals in\") \n",
        "print(\"Ticket_Class=1 : \", titanic_data.Survived[titanic_data.Ticket_Class == 1].sum()/titanic_data[titanic_data.Ticket_Class == 1].Survived.count())\n",
        "print(\"Ticket_Class=2 : \", titanic_data.Survived[titanic_data.Ticket_Class == 2].sum()/titanic_data[titanic_data.Ticket_Class == 2].Survived.count())\n",
        "print(\"Ticket_Class=3 : \", titanic_data.Survived[titanic_data.Ticket_Class == 3].sum()/titanic_data[titanic_data.Ticket_Class == 3].Survived.count())"
      ],
      "execution_count": null,
      "outputs": [
        {
          "output_type": "stream",
          "text": [
            "% of survivals in\n",
            "Ticket_Class=1 :  0.6296296296296297\n",
            "Ticket_Class=2 :  0.47282608695652173\n",
            "Ticket_Class=3 :  0.24236252545824846\n"
          ],
          "name": "stdout"
        }
      ]
    },
    {
      "cell_type": "markdown",
      "metadata": {
        "id": "8gENEk1tsgk-"
      },
      "source": [
        "- Using crosstab function"
      ]
    },
    {
      "cell_type": "code",
      "metadata": {
        "id": "wTKsajblsgk-",
        "colab": {
          "base_uri": "https://localhost:8080/",
          "height": 198
        },
        "outputId": "a5738216-c617-4685-f0dc-d4f93e793650"
      },
      "source": [
        "pd.crosstab([titanic_data.People_Class, titanic_data.Survived], titanic_data.Ticket_Class, margins=True).apply(lambda r: 100*r/len(titanic_data), axis=1).style.background_gradient(cmap='autumn_r')"
      ],
      "execution_count": null,
      "outputs": [
        {
          "output_type": "execute_result",
          "data": {
            "text/html": [
              "<style  type=\"text/css\" >\n",
              "    #T_f92ff568_a8fb_11eb_9d31_0242ac1c0002row0_col0 {\n",
              "            background-color:  #ffff00;\n",
              "            color:  #000000;\n",
              "        }    #T_f92ff568_a8fb_11eb_9d31_0242ac1c0002row0_col1 {\n",
              "            background-color:  #ffff00;\n",
              "            color:  #000000;\n",
              "        }    #T_f92ff568_a8fb_11eb_9d31_0242ac1c0002row0_col2 {\n",
              "            background-color:  #fffa00;\n",
              "            color:  #000000;\n",
              "        }    #T_f92ff568_a8fb_11eb_9d31_0242ac1c0002row0_col3 {\n",
              "            background-color:  #ffff00;\n",
              "            color:  #000000;\n",
              "        }    #T_f92ff568_a8fb_11eb_9d31_0242ac1c0002row1_col0 {\n",
              "            background-color:  #fffc00;\n",
              "            color:  #000000;\n",
              "        }    #T_f92ff568_a8fb_11eb_9d31_0242ac1c0002row1_col1 {\n",
              "            background-color:  #ffe500;\n",
              "            color:  #000000;\n",
              "        }    #T_f92ff568_a8fb_11eb_9d31_0242ac1c0002row1_col2 {\n",
              "            background-color:  #ffff00;\n",
              "            color:  #000000;\n",
              "        }    #T_f92ff568_a8fb_11eb_9d31_0242ac1c0002row1_col3 {\n",
              "            background-color:  #fffc00;\n",
              "            color:  #000000;\n",
              "        }    #T_f92ff568_a8fb_11eb_9d31_0242ac1c0002row2_col0 {\n",
              "            background-color:  #ffa500;\n",
              "            color:  #000000;\n",
              "        }    #T_f92ff568_a8fb_11eb_9d31_0242ac1c0002row2_col1 {\n",
              "            background-color:  #ff8100;\n",
              "            color:  #000000;\n",
              "        }    #T_f92ff568_a8fb_11eb_9d31_0242ac1c0002row2_col2 {\n",
              "            background-color:  #ff7200;\n",
              "            color:  #000000;\n",
              "        }    #T_f92ff568_a8fb_11eb_9d31_0242ac1c0002row2_col3 {\n",
              "            background-color:  #ff8300;\n",
              "            color:  #000000;\n",
              "        }    #T_f92ff568_a8fb_11eb_9d31_0242ac1c0002row3_col0 {\n",
              "            background-color:  #ffcf00;\n",
              "            color:  #000000;\n",
              "        }    #T_f92ff568_a8fb_11eb_9d31_0242ac1c0002row3_col1 {\n",
              "            background-color:  #fff400;\n",
              "            color:  #000000;\n",
              "        }    #T_f92ff568_a8fb_11eb_9d31_0242ac1c0002row3_col2 {\n",
              "            background-color:  #fff700;\n",
              "            color:  #000000;\n",
              "        }    #T_f92ff568_a8fb_11eb_9d31_0242ac1c0002row3_col3 {\n",
              "            background-color:  #ffef00;\n",
              "            color:  #000000;\n",
              "        }    #T_f92ff568_a8fb_11eb_9d31_0242ac1c0002row4_col0 {\n",
              "            background-color:  #fffe00;\n",
              "            color:  #000000;\n",
              "        }    #T_f92ff568_a8fb_11eb_9d31_0242ac1c0002row4_col1 {\n",
              "            background-color:  #fff700;\n",
              "            color:  #000000;\n",
              "        }    #T_f92ff568_a8fb_11eb_9d31_0242ac1c0002row4_col2 {\n",
              "            background-color:  #ffec00;\n",
              "            color:  #000000;\n",
              "        }    #T_f92ff568_a8fb_11eb_9d31_0242ac1c0002row4_col3 {\n",
              "            background-color:  #fff600;\n",
              "            color:  #000000;\n",
              "        }    #T_f92ff568_a8fb_11eb_9d31_0242ac1c0002row5_col0 {\n",
              "            background-color:  #ff9600;\n",
              "            color:  #000000;\n",
              "        }    #T_f92ff568_a8fb_11eb_9d31_0242ac1c0002row5_col1 {\n",
              "            background-color:  #ffac00;\n",
              "            color:  #000000;\n",
              "        }    #T_f92ff568_a8fb_11eb_9d31_0242ac1c0002row5_col2 {\n",
              "            background-color:  #ffeb00;\n",
              "            color:  #000000;\n",
              "        }    #T_f92ff568_a8fb_11eb_9d31_0242ac1c0002row5_col3 {\n",
              "            background-color:  #ffcb00;\n",
              "            color:  #000000;\n",
              "        }    #T_f92ff568_a8fb_11eb_9d31_0242ac1c0002row6_col0 {\n",
              "            background-color:  #ff0000;\n",
              "            color:  #f1f1f1;\n",
              "        }    #T_f92ff568_a8fb_11eb_9d31_0242ac1c0002row6_col1 {\n",
              "            background-color:  #ff0000;\n",
              "            color:  #f1f1f1;\n",
              "        }    #T_f92ff568_a8fb_11eb_9d31_0242ac1c0002row6_col2 {\n",
              "            background-color:  #ff0000;\n",
              "            color:  #f1f1f1;\n",
              "        }    #T_f92ff568_a8fb_11eb_9d31_0242ac1c0002row6_col3 {\n",
              "            background-color:  #ff0000;\n",
              "            color:  #f1f1f1;\n",
              "        }</style><table id=\"T_f92ff568_a8fb_11eb_9d31_0242ac1c0002\" ><thead>    <tr>        <th class=\"blank\" ></th>        <th class=\"index_name level0\" >Ticket_Class</th>        <th class=\"col_heading level0 col0\" >1</th>        <th class=\"col_heading level0 col1\" >2</th>        <th class=\"col_heading level0 col2\" >3</th>        <th class=\"col_heading level0 col3\" >All</th>    </tr>    <tr>        <th class=\"index_name level0\" >People_Class</th>        <th class=\"index_name level1\" >Survived</th>        <th class=\"blank\" ></th>        <th class=\"blank\" ></th>        <th class=\"blank\" ></th>        <th class=\"blank\" ></th>    </tr></thead><tbody>\n",
              "                <tr>\n",
              "                        <th id=\"T_f92ff568_a8fb_11eb_9d31_0242ac1c0002level0_row0\" class=\"row_heading level0 row0\" rowspan=2>Children</th>\n",
              "                        <th id=\"T_f92ff568_a8fb_11eb_9d31_0242ac1c0002level1_row0\" class=\"row_heading level1 row0\" >0</th>\n",
              "                        <td id=\"T_f92ff568_a8fb_11eb_9d31_0242ac1c0002row0_col0\" class=\"data row0 col0\" >0.112233</td>\n",
              "                        <td id=\"T_f92ff568_a8fb_11eb_9d31_0242ac1c0002row0_col1\" class=\"data row0 col1\" >0</td>\n",
              "                        <td id=\"T_f92ff568_a8fb_11eb_9d31_0242ac1c0002row0_col2\" class=\"data row0 col2\" >3.59147</td>\n",
              "                        <td id=\"T_f92ff568_a8fb_11eb_9d31_0242ac1c0002row0_col3\" class=\"data row0 col3\" >3.7037</td>\n",
              "            </tr>\n",
              "            <tr>\n",
              "                                <th id=\"T_f92ff568_a8fb_11eb_9d31_0242ac1c0002level1_row1\" class=\"row_heading level1 row1\" >1</th>\n",
              "                        <td id=\"T_f92ff568_a8fb_11eb_9d31_0242ac1c0002row1_col0\" class=\"data row1 col0\" >0.448934</td>\n",
              "                        <td id=\"T_f92ff568_a8fb_11eb_9d31_0242ac1c0002row1_col1\" class=\"data row1 col1\" >2.13244</td>\n",
              "                        <td id=\"T_f92ff568_a8fb_11eb_9d31_0242ac1c0002row1_col2\" class=\"data row1 col2\" >2.46914</td>\n",
              "                        <td id=\"T_f92ff568_a8fb_11eb_9d31_0242ac1c0002row1_col3\" class=\"data row1 col3\" >5.05051</td>\n",
              "            </tr>\n",
              "            <tr>\n",
              "                        <th id=\"T_f92ff568_a8fb_11eb_9d31_0242ac1c0002level0_row2\" class=\"row_heading level0 row2\" rowspan=2>Man</th>\n",
              "                        <th id=\"T_f92ff568_a8fb_11eb_9d31_0242ac1c0002level1_row2\" class=\"row_heading level1 row2\" >0</th>\n",
              "                        <td id=\"T_f92ff568_a8fb_11eb_9d31_0242ac1c0002row2_col0\" class=\"data row2 col0\" >8.64198</td>\n",
              "                        <td id=\"T_f92ff568_a8fb_11eb_9d31_0242ac1c0002row2_col1\" class=\"data row2 col1\" >10.2132</td>\n",
              "                        <td id=\"T_f92ff568_a8fb_11eb_9d31_0242ac1c0002row2_col2\" class=\"data row2 col2\" >31.6498</td>\n",
              "                        <td id=\"T_f92ff568_a8fb_11eb_9d31_0242ac1c0002row2_col3\" class=\"data row2 col3\" >50.5051</td>\n",
              "            </tr>\n",
              "            <tr>\n",
              "                                <th id=\"T_f92ff568_a8fb_11eb_9d31_0242ac1c0002level1_row3\" class=\"row_heading level1 row3\" >1</th>\n",
              "                        <td id=\"T_f92ff568_a8fb_11eb_9d31_0242ac1c0002row3_col0\" class=\"data row3 col0\" >4.7138</td>\n",
              "                        <td id=\"T_f92ff568_a8fb_11eb_9d31_0242ac1c0002row3_col1\" class=\"data row3 col1\" >0.897868</td>\n",
              "                        <td id=\"T_f92ff568_a8fb_11eb_9d31_0242ac1c0002row3_col2\" class=\"data row3 col2\" >4.26487</td>\n",
              "                        <td id=\"T_f92ff568_a8fb_11eb_9d31_0242ac1c0002row3_col3\" class=\"data row3 col3\" >9.87654</td>\n",
              "            </tr>\n",
              "            <tr>\n",
              "                        <th id=\"T_f92ff568_a8fb_11eb_9d31_0242ac1c0002level0_row4\" class=\"row_heading level0 row4\" rowspan=2>Woman</th>\n",
              "                        <th id=\"T_f92ff568_a8fb_11eb_9d31_0242ac1c0002level1_row4\" class=\"row_heading level1 row4\" >0</th>\n",
              "                        <td id=\"T_f92ff568_a8fb_11eb_9d31_0242ac1c0002row4_col0\" class=\"data row4 col0\" >0.224467</td>\n",
              "                        <td id=\"T_f92ff568_a8fb_11eb_9d31_0242ac1c0002row4_col1\" class=\"data row4 col1\" >0.673401</td>\n",
              "                        <td id=\"T_f92ff568_a8fb_11eb_9d31_0242ac1c0002row4_col2\" class=\"data row4 col2\" >6.50954</td>\n",
              "                        <td id=\"T_f92ff568_a8fb_11eb_9d31_0242ac1c0002row4_col3\" class=\"data row4 col3\" >7.40741</td>\n",
              "            </tr>\n",
              "            <tr>\n",
              "                                <th id=\"T_f92ff568_a8fb_11eb_9d31_0242ac1c0002level1_row5\" class=\"row_heading level1 row5\" >1</th>\n",
              "                        <td id=\"T_f92ff568_a8fb_11eb_9d31_0242ac1c0002row5_col0\" class=\"data row5 col0\" >10.101</td>\n",
              "                        <td id=\"T_f92ff568_a8fb_11eb_9d31_0242ac1c0002row5_col1\" class=\"data row5 col1\" >6.73401</td>\n",
              "                        <td id=\"T_f92ff568_a8fb_11eb_9d31_0242ac1c0002row5_col2\" class=\"data row5 col2\" >6.62177</td>\n",
              "                        <td id=\"T_f92ff568_a8fb_11eb_9d31_0242ac1c0002row5_col3\" class=\"data row5 col3\" >23.4568</td>\n",
              "            </tr>\n",
              "            <tr>\n",
              "                        <th id=\"T_f92ff568_a8fb_11eb_9d31_0242ac1c0002level0_row6\" class=\"row_heading level0 row6\" >All</th>\n",
              "                        <th id=\"T_f92ff568_a8fb_11eb_9d31_0242ac1c0002level1_row6\" class=\"row_heading level1 row6\" ></th>\n",
              "                        <td id=\"T_f92ff568_a8fb_11eb_9d31_0242ac1c0002row6_col0\" class=\"data row6 col0\" >24.2424</td>\n",
              "                        <td id=\"T_f92ff568_a8fb_11eb_9d31_0242ac1c0002row6_col1\" class=\"data row6 col1\" >20.651</td>\n",
              "                        <td id=\"T_f92ff568_a8fb_11eb_9d31_0242ac1c0002row6_col2\" class=\"data row6 col2\" >55.1066</td>\n",
              "                        <td id=\"T_f92ff568_a8fb_11eb_9d31_0242ac1c0002row6_col3\" class=\"data row6 col3\" >100</td>\n",
              "            </tr>\n",
              "    </tbody></table>"
            ],
            "text/plain": [
              "<pandas.io.formats.style.Styler at 0x7fc86d37eb90>"
            ]
          },
          "metadata": {
            "tags": []
          },
          "execution_count": 43
        }
      ]
    },
    {
      "cell_type": "markdown",
      "metadata": {
        "id": "DfeqgF86sglA"
      },
      "source": [
        "You can see how the percentage of males, females and children survived are varying depending on the passenger class they are in. Also, its quiet difficult to develop quick insights by looking only at numbers. Therefore we will explore doing the same with the help of __plotting.__"
      ]
    },
    {
      "cell_type": "markdown",
      "metadata": {
        "id": "7pmExzDxsglA"
      },
      "source": [
        "- Using __violin plot__ to see the relationship between __Pclass and Survived__"
      ]
    },
    {
      "cell_type": "code",
      "metadata": {
        "id": "qmdk2_GEsglB",
        "colab": {
          "base_uri": "https://localhost:8080/",
          "height": 583
        },
        "outputId": "4661ec85-2204-4cd0-b9ea-9592b1abd457"
      },
      "source": [
        "sns.violinplot('Ticket_Class','Survived', kind='point', data = titanic_data)\n",
        "plt.title('Violinplot Ticket_Class Vs Survived')\n",
        "plt.show()"
      ],
      "execution_count": null,
      "outputs": [
        {
          "output_type": "stream",
          "text": [
            "/usr/local/lib/python3.7/dist-packages/seaborn/_decorators.py:43: FutureWarning: Pass the following variables as keyword args: x, y. From version 0.12, the only valid positional argument will be `data`, and passing other arguments without an explicit keyword will result in an error or misinterpretation.\n",
            "  FutureWarning\n"
          ],
          "name": "stderr"
        },
        {
          "output_type": "display_data",
          "data": {
            "image/png": "[encoded data removed]",
            "text/plain": [
              "<Figure size 800x550 with 1 Axes>"
            ]
          },
          "metadata": {
            "tags": []
          }
        }
      ]
    },
    {
      "cell_type": "markdown",
      "metadata": {
        "id": "f2uml5q_sglD"
      },
      "source": [
        "Above is another beautiful way to see how the survival rate is varying with Passenger class.\n",
        "\n",
        "**Observations:**\n",
        "\n",
        "- __Ticket_Class 3__ have __more__ people who __died__, and for __Ticket_Class 1 survival rate is more.__"
      ]
    },
    {
      "cell_type": "markdown",
      "metadata": {
        "id": "R2vLoJxWsglD"
      },
      "source": [
        " Drawing __factorplot__ to look at the __distribution of population__ with __Ticket_Class and People_Class.__"
      ]
    },
    {
      "cell_type": "code",
      "metadata": {
        "id": "AfnE4KGYsglD"
      },
      "source": [
        "sns.factorplot('Ticket_Class', data=titanic_data, hue='People_Class', kind='count')\n",
        "plt.title('Factorplot with kind = \"count\" for Ticket_Class and People_Class')"
      ],
      "execution_count": null,
      "outputs": []
    },
    {
      "cell_type": "markdown",
      "metadata": {
        "id": "fPBjraXIsglH"
      },
      "source": [
        "**Observations:**\n",
        "\n",
        "1. the survival rate for a man is very __low__ _irrespective of the class_ he belongs to. \n",
        "2. And, the survival rate is _less_ for all the _3rd class passengers._\n",
        "3. __Almost all women__ in Ticket_Class __1 and 2 survived__ and __nearly all men__ in Ticket_Class __2 and 3 died.__"
      ]
    },
    {
      "cell_type": "markdown",
      "metadata": {
        "id": "Z3oAg821YEcO"
      },
      "source": [
        "### 6.5. How is Age related to Ticket_Class ?"
      ]
    },
    {
      "cell_type": "code",
      "metadata": {
        "id": "LyJcMLBxYY5P",
        "colab": {
          "base_uri": "https://localhost:8080/",
          "height": 642
        },
        "outputId": "307e771c-b042-4746-a25b-b98ac39e47c5"
      },
      "source": [
        "plt.figure(figsize=(12, 7))\n",
        "sns.boxplot(x='Ticket_Class',y='Age',data=titanic_data,palette='winter')"
      ],
      "execution_count": null,
      "outputs": [
        {
          "output_type": "execute_result",
          "data": {
            "text/plain": [
              "<matplotlib.axes._subplots.AxesSubplot at 0x7fc86c387e90>"
            ]
          },
          "metadata": {
            "tags": []
          },
          "execution_count": 45
        },
        {
          "output_type": "display_data",
          "data": {
            "image/png": "[encoded data removed]",
            "text/plain": [
              "<Figure size 1200x700 with 1 Axes>"
            ]
          },
          "metadata": {
            "tags": []
          }
        }
      ]
    },
    {
      "cell_type": "markdown",
      "metadata": {
        "id": "VLrzONIWYoY-"
      },
      "source": [
        "- We can see the wealthier passengers in the higher classes tend to be higher in age"
      ]
    },
    {
      "cell_type": "markdown",
      "metadata": {
        "id": "X5PFIDfXf5jG"
      },
      "source": [
        "### 6.6.  How fare is related to Age, Class and Port of Embarkation ?"
      ]
    },
    {
      "cell_type": "markdown",
      "metadata": {
        "id": "T9lF263WgIbN"
      },
      "source": [
        "- Let’s see how Fare varies with respect to Age and Port of Embarkation. I will do a scatterplot of passengers from 3 classes for Age and Fare on X and Y axis."
      ]
    },
    {
      "cell_type": "code",
      "metadata": {
        "id": "1keFaHbbgGyM",
        "colab": {
          "base_uri": "https://localhost:8080/",
          "height": 619
        },
        "outputId": "686628d1-5bc6-4512-9db6-bab4e59de51a"
      },
      "source": [
        "sns.lmplot('Age', 'Fare', data=titanic_data, fit_reg=False, hue=\"Ticket_Class\", scatter_kws={\"marker\": \".\", \"s\": 20})\n",
        "plt.title('Scatterplot of passengers w.r.t Fare and Age')"
      ],
      "execution_count": null,
      "outputs": [
        {
          "output_type": "stream",
          "text": [
            "/usr/local/lib/python3.7/dist-packages/seaborn/_decorators.py:43: FutureWarning: Pass the following variables as keyword args: x, y. From version 0.12, the only valid positional argument will be `data`, and passing other arguments without an explicit keyword will result in an error or misinterpretation.\n",
            "  FutureWarning\n"
          ],
          "name": "stderr"
        },
        {
          "output_type": "execute_result",
          "data": {
            "text/plain": [
              "Text(0.5, 1.0, 'Scatterplot of passengers w.r.t Fare and Age')"
            ]
          },
          "metadata": {
            "tags": []
          },
          "execution_count": 46
        },
        {
          "output_type": "display_data",
          "data": {
            "image/png": "[encoded data removed]",
            "text/plain": [
              "<Figure size 590.236x500 with 1 Axes>"
            ]
          },
          "metadata": {
            "tags": []
          }
        }
      ]
    },
    {
      "cell_type": "markdown",
      "metadata": {
        "id": "20U0nGBOnTAd"
      },
      "source": [
        "- We can segregate the passengers according to thier Port of Embarkation and then compare Fare v/s Age across 3 classes."
      ]
    },
    {
      "cell_type": "code",
      "metadata": {
        "id": "3TCZQpIPpqSN"
      },
      "source": [
        "sns.lmplot('Age', 'Fare', data=titanic_data, fit_reg=False, hue=\"Ticket_Class\", col=\"Embarked\", scatter_kws={\"marker\": \".\", \"s\": 20})\n",
        "plt.subplots_adjust(top=0.9)\n",
        "plt.suptitle('Scatterplot of passengers w.r.t Fare and Age for diff. ports', fontsize=16)"
      ],
      "execution_count": null,
      "outputs": []
    },
    {
      "cell_type": "markdown",
      "metadata": {
        "id": "u9vaMVSpqX6s"
      },
      "source": [
        " **Observations:**\n",
        "- From above visualization we can see that Fare is quite uniform for **Class 2 and 3** across all **ages**. \n",
        "- Fare varies for **Class 1** across all ages.\n",
        "- A lot of passengers embarked from port **Southampton**"
      ]
    },
    {
      "cell_type": "markdown",
      "metadata": {
        "id": "6hBfhNTQsglH"
      },
      "source": [
        "### 6.7. What is the survival rate considering the Embarked variable?"
      ]
    },
    {
      "cell_type": "markdown",
      "metadata": {
        "id": "YiRE65dlsglI"
      },
      "source": [
        "- Using countplot "
      ]
    },
    {
      "cell_type": "code",
      "metadata": {
        "id": "xhrAd16dsglI",
        "colab": {
          "base_uri": "https://localhost:8080/",
          "height": 581
        },
        "outputId": "f2ac232f-f77c-49cb-8ffb-f121cd73b028"
      },
      "source": [
        "sns.countplot('Embarked',data=titanic_data, hue='Survived')"
      ],
      "execution_count": null,
      "outputs": [
        {
          "output_type": "stream",
          "text": [
            "/usr/local/lib/python3.7/dist-packages/seaborn/_decorators.py:43: FutureWarning: Pass the following variable as a keyword arg: x. From version 0.12, the only valid positional argument will be `data`, and passing other arguments without an explicit keyword will result in an error or misinterpretation.\n",
            "  FutureWarning\n"
          ],
          "name": "stderr"
        },
        {
          "output_type": "execute_result",
          "data": {
            "text/plain": [
              "<matplotlib.axes._subplots.AxesSubplot at 0x7fc8622e1610>"
            ]
          },
          "metadata": {
            "tags": []
          },
          "execution_count": 47
        },
        {
          "output_type": "display_data",
          "data": {
            "image/png": "[encoded data removed]",
            "text/plain": [
              "<Figure size 800x550 with 1 Axes>"
            ]
          },
          "metadata": {
            "tags": []
          }
        }
      ]
    },
    {
      "cell_type": "markdown",
      "metadata": {
        "id": "nM5QUf-csglK"
      },
      "source": [
        "**Observations:**\n",
        "\n",
        "1. __Maximum___ number of people have __Southampton__ as port of embarkment. \n",
        "2. Also observe people who boarded at _Cherbourg_, _more_ people _survived than died_, and this is reverse for Queenstown."
      ]
    },
    {
      "cell_type": "markdown",
      "metadata": {
        "id": "WgkE64fPsglM"
      },
      "source": [
        "<a id=section405></a>"
      ]
    },
    {
      "cell_type": "markdown",
      "metadata": {
        "id": "E05htjPosglM"
      },
      "source": [
        "### 6.8. Survival rate - Comparing Embarked and People_Class."
      ]
    },
    {
      "cell_type": "markdown",
      "metadata": {
        "id": "3NoDILZ-sglM"
      },
      "source": [
        "- Distribution of _People_Class_ with respect to _Port of Embarkment_ using __Countplot__."
      ]
    },
    {
      "cell_type": "code",
      "metadata": {
        "id": "wMq0CfBMsglM",
        "colab": {
          "base_uri": "https://localhost:8080/",
          "height": 581
        },
        "outputId": "12086655-2e2d-4301-cbd4-11176b70cfd0"
      },
      "source": [
        "sns.countplot('Embarked',data=titanic_data, hue='People_Class')"
      ],
      "execution_count": null,
      "outputs": [
        {
          "output_type": "stream",
          "text": [
            "/usr/local/lib/python3.7/dist-packages/seaborn/_decorators.py:43: FutureWarning: Pass the following variable as a keyword arg: x. From version 0.12, the only valid positional argument will be `data`, and passing other arguments without an explicit keyword will result in an error or misinterpretation.\n",
            "  FutureWarning\n"
          ],
          "name": "stderr"
        },
        {
          "output_type": "execute_result",
          "data": {
            "text/plain": [
              "<matplotlib.axes._subplots.AxesSubplot at 0x7fc8622116d0>"
            ]
          },
          "metadata": {
            "tags": []
          },
          "execution_count": 48
        },
        {
          "output_type": "display_data",
          "data": {
            "image/png": "[encoded data removed]",
            "text/plain": [
              "<Figure size 800x550 with 1 Axes>"
            ]
          },
          "metadata": {
            "tags": []
          }
        }
      ]
    },
    {
      "cell_type": "markdown",
      "metadata": {
        "id": "j9dnk3hmsglP"
      },
      "source": [
        "**Observations:**\n",
        "\n",
        "- Most of the people boarded from __S__, Also among all who boarded, __man__ constitutes the __majority__ of percentage."
      ]
    },
    {
      "cell_type": "markdown",
      "metadata": {
        "id": "AbgdvaBxsglP"
      },
      "source": [
        "- Using Factorplot to see variation of __survival rate with port of embarkment and People_Class__"
      ]
    },
    {
      "cell_type": "code",
      "metadata": {
        "_cell_guid": "259c13c1-5d2c-4549-95ed-61baa9d2a6c1",
        "_uuid": "f9d1d2137f0ce7a8ac1ef9d3bf1f3225dbcbdaf4",
        "id": "zpVzFgh-sglP",
        "colab": {
          "base_uri": "https://localhost:8080/",
          "height": 637
        },
        "outputId": "f0686fd8-0526-4132-88b7-f918d5e77143"
      },
      "source": [
        "sns.factorplot('Embarked','Survived', hue= 'People_Class', kind='point', data= titanic_data)\n",
        "plt.title('Factor plot showing survival rate variation with Embarked and People_Class ')\n",
        "plt.show()"
      ],
      "execution_count": null,
      "outputs": [
        {
          "output_type": "stream",
          "text": [
            "/usr/local/lib/python3.7/dist-packages/seaborn/categorical.py:3714: UserWarning: The `factorplot` function has been renamed to `catplot`. The original name will be removed in a future release. Please update your code. Note that the default `kind` in `factorplot` (`'point'`) has changed `'strip'` in `catplot`.\n",
            "  warnings.warn(msg)\n",
            "/usr/local/lib/python3.7/dist-packages/seaborn/_decorators.py:43: FutureWarning: Pass the following variables as keyword args: x, y. From version 0.12, the only valid positional argument will be `data`, and passing other arguments without an explicit keyword will result in an error or misinterpretation.\n",
            "  FutureWarning\n"
          ],
          "name": "stderr"
        },
        {
          "output_type": "display_data",
          "data": {
            "image/png": "[encoded data removed]",
            "text/plain": [
              "<Figure size 602x500 with 1 Axes>"
            ]
          },
          "metadata": {
            "tags": []
          }
        }
      ]
    },
    {
      "cell_type": "markdown",
      "metadata": {
        "id": "mQH7_sy9sglR"
      },
      "source": [
        "**Observations:**\n",
        "\n",
        "- Chances of survival of __Woman__ who boarded from __C__ is _highest_.\n",
        "- Chances of survival of __Man__ boarding from __Q__ is _lowest_"
      ]
    },
    {
      "cell_type": "markdown",
      "metadata": {
        "id": "76iOnCmhsglS"
      },
      "source": [
        "### 6.9. How survival rate vary with Embarked, Sex and Ticket_Class."
      ]
    },
    {
      "cell_type": "markdown",
      "metadata": {
        "id": "F5bj54ZAsglU"
      },
      "source": [
        "Seeing relation between Ticket_Class and Embarked."
      ]
    },
    {
      "cell_type": "code",
      "metadata": {
        "id": "fnAdES4ZsglU",
        "colab": {
          "base_uri": "https://localhost:8080/",
          "height": 453
        },
        "outputId": "c7198dc8-b17a-47f6-9396-f61878ac25e4"
      },
      "source": [
        "relation = pd.crosstab( titanic_data.Embarked, titanic_data.Ticket_Class )\n",
        "relation.plot.barh(figsize=(15,5))\n",
        "plt.xticks(size = 10)\n",
        "plt.yticks(size = 10)\n",
        "plt.title('Relation Between Ticket_Class and Embarked',size=20)"
      ],
      "execution_count": null,
      "outputs": [
        {
          "output_type": "execute_result",
          "data": {
            "text/plain": [
              "Text(0.5, 1.0, 'Relation Between Ticket_Class and Embarked')"
            ]
          },
          "metadata": {
            "tags": []
          },
          "execution_count": 50
        },
        {
          "output_type": "display_data",
          "data": {
            "image/png": "[encoded data removed]",
            "text/plain": [
              "<Figure size 1500x500 with 1 Axes>"
            ]
          },
          "metadata": {
            "tags": []
          }
        }
      ]
    },
    {
      "cell_type": "markdown",
      "metadata": {
        "id": "5XLEUwbrsglV"
      },
      "source": [
        "**Observations:**\n",
        "\n",
        "- Maximum people who boarded from __S__ belongs to __Ticket_Class 3__.<br/>\n",
        "- Most of the passengers belonging to __Ticket_Class 1__ boarded from __C and S__  \n"
      ]
    },
    {
      "cell_type": "code",
      "metadata": {
        "id": "X_TxaTBGsglW"
      },
      "source": [
        "dummy = relation.div(relation.sum(1).astype(float), axis=0).plot(kind=\"bar\", stacked=True)\n",
        "dummy = plt.xlabel('Emabarked')"
      ],
      "execution_count": null,
      "outputs": []
    },
    {
      "cell_type": "markdown",
      "metadata": {
        "id": "YYaPhcEjsgld"
      },
      "source": [
        "**Observations:**\n",
        "\n",
        "- Practically all _women_ of __Ticket_Class 2__ that embarked in __C and Q survived__, also nearly all _women_ of __Ticket_Class 1__ survived_.\n",
        "- All _men_ of __Ticket_Class 1 and 2__ embarked in __Q died__, survival rate for men in __Ticket_Class 2 and 3__ is always __below 0.2__.\n",
        "- For the remaining men in Ticket_class 1 that embarked in S and Q, survival rate is approx. __0.4__"
      ]
    },
    {
      "cell_type": "markdown",
      "metadata": {
        "id": "mYS7twhtsgl3"
      },
      "source": [
        "### 6.13. Draw pair plot to know the joint relationship between 'Fare','Age','Ticket_Class' and 'Survived'"
      ]
    },
    {
      "cell_type": "code",
      "metadata": {
        "id": "mzmhEt04sgl4"
      },
      "source": [
        "sns.pairplot(titanic_data[[\"Fare\",\"Age\",\"Ticket_Class\",\"Survived\"]],vars = [\"Fare\",\"Age\",\"Ticket_Class\"],hue=\"Survived\", dropna=True,markers=[\"o\", \"s\"])\n",
        "plt.title('Pair Plot')"
      ],
      "execution_count": null,
      "outputs": []
    },
    {
      "cell_type": "markdown",
      "metadata": {
        "id": "OPC9ouQksgl5"
      },
      "source": [
        "**Observations:**\n",
        "\n",
        "- More people of Ticket_Class 1 survived than died (First peak of red is higher than blue)\n",
        "- More people of Ticket_Class 3 died than survived (Third peak of blue is higher than red)\n",
        "- More people of age group 20-40 died than survived.\n",
        "- Most of the people paying less fare died."
      ]
    },
    {
      "cell_type": "markdown",
      "metadata": {
        "id": "fPfUQgzXsgl5"
      },
      "source": [
        "<a id=section411></a>"
      ]
    },
    {
      "cell_type": "markdown",
      "metadata": {
        "id": "THuMQMYusgl5"
      },
      "source": [
        "### 6.14. Establish correlation between all the features using heatmap."
      ]
    },
    {
      "cell_type": "code",
      "metadata": {
        "id": "6fdZP1kCsgl5"
      },
      "source": [
        "corr = titanic_data.corr()\n",
        "plt.figure(figsize=(10,10))\n",
        "sns.heatmap(corr,vmax=.8,linewidth=.01, square = True, annot = True,cmap='YlGnBu',linecolor ='black')\n",
        "plt.title('Correlation between features')"
      ],
      "execution_count": null,
      "outputs": []
    },
    {
      "cell_type": "markdown",
      "metadata": {
        "id": "KlX-jhjqsgl8"
      },
      "source": [
        "**Observations:**\n",
        "\n",
        "- __Age and Ticket_Class are negatively corelated with Survived.__\n",
        "- FamilySize is made from Parch and SibSb only therefore high positive corelation among them.\n",
        "- __Fare and FamilySize__ are __positively coorelated with Survived.__\n",
        "- With high corelation we face __redundancy__ issues."
      ]
    },
    {
      "cell_type": "markdown",
      "metadata": {
        "id": "4fuI8y1-sgl8"
      },
      "source": [
        "<a id=section412></a>"
      ]
    },
    {
      "cell_type": "markdown",
      "metadata": {
        "id": "QWkBxDDlsgl8"
      },
      "source": [
        "### 6.15. Hypothesis: Women and children are more likely to survive"
      ]
    },
    {
      "cell_type": "markdown",
      "metadata": {
        "id": "kOH0mz7ksgl9"
      },
      "source": [
        "On studying Questionnaire 6.4 and 6.5 we observed that an overwhelming percentage of __women & children__ have survived the titanic clash.\n",
        "- __76%__ of __woman__ survived.\n",
        "- __57%__ of __children__ also survived.\n",
        "- Only __16%__ of __man__ survived.<br/>\n",
        "Also the survival rate for man is very low irrespective of the _class_ he belongs to and the _survival rate is less_ for all the _3rd class passengers._ Almost all women in Ticket_Class 1 and 2 survived and nearly all men in Ticket_Class 2 and 3 died."
      ]
    },
    {
      "cell_type": "markdown",
      "metadata": {
        "id": "kjb92Y4Dsgl9"
      },
      "source": [
        "<a id=section5></a>"
      ]
    },
    {
      "cell_type": "markdown",
      "metadata": {
        "_cell_guid": "b003787b-c505-4a4c-9f43-230acc35c2f5",
        "_uuid": "ee26abaed914638118de10f1cc177184d38abd21",
        "collapsed": true,
        "id": "3aLkHZR5sgl9"
      },
      "source": [
        "## 7. Conclusion \n",
        "\n",
        "- With the help of this notebook we learnt how exploratory data analysis can be carried out using Pandas plotting.\n",
        "- Also we have seen making use of packages like __matplotlib and seaborn__ to develop better insights about the data.<br/>\n",
        "- We have also seen how __pre-proceesing__ helps in dealing with _missing_ values and irregualities present in the data. We also learnt how to _create new features_ which will in turn help us to better predict the survival. \n",
        "- We also make use of __pandas profiling__ feature to generate an html report containing all the information of the various features present in the dataset.\n",
        "- We have seen the impact of columns like _Age, Embarked, Fare, SibSp and Parch_ on the rate of survival.\n",
        "- The most important inference drawn from all this analysis is, we get to know what are the __features on which survival is highly positively and negatively correlated with.__ \n",
        "- This analysis will help us to choose which __machine learning model__ we can apply to predict survival of test dataset. "
      ]
    }
  ]
}