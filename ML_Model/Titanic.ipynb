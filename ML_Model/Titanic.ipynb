{
  "nbformat": 4,
  "nbformat_minor": 0,
  "metadata": {
    "kernelspec": {
      "language": "python",
      "display_name": "Python 3",
      "name": "python3"
    },
    "language_info": {
      "pygments_lexer": "ipython3",
      "nbconvert_exporter": "python",
      "version": "3.6.4",
      "file_extension": ".py",
      "codemirror_mode": {
        "name": "ipython",
        "version": 3
      },
      "name": "python",
      "mimetype": "text/x-python"
    },
    "colab": {
      "name": "titanic.ipynb",
      "provenance": [],
      "include_colab_link": true
    }
  },
  "cells": [
    {
      "cell_type": "markdown",
      "metadata": {
        "id": "view-in-github",
        "colab_type": "text"
      },
      "source": [
        "<a href=\"https://colab.research.google.com/github/charithcherry/MLnow_2.0/blob/main/ML_Model/Titanic.ipynb\" target=\"_parent\"><img src=\"https://colab.research.google.com/assets/colab-badge.svg\" alt=\"Open In Colab\"/></a>"
      ]
    },
    {
      "cell_type": "markdown",
      "metadata": {
        "id": "wDCw27clKFWg"
      },
      "source": [
        "# Titanic disaster survival classification"
      ]
    },
    {
      "cell_type": "markdown",
      "metadata": {
        "id": "Ia2Z-UiMlw7i"
      },
      "source": [
        "Kaggle NoteBook : https://www.kaggle.com/pcharith/titanic"
      ]
    },
    {
      "cell_type": "code",
      "metadata": {
        "colab": {
          "base_uri": "https://localhost:8080/"
        },
        "id": "o99I6HN3Xgi2",
        "outputId": "b745b6c3-ff91-4bca-9cc4-95b4f5d7fd71"
      },
      "source": [
        "from google.colab import drive\n",
        "drive.mount('/content/drive')"
      ],
      "execution_count": 6,
      "outputs": [
        {
          "output_type": "stream",
          "text": [
            "Drive already mounted at /content/drive; to attempt to forcibly remount, call drive.mount(\"/content/drive\", force_remount=True).\n"
          ],
          "name": "stdout"
        }
      ]
    },
    {
      "cell_type": "code",
      "metadata": {
        "colab": {
          "base_uri": "https://localhost:8080/"
        },
        "id": "ojNGm-T8Xy04",
        "outputId": "18aac12c-9b17-4c5a-f8e7-2f7660b4c7b4"
      },
      "source": [
        "cd '/content/drive/MyDrive/ML_now2.0/'"
      ],
      "execution_count": 7,
      "outputs": [
        {
          "output_type": "stream",
          "text": [
            "/content/drive/MyDrive/ML_now2.0\n"
          ],
          "name": "stdout"
        }
      ]
    },
    {
      "cell_type": "code",
      "metadata": {
        "id": "iC_0zA0PKFWh"
      },
      "source": [
        "import seaborn as sns\n",
        "import numpy as np\n",
        "import pandas as pd\n",
        "import matplotlib.pyplot as plt\n",
        "%matplotlib inline"
      ],
      "execution_count": 8,
      "outputs": []
    },
    {
      "cell_type": "markdown",
      "metadata": {
        "id": "BS0L4qVjKFWi"
      },
      "source": [
        "**[seaborn,matplotlib:data visualization],[pandas,numpy:calculation and data management]**"
      ]
    },
    {
      "cell_type": "markdown",
      "metadata": {
        "id": "JAZVigRdKFWi"
      },
      "source": [
        "# DATASET"
      ]
    },
    {
      "cell_type": "code",
      "metadata": {
        "scrolled": true,
        "colab": {
          "base_uri": "https://localhost:8080/",
          "height": 237
        },
        "id": "YjdPdNDJKFWj",
        "outputId": "85b0d295-2475-430e-aa93-f762f44352fc"
      },
      "source": [
        "df=pd.read_csv('train.csv')\n",
        "df.head()"
      ],
      "execution_count": 9,
      "outputs": [
        {
          "output_type": "execute_result",
          "data": {
            "text/html": [
              "<div>\n",
              "<style scoped>\n",
              "    .dataframe tbody tr th:only-of-type {\n",
              "        vertical-align: middle;\n",
              "    }\n",
              "\n",
              "    .dataframe tbody tr th {\n",
              "        vertical-align: top;\n",
              "    }\n",
              "\n",
              "    .dataframe thead th {\n",
              "        text-align: right;\n",
              "    }\n",
              "</style>\n",
              "<table border=\"1\" class=\"dataframe\">\n",
              "  <thead>\n",
              "    <tr style=\"text-align: right;\">\n",
              "      <th></th>\n",
              "      <th>PassengerId</th>\n",
              "      <th>Survived</th>\n",
              "      <th>Pclass</th>\n",
              "      <th>Name</th>\n",
              "      <th>Sex</th>\n",
              "      <th>Age</th>\n",
              "      <th>SibSp</th>\n",
              "      <th>Parch</th>\n",
              "      <th>Ticket</th>\n",
              "      <th>Fare</th>\n",
              "      <th>Cabin</th>\n",
              "      <th>Embarked</th>\n",
              "    </tr>\n",
              "  </thead>\n",
              "  <tbody>\n",
              "    <tr>\n",
              "      <th>0</th>\n",
              "      <td>1</td>\n",
              "      <td>0</td>\n",
              "      <td>3</td>\n",
              "      <td>Braund, Mr. Owen Harris</td>\n",
              "      <td>male</td>\n",
              "      <td>22.0</td>\n",
              "      <td>1</td>\n",
              "      <td>0</td>\n",
              "      <td>A/5 21171</td>\n",
              "      <td>7.2500</td>\n",
              "      <td>NaN</td>\n",
              "      <td>S</td>\n",
              "    </tr>\n",
              "    <tr>\n",
              "      <th>1</th>\n",
              "      <td>2</td>\n",
              "      <td>1</td>\n",
              "      <td>1</td>\n",
              "      <td>Cumings, Mrs. John Bradley (Florence Briggs Th...</td>\n",
              "      <td>female</td>\n",
              "      <td>38.0</td>\n",
              "      <td>1</td>\n",
              "      <td>0</td>\n",
              "      <td>PC 17599</td>\n",
              "      <td>71.2833</td>\n",
              "      <td>C85</td>\n",
              "      <td>C</td>\n",
              "    </tr>\n",
              "    <tr>\n",
              "      <th>2</th>\n",
              "      <td>3</td>\n",
              "      <td>1</td>\n",
              "      <td>3</td>\n",
              "      <td>Heikkinen, Miss. Laina</td>\n",
              "      <td>female</td>\n",
              "      <td>26.0</td>\n",
              "      <td>0</td>\n",
              "      <td>0</td>\n",
              "      <td>STON/O2. 3101282</td>\n",
              "      <td>7.9250</td>\n",
              "      <td>NaN</td>\n",
              "      <td>S</td>\n",
              "    </tr>\n",
              "    <tr>\n",
              "      <th>3</th>\n",
              "      <td>4</td>\n",
              "      <td>1</td>\n",
              "      <td>1</td>\n",
              "      <td>Futrelle, Mrs. Jacques Heath (Lily May Peel)</td>\n",
              "      <td>female</td>\n",
              "      <td>35.0</td>\n",
              "      <td>1</td>\n",
              "      <td>0</td>\n",
              "      <td>113803</td>\n",
              "      <td>53.1000</td>\n",
              "      <td>C123</td>\n",
              "      <td>S</td>\n",
              "    </tr>\n",
              "    <tr>\n",
              "      <th>4</th>\n",
              "      <td>5</td>\n",
              "      <td>0</td>\n",
              "      <td>3</td>\n",
              "      <td>Allen, Mr. William Henry</td>\n",
              "      <td>male</td>\n",
              "      <td>35.0</td>\n",
              "      <td>0</td>\n",
              "      <td>0</td>\n",
              "      <td>373450</td>\n",
              "      <td>8.0500</td>\n",
              "      <td>NaN</td>\n",
              "      <td>S</td>\n",
              "    </tr>\n",
              "  </tbody>\n",
              "</table>\n",
              "</div>"
            ],
            "text/plain": [
              "   PassengerId  Survived  Pclass  ...     Fare Cabin  Embarked\n",
              "0            1         0       3  ...   7.2500   NaN         S\n",
              "1            2         1       1  ...  71.2833   C85         C\n",
              "2            3         1       3  ...   7.9250   NaN         S\n",
              "3            4         1       1  ...  53.1000  C123         S\n",
              "4            5         0       3  ...   8.0500   NaN         S\n",
              "\n",
              "[5 rows x 12 columns]"
            ]
          },
          "metadata": {
            "tags": []
          },
          "execution_count": 9
        }
      ]
    },
    {
      "cell_type": "markdown",
      "metadata": {
        "id": "-tTg9HKiKFWj"
      },
      "source": [
        "**Titanic dataset**"
      ]
    },
    {
      "cell_type": "code",
      "metadata": {
        "colab": {
          "base_uri": "https://localhost:8080/"
        },
        "id": "Isw3jGhCKFWk",
        "outputId": "98749552-8f5e-4140-bbe3-26c9a29839a3"
      },
      "source": [
        "df.info()"
      ],
      "execution_count": 10,
      "outputs": [
        {
          "output_type": "stream",
          "text": [
            "<class 'pandas.core.frame.DataFrame'>\n",
            "RangeIndex: 891 entries, 0 to 890\n",
            "Data columns (total 12 columns):\n",
            " #   Column       Non-Null Count  Dtype  \n",
            "---  ------       --------------  -----  \n",
            " 0   PassengerId  891 non-null    int64  \n",
            " 1   Survived     891 non-null    int64  \n",
            " 2   Pclass       891 non-null    int64  \n",
            " 3   Name         891 non-null    object \n",
            " 4   Sex          891 non-null    object \n",
            " 5   Age          714 non-null    float64\n",
            " 6   SibSp        891 non-null    int64  \n",
            " 7   Parch        891 non-null    int64  \n",
            " 8   Ticket       891 non-null    object \n",
            " 9   Fare         891 non-null    float64\n",
            " 10  Cabin        204 non-null    object \n",
            " 11  Embarked     889 non-null    object \n",
            "dtypes: float64(2), int64(5), object(5)\n",
            "memory usage: 83.7+ KB\n"
          ],
          "name": "stdout"
        }
      ]
    },
    {
      "cell_type": "code",
      "metadata": {
        "trusted": true,
        "colab": {
          "base_uri": "https://localhost:8080/"
        },
        "id": "TQQb6h1jKFWk",
        "outputId": "787363c8-ee86-4bce-8870-82e1820ad74d"
      },
      "source": [
        "df.columns"
      ],
      "execution_count": 11,
      "outputs": [
        {
          "output_type": "execute_result",
          "data": {
            "text/plain": [
              "Index(['PassengerId', 'Survived', 'Pclass', 'Name', 'Sex', 'Age', 'SibSp',\n",
              "       'Parch', 'Ticket', 'Fare', 'Cabin', 'Embarked'],\n",
              "      dtype='object')"
            ]
          },
          "metadata": {
            "tags": []
          },
          "execution_count": 11
        }
      ]
    },
    {
      "cell_type": "code",
      "metadata": {
        "trusted": true,
        "colab": {
          "base_uri": "https://localhost:8080/",
          "height": 295
        },
        "id": "vhma2eY9KFWl",
        "outputId": "00604c70-e937-4917-bd56-8a3b97bfbbe3"
      },
      "source": [
        "df.describe()"
      ],
      "execution_count": 12,
      "outputs": [
        {
          "output_type": "execute_result",
          "data": {
            "text/html": [
              "<div>\n",
              "<style scoped>\n",
              "    .dataframe tbody tr th:only-of-type {\n",
              "        vertical-align: middle;\n",
              "    }\n",
              "\n",
              "    .dataframe tbody tr th {\n",
              "        vertical-align: top;\n",
              "    }\n",
              "\n",
              "    .dataframe thead th {\n",
              "        text-align: right;\n",
              "    }\n",
              "</style>\n",
              "<table border=\"1\" class=\"dataframe\">\n",
              "  <thead>\n",
              "    <tr style=\"text-align: right;\">\n",
              "      <th></th>\n",
              "      <th>PassengerId</th>\n",
              "      <th>Survived</th>\n",
              "      <th>Pclass</th>\n",
              "      <th>Age</th>\n",
              "      <th>SibSp</th>\n",
              "      <th>Parch</th>\n",
              "      <th>Fare</th>\n",
              "    </tr>\n",
              "  </thead>\n",
              "  <tbody>\n",
              "    <tr>\n",
              "      <th>count</th>\n",
              "      <td>891.000000</td>\n",
              "      <td>891.000000</td>\n",
              "      <td>891.000000</td>\n",
              "      <td>714.000000</td>\n",
              "      <td>891.000000</td>\n",
              "      <td>891.000000</td>\n",
              "      <td>891.000000</td>\n",
              "    </tr>\n",
              "    <tr>\n",
              "      <th>mean</th>\n",
              "      <td>446.000000</td>\n",
              "      <td>0.383838</td>\n",
              "      <td>2.308642</td>\n",
              "      <td>29.699118</td>\n",
              "      <td>0.523008</td>\n",
              "      <td>0.381594</td>\n",
              "      <td>32.204208</td>\n",
              "    </tr>\n",
              "    <tr>\n",
              "      <th>std</th>\n",
              "      <td>257.353842</td>\n",
              "      <td>0.486592</td>\n",
              "      <td>0.836071</td>\n",
              "      <td>14.526497</td>\n",
              "      <td>1.102743</td>\n",
              "      <td>0.806057</td>\n",
              "      <td>49.693429</td>\n",
              "    </tr>\n",
              "    <tr>\n",
              "      <th>min</th>\n",
              "      <td>1.000000</td>\n",
              "      <td>0.000000</td>\n",
              "      <td>1.000000</td>\n",
              "      <td>0.420000</td>\n",
              "      <td>0.000000</td>\n",
              "      <td>0.000000</td>\n",
              "      <td>0.000000</td>\n",
              "    </tr>\n",
              "    <tr>\n",
              "      <th>25%</th>\n",
              "      <td>223.500000</td>\n",
              "      <td>0.000000</td>\n",
              "      <td>2.000000</td>\n",
              "      <td>20.125000</td>\n",
              "      <td>0.000000</td>\n",
              "      <td>0.000000</td>\n",
              "      <td>7.910400</td>\n",
              "    </tr>\n",
              "    <tr>\n",
              "      <th>50%</th>\n",
              "      <td>446.000000</td>\n",
              "      <td>0.000000</td>\n",
              "      <td>3.000000</td>\n",
              "      <td>28.000000</td>\n",
              "      <td>0.000000</td>\n",
              "      <td>0.000000</td>\n",
              "      <td>14.454200</td>\n",
              "    </tr>\n",
              "    <tr>\n",
              "      <th>75%</th>\n",
              "      <td>668.500000</td>\n",
              "      <td>1.000000</td>\n",
              "      <td>3.000000</td>\n",
              "      <td>38.000000</td>\n",
              "      <td>1.000000</td>\n",
              "      <td>0.000000</td>\n",
              "      <td>31.000000</td>\n",
              "    </tr>\n",
              "    <tr>\n",
              "      <th>max</th>\n",
              "      <td>891.000000</td>\n",
              "      <td>1.000000</td>\n",
              "      <td>3.000000</td>\n",
              "      <td>80.000000</td>\n",
              "      <td>8.000000</td>\n",
              "      <td>6.000000</td>\n",
              "      <td>512.329200</td>\n",
              "    </tr>\n",
              "  </tbody>\n",
              "</table>\n",
              "</div>"
            ],
            "text/plain": [
              "       PassengerId    Survived      Pclass  ...       SibSp       Parch        Fare\n",
              "count   891.000000  891.000000  891.000000  ...  891.000000  891.000000  891.000000\n",
              "mean    446.000000    0.383838    2.308642  ...    0.523008    0.381594   32.204208\n",
              "std     257.353842    0.486592    0.836071  ...    1.102743    0.806057   49.693429\n",
              "min       1.000000    0.000000    1.000000  ...    0.000000    0.000000    0.000000\n",
              "25%     223.500000    0.000000    2.000000  ...    0.000000    0.000000    7.910400\n",
              "50%     446.000000    0.000000    3.000000  ...    0.000000    0.000000   14.454200\n",
              "75%     668.500000    1.000000    3.000000  ...    1.000000    0.000000   31.000000\n",
              "max     891.000000    1.000000    3.000000  ...    8.000000    6.000000  512.329200\n",
              "\n",
              "[8 rows x 7 columns]"
            ]
          },
          "metadata": {
            "tags": []
          },
          "execution_count": 12
        }
      ]
    },
    {
      "cell_type": "markdown",
      "metadata": {
        "id": "aB4IOD6uKFWl"
      },
      "source": [
        "# Data Visualization"
      ]
    },
    {
      "cell_type": "code",
      "metadata": {
        "colab": {
          "base_uri": "https://localhost:8080/",
          "height": 333
        },
        "id": "zpWOYw8nKFWl",
        "outputId": "3dd3d297-85f1-4b53-eb0b-9ce53522e985"
      },
      "source": [
        "sns.heatmap(df.isnull(),yticklabels=False,cmap='viridis',cbar=False)\n"
      ],
      "execution_count": 13,
      "outputs": [
        {
          "output_type": "execute_result",
          "data": {
            "text/plain": [
              "<matplotlib.axes._subplots.AxesSubplot at 0x7f7c735ae990>"
            ]
          },
          "metadata": {
            "tags": []
          },
          "execution_count": 13
        },
        {
          "output_type": "display_data",
          "data": {
            "image/png": "[encoded data removed]",
            "text/plain": [
              "<Figure size 432x288 with 1 Axes>"
            ]
          },
          "metadata": {
            "tags": [],
            "needs_background": "light"
          }
        }
      ]
    },
    {
      "cell_type": "markdown",
      "metadata": {
        "id": "cG8JRbKiKFWm"
      },
      "source": [
        "**visualizing null values in the dataframe(dataset)**"
      ]
    },
    {
      "cell_type": "code",
      "metadata": {
        "colab": {
          "base_uri": "https://localhost:8080/",
          "height": 296
        },
        "id": "NhnApBPMKFWm",
        "outputId": "7393b10e-9a5f-41a6-d965-8a5d813fc555"
      },
      "source": [
        "sns.countplot(x='Survived',data=df,hue='Sex')\n"
      ],
      "execution_count": 14,
      "outputs": [
        {
          "output_type": "execute_result",
          "data": {
            "text/plain": [
              "<matplotlib.axes._subplots.AxesSubplot at 0x7f7c6ace2790>"
            ]
          },
          "metadata": {
            "tags": []
          },
          "execution_count": 14
        },
        {
          "output_type": "display_data",
          "data": {
            "image/png": "[encoded data removed]",
            "text/plain": [
              "<Figure size 432x288 with 1 Axes>"
            ]
          },
          "metadata": {
            "tags": [],
            "needs_background": "light"
          }
        }
      ]
    },
    {
      "cell_type": "markdown",
      "metadata": {
        "id": "Ehpc23bcKFWm"
      },
      "source": [
        "**plot showing number of passengers survived(1) and dead(0) based on gender**"
      ]
    },
    {
      "cell_type": "code",
      "metadata": {
        "colab": {
          "base_uri": "https://localhost:8080/",
          "height": 296
        },
        "id": "jTY6rr6tKFWn",
        "outputId": "cb88403d-ceeb-4826-a386-ace87ca46e16"
      },
      "source": [
        "sns.countplot(x='Survived',data=df,hue='Pclass')\n"
      ],
      "execution_count": 15,
      "outputs": [
        {
          "output_type": "execute_result",
          "data": {
            "text/plain": [
              "<matplotlib.axes._subplots.AxesSubplot at 0x7f7c73608c90>"
            ]
          },
          "metadata": {
            "tags": []
          },
          "execution_count": 15
        },
        {
          "output_type": "display_data",
          "data": {
            "image/png": "[encoded data removed]",
            "text/plain": [
              "<Figure size 432x288 with 1 Axes>"
            ]
          },
          "metadata": {
            "tags": [],
            "needs_background": "light"
          }
        }
      ]
    },
    {
      "cell_type": "markdown",
      "metadata": {
        "id": "5cXJ6Kr9KFWn"
      },
      "source": [
        "plot showing number of passengers survived(1) and dead(0) based on Passenger Class"
      ]
    },
    {
      "cell_type": "code",
      "metadata": {
        "colab": {
          "base_uri": "https://localhost:8080/",
          "height": 1000
        },
        "id": "k4f-eF5XKFWn",
        "outputId": "63bc65b9-2a7e-4f27-98d0-2e1f3faef399"
      },
      "source": [
        "f=plt.figure(figsize=(30,30))\n",
        "sns.countplot(x='Survived',data=df,hue='Age')\n",
        "plt.tight_layout()"
      ],
      "execution_count": 16,
      "outputs": [
        {
          "output_type": "display_data",
          "data": {
            "image/png": "[encoded data removed]",
            "text/plain": [
              "<Figure size 2160x2160 with 1 Axes>"
            ]
          },
          "metadata": {
            "tags": [],
            "needs_background": "light"
          }
        }
      ]
    },
    {
      "cell_type": "markdown",
      "metadata": {
        "id": "4qWx7845KFWo"
      },
      "source": [
        "**plot showing number of passengers survived(1) and dead(0) based on Age**"
      ]
    },
    {
      "cell_type": "code",
      "metadata": {
        "colab": {
          "base_uri": "https://localhost:8080/",
          "height": 350
        },
        "id": "xERGwOcNKFWo",
        "outputId": "cbda7db7-e9dc-4549-a057-be0703124213"
      },
      "source": [
        "sns.distplot(df['Age'].dropna(),kde=False,bins=30)\n"
      ],
      "execution_count": 17,
      "outputs": [
        {
          "output_type": "stream",
          "text": [
            "/usr/local/lib/python3.7/dist-packages/seaborn/distributions.py:2557: FutureWarning: `distplot` is a deprecated function and will be removed in a future version. Please adapt your code to use either `displot` (a figure-level function with similar flexibility) or `histplot` (an axes-level function for histograms).\n",
            "  warnings.warn(msg, FutureWarning)\n"
          ],
          "name": "stderr"
        },
        {
          "output_type": "execute_result",
          "data": {
            "text/plain": [
              "<matplotlib.axes._subplots.AxesSubplot at 0x7f7c694d7990>"
            ]
          },
          "metadata": {
            "tags": []
          },
          "execution_count": 17
        },
        {
          "output_type": "display_data",
          "data": {
            "image/png": "[encoded data removed]",
            "text/plain": [
              "<Figure size 432x288 with 1 Axes>"
            ]
          },
          "metadata": {
            "tags": [],
            "needs_background": "light"
          }
        }
      ]
    },
    {
      "cell_type": "markdown",
      "metadata": {
        "id": "yd9AOHPFKFWo"
      },
      "source": [
        "**plot showing the age distribution**"
      ]
    },
    {
      "cell_type": "code",
      "metadata": {
        "colab": {
          "base_uri": "https://localhost:8080/",
          "height": 296
        },
        "id": "rtxAYhqiKFWo",
        "outputId": "3220cb48-444d-4c97-dc34-e29750fb8717"
      },
      "source": [
        "sns.countplot(x='SibSp',data=df)\n"
      ],
      "execution_count": 18,
      "outputs": [
        {
          "output_type": "execute_result",
          "data": {
            "text/plain": [
              "<matplotlib.axes._subplots.AxesSubplot at 0x7f7c690f9310>"
            ]
          },
          "metadata": {
            "tags": []
          },
          "execution_count": 18
        },
        {
          "output_type": "display_data",
          "data": {
            "image/png": "[encoded data removed]",
            "text/plain": [
              "<Figure size 432x288 with 1 Axes>"
            ]
          },
          "metadata": {
            "tags": [],
            "needs_background": "light"
          }
        }
      ]
    },
    {
      "cell_type": "markdown",
      "metadata": {
        "id": "VAOUMbZrKFWo"
      },
      "source": [
        "**plot showing siblings distribution**"
      ]
    },
    {
      "cell_type": "code",
      "metadata": {
        "colab": {
          "base_uri": "https://localhost:8080/",
          "height": 392
        },
        "id": "RmdSlxwxKFWp",
        "outputId": "c0ea9c60-c218-48c7-8ee2-98270a1c994f"
      },
      "source": [
        "df['Fare'].hist(bins=40,figsize=(12,6))\n"
      ],
      "execution_count": 19,
      "outputs": [
        {
          "output_type": "execute_result",
          "data": {
            "text/plain": [
              "<matplotlib.axes._subplots.AxesSubplot at 0x7f7c677f8550>"
            ]
          },
          "metadata": {
            "tags": []
          },
          "execution_count": 19
        },
        {
          "output_type": "display_data",
          "data": {
            "image/png": "[encoded data removed]",
            "text/plain": [
              "<Figure size 864x432 with 1 Axes>"
            ]
          },
          "metadata": {
            "tags": [],
            "needs_background": "light"
          }
        }
      ]
    },
    {
      "cell_type": "markdown",
      "metadata": {
        "id": "OzmpaNDoKFWp"
      },
      "source": [
        "**plot showing Fare distribution**"
      ]
    },
    {
      "cell_type": "markdown",
      "metadata": {
        "id": "CppRT-L9KFWp"
      },
      "source": [
        "# Data Cleaning and Feature Engineering"
      ]
    },
    {
      "cell_type": "code",
      "metadata": {
        "colab": {
          "base_uri": "https://localhost:8080/",
          "height": 0
        },
        "id": "120m41QoKFWp",
        "outputId": "a9a6ba36-0a48-465c-94f7-05a296d29f80"
      },
      "source": [
        "df.drop(['Cabin'],axis=1,inplace=True)\n",
        "df.head()"
      ],
      "execution_count": 20,
      "outputs": [
        {
          "output_type": "execute_result",
          "data": {
            "text/html": [
              "<div>\n",
              "<style scoped>\n",
              "    .dataframe tbody tr th:only-of-type {\n",
              "        vertical-align: middle;\n",
              "    }\n",
              "\n",
              "    .dataframe tbody tr th {\n",
              "        vertical-align: top;\n",
              "    }\n",
              "\n",
              "    .dataframe thead th {\n",
              "        text-align: right;\n",
              "    }\n",
              "</style>\n",
              "<table border=\"1\" class=\"dataframe\">\n",
              "  <thead>\n",
              "    <tr style=\"text-align: right;\">\n",
              "      <th></th>\n",
              "      <th>PassengerId</th>\n",
              "      <th>Survived</th>\n",
              "      <th>Pclass</th>\n",
              "      <th>Name</th>\n",
              "      <th>Sex</th>\n",
              "      <th>Age</th>\n",
              "      <th>SibSp</th>\n",
              "      <th>Parch</th>\n",
              "      <th>Ticket</th>\n",
              "      <th>Fare</th>\n",
              "      <th>Embarked</th>\n",
              "    </tr>\n",
              "  </thead>\n",
              "  <tbody>\n",
              "    <tr>\n",
              "      <th>0</th>\n",
              "      <td>1</td>\n",
              "      <td>0</td>\n",
              "      <td>3</td>\n",
              "      <td>Braund, Mr. Owen Harris</td>\n",
              "      <td>male</td>\n",
              "      <td>22.0</td>\n",
              "      <td>1</td>\n",
              "      <td>0</td>\n",
              "      <td>A/5 21171</td>\n",
              "      <td>7.2500</td>\n",
              "      <td>S</td>\n",
              "    </tr>\n",
              "    <tr>\n",
              "      <th>1</th>\n",
              "      <td>2</td>\n",
              "      <td>1</td>\n",
              "      <td>1</td>\n",
              "      <td>Cumings, Mrs. John Bradley (Florence Briggs Th...</td>\n",
              "      <td>female</td>\n",
              "      <td>38.0</td>\n",
              "      <td>1</td>\n",
              "      <td>0</td>\n",
              "      <td>PC 17599</td>\n",
              "      <td>71.2833</td>\n",
              "      <td>C</td>\n",
              "    </tr>\n",
              "    <tr>\n",
              "      <th>2</th>\n",
              "      <td>3</td>\n",
              "      <td>1</td>\n",
              "      <td>3</td>\n",
              "      <td>Heikkinen, Miss. Laina</td>\n",
              "      <td>female</td>\n",
              "      <td>26.0</td>\n",
              "      <td>0</td>\n",
              "      <td>0</td>\n",
              "      <td>STON/O2. 3101282</td>\n",
              "      <td>7.9250</td>\n",
              "      <td>S</td>\n",
              "    </tr>\n",
              "    <tr>\n",
              "      <th>3</th>\n",
              "      <td>4</td>\n",
              "      <td>1</td>\n",
              "      <td>1</td>\n",
              "      <td>Futrelle, Mrs. Jacques Heath (Lily May Peel)</td>\n",
              "      <td>female</td>\n",
              "      <td>35.0</td>\n",
              "      <td>1</td>\n",
              "      <td>0</td>\n",
              "      <td>113803</td>\n",
              "      <td>53.1000</td>\n",
              "      <td>S</td>\n",
              "    </tr>\n",
              "    <tr>\n",
              "      <th>4</th>\n",
              "      <td>5</td>\n",
              "      <td>0</td>\n",
              "      <td>3</td>\n",
              "      <td>Allen, Mr. William Henry</td>\n",
              "      <td>male</td>\n",
              "      <td>35.0</td>\n",
              "      <td>0</td>\n",
              "      <td>0</td>\n",
              "      <td>373450</td>\n",
              "      <td>8.0500</td>\n",
              "      <td>S</td>\n",
              "    </tr>\n",
              "  </tbody>\n",
              "</table>\n",
              "</div>"
            ],
            "text/plain": [
              "   PassengerId  Survived  Pclass  ...            Ticket     Fare  Embarked\n",
              "0            1         0       3  ...         A/5 21171   7.2500         S\n",
              "1            2         1       1  ...          PC 17599  71.2833         C\n",
              "2            3         1       3  ...  STON/O2. 3101282   7.9250         S\n",
              "3            4         1       1  ...            113803  53.1000         S\n",
              "4            5         0       3  ...            373450   8.0500         S\n",
              "\n",
              "[5 rows x 11 columns]"
            ]
          },
          "metadata": {
            "tags": []
          },
          "execution_count": 20
        }
      ]
    },
    {
      "cell_type": "markdown",
      "metadata": {
        "id": "EPFxYyooKFWp"
      },
      "source": [
        "> **Removing Cabin column since it doesn't contribute in the classification process and also because this column has many null values**"
      ]
    },
    {
      "cell_type": "code",
      "metadata": {
        "colab": {
          "base_uri": "https://localhost:8080/",
          "height": 0
        },
        "id": "Tb_MntyzKFWq",
        "outputId": "57035cfc-4c7b-4370-f7e6-679c8d20e856"
      },
      "source": [
        "sns.heatmap(df.isnull())\n"
      ],
      "execution_count": 21,
      "outputs": [
        {
          "output_type": "execute_result",
          "data": {
            "text/plain": [
              "<matplotlib.axes._subplots.AxesSubplot at 0x7f7c67653190>"
            ]
          },
          "metadata": {
            "tags": []
          },
          "execution_count": 21
        },
        {
          "output_type": "display_data",
          "data": {
            "image/png": "[encoded data removed]",
            "text/plain": [
              "<Figure size 432x288 with 2 Axes>"
            ]
          },
          "metadata": {
            "tags": [],
            "needs_background": "light"
          }
        }
      ]
    },
    {
      "cell_type": "markdown",
      "metadata": {
        "id": "QpbGKZ3CKFWq"
      },
      "source": [
        "**Null values distribution**"
      ]
    },
    {
      "cell_type": "markdown",
      "metadata": {
        "id": "qoruZQgtKFWq"
      },
      "source": [
        "> # Functions for Feature Engineering"
      ]
    },
    {
      "cell_type": "code",
      "metadata": {
        "id": "I5LtOuDCKFWq"
      },
      "source": [
        "def acheck(cols):\n",
        "    age=cols[0]\n",
        "    pc=cols[1]\n",
        "    \n",
        "    if pd.isnull(age):\n",
        "        if pc==1:\n",
        "            return 37\n",
        "        elif pc==2:\n",
        "            return 29\n",
        "        else:\n",
        "            return 24\n",
        "        \n",
        "    else:\n",
        "        return age\n",
        "    \n",
        "def echeck(cols):\n",
        "    emb=cols[0]\n",
        "    if emb=='S':\n",
        "        return 1\n",
        "    elif emb=='C':\n",
        "        return 2\n",
        "    elif emb=='Q':\n",
        "        return 3\n",
        "    else:\n",
        "        return 9\n",
        "def pcheck(cols):\n",
        "    par=cols[0]\n",
        "    if par==0:\n",
        "        return 0\n",
        "    elif par==1 or par==2 or par==3 or par==4:\n",
        "        return 1\n",
        "    elif par==5 or par==6:\n",
        "        return 2\n",
        "    else:\n",
        "        return 3"
      ],
      "execution_count": 22,
      "outputs": []
    },
    {
      "cell_type": "code",
      "metadata": {
        "id": "Dj1CKhVCKFWr"
      },
      "source": [
        "df['Age']=df[['Age','Pclass']].apply(acheck,axis=1)"
      ],
      "execution_count": 23,
      "outputs": []
    },
    {
      "cell_type": "markdown",
      "metadata": {
        "id": "4gCXgEQsKFWr"
      },
      "source": [
        "**missing values in Age column are filled using this function: acheck(...)**"
      ]
    },
    {
      "cell_type": "code",
      "metadata": {
        "id": "FeWGyL-QKFWr"
      },
      "source": [
        "df['Embarked']=df[['Embarked']].apply(echeck,axis=1)"
      ],
      "execution_count": 24,
      "outputs": []
    },
    {
      "cell_type": "markdown",
      "metadata": {
        "id": "oEQK8s0aKFWr"
      },
      "source": [
        "**values in Embarked column are converted to numerical values**"
      ]
    },
    {
      "cell_type": "code",
      "metadata": {
        "id": "ESwnDNM8KFWr"
      },
      "source": [
        "df['Parch']=df[['Parch']].apply(pcheck,axis=1)"
      ],
      "execution_count": 25,
      "outputs": []
    },
    {
      "cell_type": "markdown",
      "metadata": {
        "id": "jci1j4xYKFWr"
      },
      "source": [
        "**values in Parch column are converted to numerical values**"
      ]
    },
    {
      "cell_type": "code",
      "metadata": {
        "colab": {
          "base_uri": "https://localhost:8080/",
          "height": 0
        },
        "id": "Uwkzo6K9KFWs",
        "outputId": "aa345ac3-185e-40b9-981f-1781743c505d"
      },
      "source": [
        "sns.heatmap(df.isnull())\n"
      ],
      "execution_count": 26,
      "outputs": [
        {
          "output_type": "execute_result",
          "data": {
            "text/plain": [
              "<matplotlib.axes._subplots.AxesSubplot at 0x7f7c674fcd90>"
            ]
          },
          "metadata": {
            "tags": []
          },
          "execution_count": 26
        },
        {
          "output_type": "display_data",
          "data": {
            "image/png": "[encoded data removed]",
            "text/plain": [
              "<Figure size 432x288 with 2 Axes>"
            ]
          },
          "metadata": {
            "tags": [],
            "needs_background": "light"
          }
        }
      ]
    },
    {
      "cell_type": "markdown",
      "metadata": {
        "id": "5XmjqRKDKFWs"
      },
      "source": [
        "**No Null values**"
      ]
    },
    {
      "cell_type": "code",
      "metadata": {
        "colab": {
          "base_uri": "https://localhost:8080/",
          "height": 0
        },
        "id": "6_9kHeW7KFWs",
        "outputId": "60672231-fb45-4e6f-d390-74ccea3cbcc3"
      },
      "source": [
        "df.head()"
      ],
      "execution_count": 27,
      "outputs": [
        {
          "output_type": "execute_result",
          "data": {
            "text/html": [
              "<div>\n",
              "<style scoped>\n",
              "    .dataframe tbody tr th:only-of-type {\n",
              "        vertical-align: middle;\n",
              "    }\n",
              "\n",
              "    .dataframe tbody tr th {\n",
              "        vertical-align: top;\n",
              "    }\n",
              "\n",
              "    .dataframe thead th {\n",
              "        text-align: right;\n",
              "    }\n",
              "</style>\n",
              "<table border=\"1\" class=\"dataframe\">\n",
              "  <thead>\n",
              "    <tr style=\"text-align: right;\">\n",
              "      <th></th>\n",
              "      <th>PassengerId</th>\n",
              "      <th>Survived</th>\n",
              "      <th>Pclass</th>\n",
              "      <th>Name</th>\n",
              "      <th>Sex</th>\n",
              "      <th>Age</th>\n",
              "      <th>SibSp</th>\n",
              "      <th>Parch</th>\n",
              "      <th>Ticket</th>\n",
              "      <th>Fare</th>\n",
              "      <th>Embarked</th>\n",
              "    </tr>\n",
              "  </thead>\n",
              "  <tbody>\n",
              "    <tr>\n",
              "      <th>0</th>\n",
              "      <td>1</td>\n",
              "      <td>0</td>\n",
              "      <td>3</td>\n",
              "      <td>Braund, Mr. Owen Harris</td>\n",
              "      <td>male</td>\n",
              "      <td>22.0</td>\n",
              "      <td>1</td>\n",
              "      <td>0</td>\n",
              "      <td>A/5 21171</td>\n",
              "      <td>7.2500</td>\n",
              "      <td>1</td>\n",
              "    </tr>\n",
              "    <tr>\n",
              "      <th>1</th>\n",
              "      <td>2</td>\n",
              "      <td>1</td>\n",
              "      <td>1</td>\n",
              "      <td>Cumings, Mrs. John Bradley (Florence Briggs Th...</td>\n",
              "      <td>female</td>\n",
              "      <td>38.0</td>\n",
              "      <td>1</td>\n",
              "      <td>0</td>\n",
              "      <td>PC 17599</td>\n",
              "      <td>71.2833</td>\n",
              "      <td>2</td>\n",
              "    </tr>\n",
              "    <tr>\n",
              "      <th>2</th>\n",
              "      <td>3</td>\n",
              "      <td>1</td>\n",
              "      <td>3</td>\n",
              "      <td>Heikkinen, Miss. Laina</td>\n",
              "      <td>female</td>\n",
              "      <td>26.0</td>\n",
              "      <td>0</td>\n",
              "      <td>0</td>\n",
              "      <td>STON/O2. 3101282</td>\n",
              "      <td>7.9250</td>\n",
              "      <td>1</td>\n",
              "    </tr>\n",
              "    <tr>\n",
              "      <th>3</th>\n",
              "      <td>4</td>\n",
              "      <td>1</td>\n",
              "      <td>1</td>\n",
              "      <td>Futrelle, Mrs. Jacques Heath (Lily May Peel)</td>\n",
              "      <td>female</td>\n",
              "      <td>35.0</td>\n",
              "      <td>1</td>\n",
              "      <td>0</td>\n",
              "      <td>113803</td>\n",
              "      <td>53.1000</td>\n",
              "      <td>1</td>\n",
              "    </tr>\n",
              "    <tr>\n",
              "      <th>4</th>\n",
              "      <td>5</td>\n",
              "      <td>0</td>\n",
              "      <td>3</td>\n",
              "      <td>Allen, Mr. William Henry</td>\n",
              "      <td>male</td>\n",
              "      <td>35.0</td>\n",
              "      <td>0</td>\n",
              "      <td>0</td>\n",
              "      <td>373450</td>\n",
              "      <td>8.0500</td>\n",
              "      <td>1</td>\n",
              "    </tr>\n",
              "  </tbody>\n",
              "</table>\n",
              "</div>"
            ],
            "text/plain": [
              "   PassengerId  Survived  Pclass  ...            Ticket     Fare  Embarked\n",
              "0            1         0       3  ...         A/5 21171   7.2500         1\n",
              "1            2         1       1  ...          PC 17599  71.2833         2\n",
              "2            3         1       3  ...  STON/O2. 3101282   7.9250         1\n",
              "3            4         1       1  ...            113803  53.1000         1\n",
              "4            5         0       3  ...            373450   8.0500         1\n",
              "\n",
              "[5 rows x 11 columns]"
            ]
          },
          "metadata": {
            "tags": []
          },
          "execution_count": 27
        }
      ]
    },
    {
      "cell_type": "markdown",
      "metadata": {
        "id": "sPWip-O-KFWs"
      },
      "source": [
        "> #        pandas.get_dummies(...)\n"
      ]
    },
    {
      "cell_type": "markdown",
      "metadata": {
        "id": "VIMCZVtMKFWs"
      },
      "source": [
        "**Convert categorical variable into dummy/indicator variables**"
      ]
    },
    {
      "cell_type": "code",
      "metadata": {
        "id": "E8SO7hHmKFWt"
      },
      "source": [
        "sex=pd.get_dummies(df['Sex'],drop_first=True)"
      ],
      "execution_count": 28,
      "outputs": []
    },
    {
      "cell_type": "code",
      "metadata": {
        "colab": {
          "base_uri": "https://localhost:8080/",
          "height": 0
        },
        "id": "mazE26_WKFWt",
        "outputId": "97d951d4-41a7-481a-fdfb-a25a3fe90e7c"
      },
      "source": [
        "sex"
      ],
      "execution_count": 29,
      "outputs": [
        {
          "output_type": "execute_result",
          "data": {
            "text/html": [
              "<div>\n",
              "<style scoped>\n",
              "    .dataframe tbody tr th:only-of-type {\n",
              "        vertical-align: middle;\n",
              "    }\n",
              "\n",
              "    .dataframe tbody tr th {\n",
              "        vertical-align: top;\n",
              "    }\n",
              "\n",
              "    .dataframe thead th {\n",
              "        text-align: right;\n",
              "    }\n",
              "</style>\n",
              "<table border=\"1\" class=\"dataframe\">\n",
              "  <thead>\n",
              "    <tr style=\"text-align: right;\">\n",
              "      <th></th>\n",
              "      <th>male</th>\n",
              "    </tr>\n",
              "  </thead>\n",
              "  <tbody>\n",
              "    <tr>\n",
              "      <th>0</th>\n",
              "      <td>1</td>\n",
              "    </tr>\n",
              "    <tr>\n",
              "      <th>1</th>\n",
              "      <td>0</td>\n",
              "    </tr>\n",
              "    <tr>\n",
              "      <th>2</th>\n",
              "      <td>0</td>\n",
              "    </tr>\n",
              "    <tr>\n",
              "      <th>3</th>\n",
              "      <td>0</td>\n",
              "    </tr>\n",
              "    <tr>\n",
              "      <th>4</th>\n",
              "      <td>1</td>\n",
              "    </tr>\n",
              "    <tr>\n",
              "      <th>...</th>\n",
              "      <td>...</td>\n",
              "    </tr>\n",
              "    <tr>\n",
              "      <th>886</th>\n",
              "      <td>1</td>\n",
              "    </tr>\n",
              "    <tr>\n",
              "      <th>887</th>\n",
              "      <td>0</td>\n",
              "    </tr>\n",
              "    <tr>\n",
              "      <th>888</th>\n",
              "      <td>0</td>\n",
              "    </tr>\n",
              "    <tr>\n",
              "      <th>889</th>\n",
              "      <td>1</td>\n",
              "    </tr>\n",
              "    <tr>\n",
              "      <th>890</th>\n",
              "      <td>1</td>\n",
              "    </tr>\n",
              "  </tbody>\n",
              "</table>\n",
              "<p>891 rows × 1 columns</p>\n",
              "</div>"
            ],
            "text/plain": [
              "     male\n",
              "0       1\n",
              "1       0\n",
              "2       0\n",
              "3       0\n",
              "4       1\n",
              "..    ...\n",
              "886     1\n",
              "887     0\n",
              "888     0\n",
              "889     1\n",
              "890     1\n",
              "\n",
              "[891 rows x 1 columns]"
            ]
          },
          "metadata": {
            "tags": []
          },
          "execution_count": 29
        }
      ]
    },
    {
      "cell_type": "code",
      "metadata": {
        "id": "B6s6oh9EKFWt"
      },
      "source": [
        "Pc=pd.get_dummies(df['Pclass'],drop_first=True)"
      ],
      "execution_count": 30,
      "outputs": []
    },
    {
      "cell_type": "code",
      "metadata": {
        "colab": {
          "base_uri": "https://localhost:8080/",
          "height": 0
        },
        "id": "rIuB7ZdCKFWt",
        "outputId": "ad2448d2-1c66-44ba-f121-fbea8dea4f5c"
      },
      "source": [
        "Pc"
      ],
      "execution_count": 31,
      "outputs": [
        {
          "output_type": "execute_result",
          "data": {
            "text/html": [
              "<div>\n",
              "<style scoped>\n",
              "    .dataframe tbody tr th:only-of-type {\n",
              "        vertical-align: middle;\n",
              "    }\n",
              "\n",
              "    .dataframe tbody tr th {\n",
              "        vertical-align: top;\n",
              "    }\n",
              "\n",
              "    .dataframe thead th {\n",
              "        text-align: right;\n",
              "    }\n",
              "</style>\n",
              "<table border=\"1\" class=\"dataframe\">\n",
              "  <thead>\n",
              "    <tr style=\"text-align: right;\">\n",
              "      <th></th>\n",
              "      <th>2</th>\n",
              "      <th>3</th>\n",
              "    </tr>\n",
              "  </thead>\n",
              "  <tbody>\n",
              "    <tr>\n",
              "      <th>0</th>\n",
              "      <td>0</td>\n",
              "      <td>1</td>\n",
              "    </tr>\n",
              "    <tr>\n",
              "      <th>1</th>\n",
              "      <td>0</td>\n",
              "      <td>0</td>\n",
              "    </tr>\n",
              "    <tr>\n",
              "      <th>2</th>\n",
              "      <td>0</td>\n",
              "      <td>1</td>\n",
              "    </tr>\n",
              "    <tr>\n",
              "      <th>3</th>\n",
              "      <td>0</td>\n",
              "      <td>0</td>\n",
              "    </tr>\n",
              "    <tr>\n",
              "      <th>4</th>\n",
              "      <td>0</td>\n",
              "      <td>1</td>\n",
              "    </tr>\n",
              "    <tr>\n",
              "      <th>...</th>\n",
              "      <td>...</td>\n",
              "      <td>...</td>\n",
              "    </tr>\n",
              "    <tr>\n",
              "      <th>886</th>\n",
              "      <td>1</td>\n",
              "      <td>0</td>\n",
              "    </tr>\n",
              "    <tr>\n",
              "      <th>887</th>\n",
              "      <td>0</td>\n",
              "      <td>0</td>\n",
              "    </tr>\n",
              "    <tr>\n",
              "      <th>888</th>\n",
              "      <td>0</td>\n",
              "      <td>1</td>\n",
              "    </tr>\n",
              "    <tr>\n",
              "      <th>889</th>\n",
              "      <td>0</td>\n",
              "      <td>0</td>\n",
              "    </tr>\n",
              "    <tr>\n",
              "      <th>890</th>\n",
              "      <td>0</td>\n",
              "      <td>1</td>\n",
              "    </tr>\n",
              "  </tbody>\n",
              "</table>\n",
              "<p>891 rows × 2 columns</p>\n",
              "</div>"
            ],
            "text/plain": [
              "     2  3\n",
              "0    0  1\n",
              "1    0  0\n",
              "2    0  1\n",
              "3    0  0\n",
              "4    0  1\n",
              "..  .. ..\n",
              "886  1  0\n",
              "887  0  0\n",
              "888  0  1\n",
              "889  0  0\n",
              "890  0  1\n",
              "\n",
              "[891 rows x 2 columns]"
            ]
          },
          "metadata": {
            "tags": []
          },
          "execution_count": 31
        }
      ]
    },
    {
      "cell_type": "code",
      "metadata": {
        "id": "l4pkZ6XbKFWt"
      },
      "source": [
        "df=pd.concat([df,sex,Pc],axis=1)"
      ],
      "execution_count": 32,
      "outputs": []
    },
    {
      "cell_type": "markdown",
      "metadata": {
        "id": "q7lc2gKfKFWu"
      },
      "source": [
        "**Concatenating the dataframe with new numerical columns**"
      ]
    },
    {
      "cell_type": "code",
      "metadata": {
        "colab": {
          "base_uri": "https://localhost:8080/",
          "height": 0
        },
        "id": "lG7PtxJhKFWu",
        "outputId": "3712cb7a-c6fd-4d35-bf8a-400b7fa2d4d2"
      },
      "source": [
        "df.head()"
      ],
      "execution_count": 33,
      "outputs": [
        {
          "output_type": "execute_result",
          "data": {
            "text/html": [
              "<div>\n",
              "<style scoped>\n",
              "    .dataframe tbody tr th:only-of-type {\n",
              "        vertical-align: middle;\n",
              "    }\n",
              "\n",
              "    .dataframe tbody tr th {\n",
              "        vertical-align: top;\n",
              "    }\n",
              "\n",
              "    .dataframe thead th {\n",
              "        text-align: right;\n",
              "    }\n",
              "</style>\n",
              "<table border=\"1\" class=\"dataframe\">\n",
              "  <thead>\n",
              "    <tr style=\"text-align: right;\">\n",
              "      <th></th>\n",
              "      <th>PassengerId</th>\n",
              "      <th>Survived</th>\n",
              "      <th>Pclass</th>\n",
              "      <th>Name</th>\n",
              "      <th>Sex</th>\n",
              "      <th>Age</th>\n",
              "      <th>SibSp</th>\n",
              "      <th>Parch</th>\n",
              "      <th>Ticket</th>\n",
              "      <th>Fare</th>\n",
              "      <th>Embarked</th>\n",
              "      <th>male</th>\n",
              "      <th>2</th>\n",
              "      <th>3</th>\n",
              "    </tr>\n",
              "  </thead>\n",
              "  <tbody>\n",
              "    <tr>\n",
              "      <th>0</th>\n",
              "      <td>1</td>\n",
              "      <td>0</td>\n",
              "      <td>3</td>\n",
              "      <td>Braund, Mr. Owen Harris</td>\n",
              "      <td>male</td>\n",
              "      <td>22.0</td>\n",
              "      <td>1</td>\n",
              "      <td>0</td>\n",
              "      <td>A/5 21171</td>\n",
              "      <td>7.2500</td>\n",
              "      <td>1</td>\n",
              "      <td>1</td>\n",
              "      <td>0</td>\n",
              "      <td>1</td>\n",
              "    </tr>\n",
              "    <tr>\n",
              "      <th>1</th>\n",
              "      <td>2</td>\n",
              "      <td>1</td>\n",
              "      <td>1</td>\n",
              "      <td>Cumings, Mrs. John Bradley (Florence Briggs Th...</td>\n",
              "      <td>female</td>\n",
              "      <td>38.0</td>\n",
              "      <td>1</td>\n",
              "      <td>0</td>\n",
              "      <td>PC 17599</td>\n",
              "      <td>71.2833</td>\n",
              "      <td>2</td>\n",
              "      <td>0</td>\n",
              "      <td>0</td>\n",
              "      <td>0</td>\n",
              "    </tr>\n",
              "    <tr>\n",
              "      <th>2</th>\n",
              "      <td>3</td>\n",
              "      <td>1</td>\n",
              "      <td>3</td>\n",
              "      <td>Heikkinen, Miss. Laina</td>\n",
              "      <td>female</td>\n",
              "      <td>26.0</td>\n",
              "      <td>0</td>\n",
              "      <td>0</td>\n",
              "      <td>STON/O2. 3101282</td>\n",
              "      <td>7.9250</td>\n",
              "      <td>1</td>\n",
              "      <td>0</td>\n",
              "      <td>0</td>\n",
              "      <td>1</td>\n",
              "    </tr>\n",
              "    <tr>\n",
              "      <th>3</th>\n",
              "      <td>4</td>\n",
              "      <td>1</td>\n",
              "      <td>1</td>\n",
              "      <td>Futrelle, Mrs. Jacques Heath (Lily May Peel)</td>\n",
              "      <td>female</td>\n",
              "      <td>35.0</td>\n",
              "      <td>1</td>\n",
              "      <td>0</td>\n",
              "      <td>113803</td>\n",
              "      <td>53.1000</td>\n",
              "      <td>1</td>\n",
              "      <td>0</td>\n",
              "      <td>0</td>\n",
              "      <td>0</td>\n",
              "    </tr>\n",
              "    <tr>\n",
              "      <th>4</th>\n",
              "      <td>5</td>\n",
              "      <td>0</td>\n",
              "      <td>3</td>\n",
              "      <td>Allen, Mr. William Henry</td>\n",
              "      <td>male</td>\n",
              "      <td>35.0</td>\n",
              "      <td>0</td>\n",
              "      <td>0</td>\n",
              "      <td>373450</td>\n",
              "      <td>8.0500</td>\n",
              "      <td>1</td>\n",
              "      <td>1</td>\n",
              "      <td>0</td>\n",
              "      <td>1</td>\n",
              "    </tr>\n",
              "  </tbody>\n",
              "</table>\n",
              "</div>"
            ],
            "text/plain": [
              "   PassengerId  Survived  Pclass  ... male  2  3\n",
              "0            1         0       3  ...    1  0  1\n",
              "1            2         1       1  ...    0  0  0\n",
              "2            3         1       3  ...    0  0  1\n",
              "3            4         1       1  ...    0  0  0\n",
              "4            5         0       3  ...    1  0  1\n",
              "\n",
              "[5 rows x 14 columns]"
            ]
          },
          "metadata": {
            "tags": []
          },
          "execution_count": 33
        }
      ]
    },
    {
      "cell_type": "code",
      "metadata": {
        "colab": {
          "base_uri": "https://localhost:8080/"
        },
        "id": "oZvfq2HbKFWu",
        "outputId": "b7b364d3-12ba-4106-a92b-30ab3270ef2a"
      },
      "source": [
        "y=df['Survived']\n",
        "y.head()"
      ],
      "execution_count": 34,
      "outputs": [
        {
          "output_type": "execute_result",
          "data": {
            "text/plain": [
              "0    0\n",
              "1    1\n",
              "2    1\n",
              "3    1\n",
              "4    0\n",
              "Name: Survived, dtype: int64"
            ]
          },
          "metadata": {
            "tags": []
          },
          "execution_count": 34
        }
      ]
    },
    {
      "cell_type": "markdown",
      "metadata": {
        "id": "XIHT3qcWKFWu"
      },
      "source": [
        "**Storing price column for training and testing purpose**"
      ]
    },
    {
      "cell_type": "code",
      "metadata": {
        "id": "nQ-GHrgdKFWu"
      },
      "source": [
        "df.drop(['Sex','Ticket','Name','PassengerId','Pclass','Survived'],axis=1,inplace=True)"
      ],
      "execution_count": 35,
      "outputs": []
    },
    {
      "cell_type": "markdown",
      "metadata": {
        "id": "95bxUmQbKFWv"
      },
      "source": [
        "**Removing categorical columns as they have been replaced by respective numerical columns**"
      ]
    },
    {
      "cell_type": "code",
      "metadata": {
        "colab": {
          "base_uri": "https://localhost:8080/",
          "height": 0
        },
        "id": "1jUgk0U8KFWv",
        "outputId": "2d904f6a-e115-4faf-b6d4-1116c1fb3826"
      },
      "source": [
        "df.head(10)"
      ],
      "execution_count": 36,
      "outputs": [
        {
          "output_type": "execute_result",
          "data": {
            "text/html": [
              "<div>\n",
              "<style scoped>\n",
              "    .dataframe tbody tr th:only-of-type {\n",
              "        vertical-align: middle;\n",
              "    }\n",
              "\n",
              "    .dataframe tbody tr th {\n",
              "        vertical-align: top;\n",
              "    }\n",
              "\n",
              "    .dataframe thead th {\n",
              "        text-align: right;\n",
              "    }\n",
              "</style>\n",
              "<table border=\"1\" class=\"dataframe\">\n",
              "  <thead>\n",
              "    <tr style=\"text-align: right;\">\n",
              "      <th></th>\n",
              "      <th>Age</th>\n",
              "      <th>SibSp</th>\n",
              "      <th>Parch</th>\n",
              "      <th>Fare</th>\n",
              "      <th>Embarked</th>\n",
              "      <th>male</th>\n",
              "      <th>2</th>\n",
              "      <th>3</th>\n",
              "    </tr>\n",
              "  </thead>\n",
              "  <tbody>\n",
              "    <tr>\n",
              "      <th>0</th>\n",
              "      <td>22.0</td>\n",
              "      <td>1</td>\n",
              "      <td>0</td>\n",
              "      <td>7.2500</td>\n",
              "      <td>1</td>\n",
              "      <td>1</td>\n",
              "      <td>0</td>\n",
              "      <td>1</td>\n",
              "    </tr>\n",
              "    <tr>\n",
              "      <th>1</th>\n",
              "      <td>38.0</td>\n",
              "      <td>1</td>\n",
              "      <td>0</td>\n",
              "      <td>71.2833</td>\n",
              "      <td>2</td>\n",
              "      <td>0</td>\n",
              "      <td>0</td>\n",
              "      <td>0</td>\n",
              "    </tr>\n",
              "    <tr>\n",
              "      <th>2</th>\n",
              "      <td>26.0</td>\n",
              "      <td>0</td>\n",
              "      <td>0</td>\n",
              "      <td>7.9250</td>\n",
              "      <td>1</td>\n",
              "      <td>0</td>\n",
              "      <td>0</td>\n",
              "      <td>1</td>\n",
              "    </tr>\n",
              "    <tr>\n",
              "      <th>3</th>\n",
              "      <td>35.0</td>\n",
              "      <td>1</td>\n",
              "      <td>0</td>\n",
              "      <td>53.1000</td>\n",
              "      <td>1</td>\n",
              "      <td>0</td>\n",
              "      <td>0</td>\n",
              "      <td>0</td>\n",
              "    </tr>\n",
              "    <tr>\n",
              "      <th>4</th>\n",
              "      <td>35.0</td>\n",
              "      <td>0</td>\n",
              "      <td>0</td>\n",
              "      <td>8.0500</td>\n",
              "      <td>1</td>\n",
              "      <td>1</td>\n",
              "      <td>0</td>\n",
              "      <td>1</td>\n",
              "    </tr>\n",
              "    <tr>\n",
              "      <th>5</th>\n",
              "      <td>24.0</td>\n",
              "      <td>0</td>\n",
              "      <td>0</td>\n",
              "      <td>8.4583</td>\n",
              "      <td>3</td>\n",
              "      <td>1</td>\n",
              "      <td>0</td>\n",
              "      <td>1</td>\n",
              "    </tr>\n",
              "    <tr>\n",
              "      <th>6</th>\n",
              "      <td>54.0</td>\n",
              "      <td>0</td>\n",
              "      <td>0</td>\n",
              "      <td>51.8625</td>\n",
              "      <td>1</td>\n",
              "      <td>1</td>\n",
              "      <td>0</td>\n",
              "      <td>0</td>\n",
              "    </tr>\n",
              "    <tr>\n",
              "      <th>7</th>\n",
              "      <td>2.0</td>\n",
              "      <td>3</td>\n",
              "      <td>1</td>\n",
              "      <td>21.0750</td>\n",
              "      <td>1</td>\n",
              "      <td>1</td>\n",
              "      <td>0</td>\n",
              "      <td>1</td>\n",
              "    </tr>\n",
              "    <tr>\n",
              "      <th>8</th>\n",
              "      <td>27.0</td>\n",
              "      <td>0</td>\n",
              "      <td>1</td>\n",
              "      <td>11.1333</td>\n",
              "      <td>1</td>\n",
              "      <td>0</td>\n",
              "      <td>0</td>\n",
              "      <td>1</td>\n",
              "    </tr>\n",
              "    <tr>\n",
              "      <th>9</th>\n",
              "      <td>14.0</td>\n",
              "      <td>1</td>\n",
              "      <td>0</td>\n",
              "      <td>30.0708</td>\n",
              "      <td>2</td>\n",
              "      <td>0</td>\n",
              "      <td>1</td>\n",
              "      <td>0</td>\n",
              "    </tr>\n",
              "  </tbody>\n",
              "</table>\n",
              "</div>"
            ],
            "text/plain": [
              "    Age  SibSp  Parch     Fare  Embarked  male  2  3\n",
              "0  22.0      1      0   7.2500         1     1  0  1\n",
              "1  38.0      1      0  71.2833         2     0  0  0\n",
              "2  26.0      0      0   7.9250         1     0  0  1\n",
              "3  35.0      1      0  53.1000         1     0  0  0\n",
              "4  35.0      0      0   8.0500         1     1  0  1\n",
              "5  24.0      0      0   8.4583         3     1  0  1\n",
              "6  54.0      0      0  51.8625         1     1  0  0\n",
              "7   2.0      3      1  21.0750         1     1  0  1\n",
              "8  27.0      0      1  11.1333         1     0  0  1\n",
              "9  14.0      1      0  30.0708         2     0  1  0"
            ]
          },
          "metadata": {
            "tags": []
          },
          "execution_count": 36
        }
      ]
    },
    {
      "cell_type": "code",
      "metadata": {
        "trusted": true,
        "colab": {
          "base_uri": "https://localhost:8080/"
        },
        "id": "g2xNv1LcKFWv",
        "outputId": "6de9c785-fb1f-45d2-d8cb-f817836d16e9"
      },
      "source": [
        "df.columns"
      ],
      "execution_count": 37,
      "outputs": [
        {
          "output_type": "execute_result",
          "data": {
            "text/plain": [
              "Index(['Age', 'SibSp', 'Parch', 'Fare', 'Embarked', 'male', 2, 3], dtype='object')"
            ]
          },
          "metadata": {
            "tags": []
          },
          "execution_count": 37
        }
      ]
    },
    {
      "cell_type": "markdown",
      "metadata": {
        "id": "yn-Y6ItlKFWv"
      },
      "source": [
        "**Available columns for prediction model**"
      ]
    },
    {
      "cell_type": "markdown",
      "metadata": {
        "id": "XvoItXlrKFWv"
      },
      "source": [
        "> # Dataset splitting"
      ]
    },
    {
      "cell_type": "code",
      "metadata": {
        "id": "cYbSV_5gKFWw"
      },
      "source": [
        "from sklearn.model_selection import train_test_split\n"
      ],
      "execution_count": 38,
      "outputs": []
    },
    {
      "cell_type": "code",
      "metadata": {
        "id": "_2p6z6V_KFWw"
      },
      "source": [
        "X_train, X_test, Y_train, Y_test = train_test_split(df, y)"
      ],
      "execution_count": 39,
      "outputs": []
    },
    {
      "cell_type": "markdown",
      "metadata": {
        "id": "-kcaIIu_KFWw"
      },
      "source": [
        "# Building Neural Network Model"
      ]
    },
    {
      "cell_type": "code",
      "metadata": {
        "id": "Y_Lt--E6KFWw"
      },
      "source": [
        "from sklearn.neural_network import MLPClassifier"
      ],
      "execution_count": 40,
      "outputs": []
    },
    {
      "cell_type": "markdown",
      "metadata": {
        "id": "ykluzla_KFWw"
      },
      "source": [
        "> # Neural Network Model from sklearn"
      ]
    },
    {
      "cell_type": "code",
      "metadata": {
        "id": "OoYIS56vKFWx"
      },
      "source": [
        "mlp = MLPClassifier(hidden_layer_sizes=(512,), verbose = 1,activation='relu',solver='adam',warm_start=True)"
      ],
      "execution_count": 41,
      "outputs": []
    },
    {
      "cell_type": "markdown",
      "metadata": {
        "id": "6-kUEmS5KFWz"
      },
      "source": [
        "An MLP (or Artificial Neural Network - ANN) with a single hidden layer "
      ]
    },
    {
      "cell_type": "code",
      "metadata": {
        "colab": {
          "base_uri": "https://localhost:8080/"
        },
        "id": "VdSOIt9FKFWz",
        "outputId": "157c5b7d-2228-4709-de0e-b66082dea392"
      },
      "source": [
        "mlp"
      ],
      "execution_count": 42,
      "outputs": [
        {
          "output_type": "execute_result",
          "data": {
            "text/plain": [
              "MLPClassifier(activation='relu', alpha=0.0001, batch_size='auto', beta_1=0.9,\n",
              "              beta_2=0.999, early_stopping=False, epsilon=1e-08,\n",
              "              hidden_layer_sizes=(512,), learning_rate='constant',\n",
              "              learning_rate_init=0.001, max_fun=15000, max_iter=200,\n",
              "              momentum=0.9, n_iter_no_change=10, nesterovs_momentum=True,\n",
              "              power_t=0.5, random_state=None, shuffle=True, solver='adam',\n",
              "              tol=0.0001, validation_fraction=0.1, verbose=1, warm_start=True)"
            ]
          },
          "metadata": {
            "tags": []
          },
          "execution_count": 42
        }
      ]
    },
    {
      "cell_type": "markdown",
      "metadata": {
        "id": "1VrcA9Q8KFWz"
      },
      "source": [
        "# Running/Fitting the Models"
      ]
    },
    {
      "cell_type": "code",
      "metadata": {
        "colab": {
          "base_uri": "https://localhost:8080/"
        },
        "id": "VdqjHdRZKFW0",
        "outputId": "0dfe67c5-7633-4bae-a9aa-01afc10c0606"
      },
      "source": [
        "mlp.fit(X_train, Y_train)"
      ],
      "execution_count": 43,
      "outputs": [
        {
          "output_type": "stream",
          "text": [
            "Iteration 1, loss = 0.81114359\n",
            "Iteration 2, loss = 0.68669798\n",
            "Iteration 3, loss = 0.63099399\n",
            "Iteration 4, loss = 0.57800482\n",
            "Iteration 5, loss = 0.55835707\n",
            "Iteration 6, loss = 0.55180393\n",
            "Iteration 7, loss = 0.54794087\n",
            "Iteration 8, loss = 0.54654389\n",
            "Iteration 9, loss = 0.53033119\n",
            "Iteration 10, loss = 0.52228966\n",
            "Iteration 11, loss = 0.52101077\n",
            "Iteration 12, loss = 0.53621944\n",
            "Iteration 13, loss = 0.51784295\n",
            "Iteration 14, loss = 0.50439272\n",
            "Iteration 15, loss = 0.49990115\n",
            "Iteration 16, loss = 0.50652625\n",
            "Iteration 17, loss = 0.49377412\n",
            "Iteration 18, loss = 0.49545837\n",
            "Iteration 19, loss = 0.50465935\n",
            "Iteration 20, loss = 0.50827046\n",
            "Iteration 21, loss = 0.49200594\n",
            "Iteration 22, loss = 0.47930803\n",
            "Iteration 23, loss = 0.47778281\n",
            "Iteration 24, loss = 0.47474329\n",
            "Iteration 25, loss = 0.48630447\n",
            "Iteration 26, loss = 0.47240814\n",
            "Iteration 27, loss = 0.47403235\n",
            "Iteration 28, loss = 0.46788015\n",
            "Iteration 29, loss = 0.47244838\n",
            "Iteration 30, loss = 0.47256213\n",
            "Iteration 31, loss = 0.46024401\n",
            "Iteration 32, loss = 0.47438707\n",
            "Iteration 33, loss = 0.45820218\n",
            "Iteration 34, loss = 0.45230447\n",
            "Iteration 35, loss = 0.45941962\n",
            "Iteration 36, loss = 0.45720256\n",
            "Iteration 37, loss = 0.45136804\n",
            "Iteration 38, loss = 0.44572600\n",
            "Iteration 39, loss = 0.44469828\n",
            "Iteration 40, loss = 0.44322821\n",
            "Iteration 41, loss = 0.46172546\n",
            "Iteration 42, loss = 0.46849608\n",
            "Iteration 43, loss = 0.45723190\n",
            "Iteration 44, loss = 0.43765699\n",
            "Iteration 45, loss = 0.45049365\n",
            "Iteration 46, loss = 0.45544505\n",
            "Iteration 47, loss = 0.44339465\n",
            "Iteration 48, loss = 0.43702874\n",
            "Iteration 49, loss = 0.43318752\n",
            "Iteration 50, loss = 0.44068773\n",
            "Iteration 51, loss = 0.43470492\n",
            "Iteration 52, loss = 0.43885189\n",
            "Iteration 53, loss = 0.43108791\n",
            "Iteration 54, loss = 0.43056397\n",
            "Iteration 55, loss = 0.43967015\n",
            "Iteration 56, loss = 0.44152566\n",
            "Iteration 57, loss = 0.43048834\n",
            "Iteration 58, loss = 0.43406750\n",
            "Iteration 59, loss = 0.43379195\n",
            "Iteration 60, loss = 0.47304799\n",
            "Iteration 61, loss = 0.43517179\n",
            "Iteration 62, loss = 0.44699350\n",
            "Iteration 63, loss = 0.45632005\n",
            "Iteration 64, loss = 0.50521906\n",
            "Iteration 65, loss = 0.51527301\n",
            "Training loss did not improve more than tol=0.000100 for 10 consecutive epochs. Stopping.\n"
          ],
          "name": "stdout"
        },
        {
          "output_type": "execute_result",
          "data": {
            "text/plain": [
              "MLPClassifier(activation='relu', alpha=0.0001, batch_size='auto', beta_1=0.9,\n",
              "              beta_2=0.999, early_stopping=False, epsilon=1e-08,\n",
              "              hidden_layer_sizes=(512,), learning_rate='constant',\n",
              "              learning_rate_init=0.001, max_fun=15000, max_iter=200,\n",
              "              momentum=0.9, n_iter_no_change=10, nesterovs_momentum=True,\n",
              "              power_t=0.5, random_state=None, shuffle=True, solver='adam',\n",
              "              tol=0.0001, validation_fraction=0.1, verbose=1, warm_start=True)"
            ]
          },
          "metadata": {
            "tags": []
          },
          "execution_count": 43
        }
      ]
    },
    {
      "cell_type": "markdown",
      "metadata": {
        "id": "RMLzgXjNKFW0"
      },
      "source": [
        "# Gathering Predictions from the model"
      ]
    },
    {
      "cell_type": "code",
      "metadata": {
        "colab": {
          "base_uri": "https://localhost:8080/"
        },
        "id": "1Yi3xpvXKFW0",
        "outputId": "4b6a6c8f-9bd2-49db-fa5c-530c0ae21921"
      },
      "source": [
        "\n",
        "pred=mlp.predict(X_test)\n",
        "print(pred)\n"
      ],
      "execution_count": 44,
      "outputs": [
        {
          "output_type": "stream",
          "text": [
            "[1 0 1 0 0 0 0 0 0 0 0 1 0 0 0 0 1 1 0 0 0 0 0 0 0 1 0 0 0 1 0 0 0 0 0 0 0\n",
            " 1 1 0 0 0 0 1 0 0 1 0 0 1 0 1 0 1 1 0 0 0 0 0 1 0 0 0 0 0 0 0 1 1 1 0 1 0\n",
            " 0 0 0 0 1 0 0 0 0 0 0 0 0 1 0 1 0 1 0 1 0 1 0 1 0 0 1 0 0 0 0 1 1 0 0 0 0\n",
            " 0 0 0 0 0 0 0 1 1 0 0 0 0 0 0 0 0 0 0 0 0 1 0 0 1 1 0 0 0 0 0 0 1 0 0 0 0\n",
            " 0 0 0 0 0 0 0 1 1 1 0 0 0 0 1 1 0 1 0 0 1 1 0 0 0 1 1 0 1 1 0 0 1 1 1 1 1\n",
            " 0 1 0 1 0 0 0 0 1 0 0 0 1 1 0 1 1 1 1 0 0 1 0 1 0 0 0 0 0 0 0 1 0 1 0 1 0\n",
            " 1]\n"
          ],
          "name": "stdout"
        }
      ]
    },
    {
      "cell_type": "markdown",
      "metadata": {
        "id": "He3JqT4EKFW0"
      },
      "source": [
        "# Accuracy and Classification report"
      ]
    },
    {
      "cell_type": "code",
      "metadata": {
        "colab": {
          "base_uri": "https://localhost:8080/"
        },
        "id": "ISvCM0HYKFW1",
        "outputId": "4effdfcd-0869-4117-d28f-1451c73edf75"
      },
      "source": [
        "from sklearn.metrics import classification_report\n",
        "from sklearn.metrics import accuracy_score\n",
        "print(\"accuracy=\",accuracy_score(Y_test, pred))\n",
        "print(classification_report(pred,Y_test))"
      ],
      "execution_count": 45,
      "outputs": [
        {
          "output_type": "stream",
          "text": [
            "accuracy= 0.7802690582959642\n",
            "              precision    recall  f1-score   support\n",
            "\n",
            "           0       0.91      0.75      0.83       155\n",
            "           1       0.60      0.84      0.70        68\n",
            "\n",
            "    accuracy                           0.78       223\n",
            "   macro avg       0.76      0.80      0.76       223\n",
            "weighted avg       0.82      0.78      0.79       223\n",
            "\n"
          ],
          "name": "stdout"
        }
      ]
    },
    {
      "cell_type": "code",
      "metadata": {
        "id": "T3rPO0KrY-uJ"
      },
      "source": [
        "import pandas as pd\n",
        "import numpy as np\n",
        "import tensorflow as tf\n",
        "from tensorflow import keras\n",
        "import os"
      ],
      "execution_count": 46,
      "outputs": []
    },
    {
      "cell_type": "code",
      "metadata": {
        "colab": {
          "base_uri": "https://localhost:8080/"
        },
        "id": "QjqPKhM3ZWsj",
        "outputId": "cbce42a0-a20e-4036-f67a-49d75caff849"
      },
      "source": [
        "import math\n",
        "numFeatures = len(X_train.columns)\n",
        "inputNeurons = math.ceil(2*(numFeatures)/3)\n",
        "print(inputNeurons)"
      ],
      "execution_count": 47,
      "outputs": [
        {
          "output_type": "stream",
          "text": [
            "6\n"
          ],
          "name": "stdout"
        }
      ]
    },
    {
      "cell_type": "code",
      "metadata": {
        "id": "oEWIotISY-8K"
      },
      "source": [
        "model1 = tf.keras.Sequential([\n",
        "                             tf.keras.layers.Dense(units = inputNeurons, activation = 'relu'),#input layer\n",
        "                             tf.keras.layers.Dense(units = 2*inputNeurons, activation='relu'), #only hidden layer should be more than 1 \n",
        "                             tf.keras.layers.Dense(1, activation='sigmoid') #output layer\n",
        "])"
      ],
      "execution_count": 48,
      "outputs": []
    },
    {
      "cell_type": "code",
      "metadata": {
        "id": "-QPkp6cpY_Yb"
      },
      "source": [
        "model1.compile(optimizer=tf.keras.optimizers.RMSprop(learning_rate=0.001), loss='binary_crossentropy', metrics=['accuracy'])"
      ],
      "execution_count": 49,
      "outputs": []
    },
    {
      "cell_type": "code",
      "metadata": {
        "id": "8wFXnqJsY_bH"
      },
      "source": [
        "early_stopping = tf.keras.callbacks.EarlyStopping(monitor='val_accuracy', patience=100)"
      ],
      "execution_count": 50,
      "outputs": []
    },
    {
      "cell_type": "code",
      "metadata": {
        "colab": {
          "base_uri": "https://localhost:8080/"
        },
        "id": "c4SF8OWJY_d-",
        "outputId": "8ba490e3-3b92-4888-a357-fb4f8feaba30"
      },
      "source": [
        "numEpochs = 500\n",
        "history = model1.fit(X_train, Y_train, epochs=numEpochs,validation_data=(X_test,Y_test),callbacks=[early_stopping])"
      ],
      "execution_count": 51,
      "outputs": [
        {
          "output_type": "stream",
          "text": [
            "Epoch 1/500\n",
            "21/21 [==============================] - 1s 12ms/step - loss: 3.5359 - accuracy: 0.3698 - val_loss: 2.1957 - val_accuracy: 0.4215\n",
            "Epoch 2/500\n",
            "21/21 [==============================] - 0s 3ms/step - loss: 1.8497 - accuracy: 0.5299 - val_loss: 1.3224 - val_accuracy: 0.6637\n",
            "Epoch 3/500\n",
            "21/21 [==============================] - 0s 3ms/step - loss: 1.3235 - accuracy: 0.6856 - val_loss: 1.1262 - val_accuracy: 0.6906\n",
            "Epoch 4/500\n",
            "21/21 [==============================] - 0s 3ms/step - loss: 1.0749 - accuracy: 0.6841 - val_loss: 0.9334 - val_accuracy: 0.6816\n",
            "Epoch 5/500\n",
            "21/21 [==============================] - 0s 2ms/step - loss: 0.8822 - accuracy: 0.6886 - val_loss: 0.7872 - val_accuracy: 0.6682\n",
            "Epoch 6/500\n",
            "21/21 [==============================] - 0s 3ms/step - loss: 0.7357 - accuracy: 0.6886 - val_loss: 0.7087 - val_accuracy: 0.6323\n",
            "Epoch 7/500\n",
            "21/21 [==============================] - 0s 2ms/step - loss: 0.6781 - accuracy: 0.6931 - val_loss: 0.7114 - val_accuracy: 0.6323\n",
            "Epoch 8/500\n",
            "21/21 [==============================] - 0s 2ms/step - loss: 0.6561 - accuracy: 0.6871 - val_loss: 0.6964 - val_accuracy: 0.6323\n",
            "Epoch 9/500\n",
            "21/21 [==============================] - 0s 3ms/step - loss: 0.6406 - accuracy: 0.6961 - val_loss: 0.6675 - val_accuracy: 0.6368\n",
            "Epoch 10/500\n",
            "21/21 [==============================] - 0s 3ms/step - loss: 0.6246 - accuracy: 0.7006 - val_loss: 0.6678 - val_accuracy: 0.6502\n",
            "Epoch 11/500\n",
            "21/21 [==============================] - 0s 3ms/step - loss: 0.6214 - accuracy: 0.7081 - val_loss: 0.6793 - val_accuracy: 0.6368\n",
            "Epoch 12/500\n",
            "21/21 [==============================] - 0s 3ms/step - loss: 0.6163 - accuracy: 0.7066 - val_loss: 0.6640 - val_accuracy: 0.6368\n",
            "Epoch 13/500\n",
            "21/21 [==============================] - 0s 3ms/step - loss: 0.6125 - accuracy: 0.7066 - val_loss: 0.6560 - val_accuracy: 0.6413\n",
            "Epoch 14/500\n",
            "21/21 [==============================] - 0s 2ms/step - loss: 0.6068 - accuracy: 0.7111 - val_loss: 0.6573 - val_accuracy: 0.6547\n",
            "Epoch 15/500\n",
            "21/21 [==============================] - 0s 2ms/step - loss: 0.6014 - accuracy: 0.7111 - val_loss: 0.6552 - val_accuracy: 0.6278\n",
            "Epoch 16/500\n",
            "21/21 [==============================] - 0s 3ms/step - loss: 0.6005 - accuracy: 0.7081 - val_loss: 0.6510 - val_accuracy: 0.6502\n",
            "Epoch 17/500\n",
            "21/21 [==============================] - 0s 3ms/step - loss: 0.6016 - accuracy: 0.7096 - val_loss: 0.6445 - val_accuracy: 0.6413\n",
            "Epoch 18/500\n",
            "21/21 [==============================] - 0s 3ms/step - loss: 0.6007 - accuracy: 0.7066 - val_loss: 0.6429 - val_accuracy: 0.6323\n",
            "Epoch 19/500\n",
            "21/21 [==============================] - 0s 2ms/step - loss: 0.5946 - accuracy: 0.7096 - val_loss: 0.6425 - val_accuracy: 0.6457\n",
            "Epoch 20/500\n",
            "21/21 [==============================] - 0s 3ms/step - loss: 0.5947 - accuracy: 0.7081 - val_loss: 0.6393 - val_accuracy: 0.6323\n",
            "Epoch 21/500\n",
            "21/21 [==============================] - 0s 2ms/step - loss: 0.5904 - accuracy: 0.7051 - val_loss: 0.6399 - val_accuracy: 0.6323\n",
            "Epoch 22/500\n",
            "21/21 [==============================] - 0s 3ms/step - loss: 0.5894 - accuracy: 0.7126 - val_loss: 0.6345 - val_accuracy: 0.6368\n",
            "Epoch 23/500\n",
            "21/21 [==============================] - 0s 3ms/step - loss: 0.5871 - accuracy: 0.7171 - val_loss: 0.6372 - val_accuracy: 0.6413\n",
            "Epoch 24/500\n",
            "21/21 [==============================] - 0s 3ms/step - loss: 0.5865 - accuracy: 0.7156 - val_loss: 0.6430 - val_accuracy: 0.6457\n",
            "Epoch 25/500\n",
            "21/21 [==============================] - 0s 3ms/step - loss: 0.5800 - accuracy: 0.7111 - val_loss: 0.6338 - val_accuracy: 0.6368\n",
            "Epoch 26/500\n",
            "21/21 [==============================] - 0s 2ms/step - loss: 0.5827 - accuracy: 0.7156 - val_loss: 0.6318 - val_accuracy: 0.6457\n",
            "Epoch 27/500\n",
            "21/21 [==============================] - 0s 2ms/step - loss: 0.5776 - accuracy: 0.7171 - val_loss: 0.6266 - val_accuracy: 0.6368\n",
            "Epoch 28/500\n",
            "21/21 [==============================] - 0s 3ms/step - loss: 0.5714 - accuracy: 0.7126 - val_loss: 0.6281 - val_accuracy: 0.6457\n",
            "Epoch 29/500\n",
            "21/21 [==============================] - 0s 3ms/step - loss: 0.5670 - accuracy: 0.7126 - val_loss: 0.6286 - val_accuracy: 0.6413\n",
            "Epoch 30/500\n",
            "21/21 [==============================] - 0s 3ms/step - loss: 0.5722 - accuracy: 0.7156 - val_loss: 0.6249 - val_accuracy: 0.6413\n",
            "Epoch 31/500\n",
            "21/21 [==============================] - 0s 3ms/step - loss: 0.5662 - accuracy: 0.7231 - val_loss: 0.6226 - val_accuracy: 0.6413\n",
            "Epoch 32/500\n",
            "21/21 [==============================] - 0s 3ms/step - loss: 0.5666 - accuracy: 0.7231 - val_loss: 0.6165 - val_accuracy: 0.6457\n",
            "Epoch 33/500\n",
            "21/21 [==============================] - 0s 4ms/step - loss: 0.5650 - accuracy: 0.7201 - val_loss: 0.6159 - val_accuracy: 0.6457\n",
            "Epoch 34/500\n",
            "21/21 [==============================] - 0s 3ms/step - loss: 0.5640 - accuracy: 0.7201 - val_loss: 0.6106 - val_accuracy: 0.6413\n",
            "Epoch 35/500\n",
            "21/21 [==============================] - 0s 3ms/step - loss: 0.5585 - accuracy: 0.7246 - val_loss: 0.6095 - val_accuracy: 0.6592\n",
            "Epoch 36/500\n",
            "21/21 [==============================] - 0s 2ms/step - loss: 0.5541 - accuracy: 0.7171 - val_loss: 0.6379 - val_accuracy: 0.6368\n",
            "Epoch 37/500\n",
            "21/21 [==============================] - 0s 3ms/step - loss: 0.5576 - accuracy: 0.7275 - val_loss: 0.6049 - val_accuracy: 0.6413\n",
            "Epoch 38/500\n",
            "21/21 [==============================] - 0s 3ms/step - loss: 0.5562 - accuracy: 0.7186 - val_loss: 0.6111 - val_accuracy: 0.6368\n",
            "Epoch 39/500\n",
            "21/21 [==============================] - 0s 2ms/step - loss: 0.5519 - accuracy: 0.7186 - val_loss: 0.6009 - val_accuracy: 0.6502\n",
            "Epoch 40/500\n",
            "21/21 [==============================] - 0s 3ms/step - loss: 0.5494 - accuracy: 0.7231 - val_loss: 0.6005 - val_accuracy: 0.6413\n",
            "Epoch 41/500\n",
            "21/21 [==============================] - 0s 2ms/step - loss: 0.5498 - accuracy: 0.7186 - val_loss: 0.6055 - val_accuracy: 0.6413\n",
            "Epoch 42/500\n",
            "21/21 [==============================] - 0s 2ms/step - loss: 0.5467 - accuracy: 0.7186 - val_loss: 0.6081 - val_accuracy: 0.6368\n",
            "Epoch 43/500\n",
            "21/21 [==============================] - 0s 2ms/step - loss: 0.5412 - accuracy: 0.7275 - val_loss: 0.5986 - val_accuracy: 0.7085\n",
            "Epoch 44/500\n",
            "21/21 [==============================] - 0s 3ms/step - loss: 0.5370 - accuracy: 0.7231 - val_loss: 0.5938 - val_accuracy: 0.6502\n",
            "Epoch 45/500\n",
            "21/21 [==============================] - 0s 3ms/step - loss: 0.5401 - accuracy: 0.7275 - val_loss: 0.5908 - val_accuracy: 0.6413\n",
            "Epoch 46/500\n",
            "21/21 [==============================] - 0s 3ms/step - loss: 0.5368 - accuracy: 0.7275 - val_loss: 0.5899 - val_accuracy: 0.7085\n",
            "Epoch 47/500\n",
            "21/21 [==============================] - 0s 2ms/step - loss: 0.5352 - accuracy: 0.7260 - val_loss: 0.5875 - val_accuracy: 0.6502\n",
            "Epoch 48/500\n",
            "21/21 [==============================] - 0s 2ms/step - loss: 0.5339 - accuracy: 0.7350 - val_loss: 0.5814 - val_accuracy: 0.7309\n",
            "Epoch 49/500\n",
            "21/21 [==============================] - 0s 3ms/step - loss: 0.5287 - accuracy: 0.7380 - val_loss: 0.5862 - val_accuracy: 0.6816\n",
            "Epoch 50/500\n",
            "21/21 [==============================] - 0s 2ms/step - loss: 0.5263 - accuracy: 0.7485 - val_loss: 0.5741 - val_accuracy: 0.7265\n",
            "Epoch 51/500\n",
            "21/21 [==============================] - 0s 2ms/step - loss: 0.5265 - accuracy: 0.7515 - val_loss: 0.5885 - val_accuracy: 0.6682\n",
            "Epoch 52/500\n",
            "21/21 [==============================] - 0s 2ms/step - loss: 0.5232 - accuracy: 0.7500 - val_loss: 0.5708 - val_accuracy: 0.7399\n",
            "Epoch 53/500\n",
            "21/21 [==============================] - 0s 2ms/step - loss: 0.5193 - accuracy: 0.7620 - val_loss: 0.5791 - val_accuracy: 0.6816\n",
            "Epoch 54/500\n",
            "21/21 [==============================] - 0s 2ms/step - loss: 0.5178 - accuracy: 0.7515 - val_loss: 0.5733 - val_accuracy: 0.6996\n",
            "Epoch 55/500\n",
            "21/21 [==============================] - 0s 3ms/step - loss: 0.5146 - accuracy: 0.7680 - val_loss: 0.5809 - val_accuracy: 0.6682\n",
            "Epoch 56/500\n",
            "21/21 [==============================] - 0s 3ms/step - loss: 0.5165 - accuracy: 0.7545 - val_loss: 0.5675 - val_accuracy: 0.6906\n",
            "Epoch 57/500\n",
            "21/21 [==============================] - 0s 3ms/step - loss: 0.5130 - accuracy: 0.7515 - val_loss: 0.5579 - val_accuracy: 0.7489\n",
            "Epoch 58/500\n",
            "21/21 [==============================] - 0s 2ms/step - loss: 0.5102 - accuracy: 0.7695 - val_loss: 0.5640 - val_accuracy: 0.7578\n",
            "Epoch 59/500\n",
            "21/21 [==============================] - 0s 3ms/step - loss: 0.5094 - accuracy: 0.7650 - val_loss: 0.5605 - val_accuracy: 0.7444\n",
            "Epoch 60/500\n",
            "21/21 [==============================] - 0s 3ms/step - loss: 0.5056 - accuracy: 0.7680 - val_loss: 0.5526 - val_accuracy: 0.7713\n",
            "Epoch 61/500\n",
            "21/21 [==============================] - 0s 2ms/step - loss: 0.5081 - accuracy: 0.7665 - val_loss: 0.5587 - val_accuracy: 0.7623\n",
            "Epoch 62/500\n",
            "21/21 [==============================] - 0s 2ms/step - loss: 0.5020 - accuracy: 0.7590 - val_loss: 0.5505 - val_accuracy: 0.7578\n",
            "Epoch 63/500\n",
            "21/21 [==============================] - 0s 3ms/step - loss: 0.5017 - accuracy: 0.7635 - val_loss: 0.5511 - val_accuracy: 0.7489\n",
            "Epoch 64/500\n",
            "21/21 [==============================] - 0s 2ms/step - loss: 0.4970 - accuracy: 0.7725 - val_loss: 0.5546 - val_accuracy: 0.7623\n",
            "Epoch 65/500\n",
            "21/21 [==============================] - 0s 3ms/step - loss: 0.4975 - accuracy: 0.7740 - val_loss: 0.5510 - val_accuracy: 0.7265\n",
            "Epoch 66/500\n",
            "21/21 [==============================] - 0s 2ms/step - loss: 0.4913 - accuracy: 0.7784 - val_loss: 0.5417 - val_accuracy: 0.7444\n",
            "Epoch 67/500\n",
            "21/21 [==============================] - 0s 2ms/step - loss: 0.4935 - accuracy: 0.7695 - val_loss: 0.5502 - val_accuracy: 0.7399\n",
            "Epoch 68/500\n",
            "21/21 [==============================] - 0s 3ms/step - loss: 0.4926 - accuracy: 0.7874 - val_loss: 0.5341 - val_accuracy: 0.7803\n",
            "Epoch 69/500\n",
            "21/21 [==============================] - 0s 3ms/step - loss: 0.4907 - accuracy: 0.7695 - val_loss: 0.5323 - val_accuracy: 0.7937\n",
            "Epoch 70/500\n",
            "21/21 [==============================] - 0s 3ms/step - loss: 0.4905 - accuracy: 0.7754 - val_loss: 0.5478 - val_accuracy: 0.7848\n",
            "Epoch 71/500\n",
            "21/21 [==============================] - 0s 3ms/step - loss: 0.4876 - accuracy: 0.7844 - val_loss: 0.5493 - val_accuracy: 0.7220\n",
            "Epoch 72/500\n",
            "21/21 [==============================] - 0s 3ms/step - loss: 0.4862 - accuracy: 0.7874 - val_loss: 0.5274 - val_accuracy: 0.7803\n",
            "Epoch 73/500\n",
            "21/21 [==============================] - 0s 3ms/step - loss: 0.4810 - accuracy: 0.7814 - val_loss: 0.5461 - val_accuracy: 0.7803\n",
            "Epoch 74/500\n",
            "21/21 [==============================] - 0s 2ms/step - loss: 0.4858 - accuracy: 0.7904 - val_loss: 0.5251 - val_accuracy: 0.8117\n",
            "Epoch 75/500\n",
            "21/21 [==============================] - 0s 3ms/step - loss: 0.4847 - accuracy: 0.7725 - val_loss: 0.5336 - val_accuracy: 0.7534\n",
            "Epoch 76/500\n",
            "21/21 [==============================] - 0s 2ms/step - loss: 0.4807 - accuracy: 0.7844 - val_loss: 0.5240 - val_accuracy: 0.7803\n",
            "Epoch 77/500\n",
            "21/21 [==============================] - 0s 3ms/step - loss: 0.4761 - accuracy: 0.7934 - val_loss: 0.5336 - val_accuracy: 0.7848\n",
            "Epoch 78/500\n",
            "21/21 [==============================] - 0s 3ms/step - loss: 0.4807 - accuracy: 0.7904 - val_loss: 0.5232 - val_accuracy: 0.7937\n",
            "Epoch 79/500\n",
            "21/21 [==============================] - 0s 3ms/step - loss: 0.4787 - accuracy: 0.7859 - val_loss: 0.5173 - val_accuracy: 0.7937\n",
            "Epoch 80/500\n",
            "21/21 [==============================] - 0s 3ms/step - loss: 0.4740 - accuracy: 0.8009 - val_loss: 0.5219 - val_accuracy: 0.7937\n",
            "Epoch 81/500\n",
            "21/21 [==============================] - 0s 3ms/step - loss: 0.4764 - accuracy: 0.8069 - val_loss: 0.5252 - val_accuracy: 0.7892\n",
            "Epoch 82/500\n",
            "21/21 [==============================] - 0s 2ms/step - loss: 0.4770 - accuracy: 0.7994 - val_loss: 0.5209 - val_accuracy: 0.7982\n",
            "Epoch 83/500\n",
            "21/21 [==============================] - 0s 3ms/step - loss: 0.4730 - accuracy: 0.7919 - val_loss: 0.5184 - val_accuracy: 0.7937\n",
            "Epoch 84/500\n",
            "21/21 [==============================] - 0s 3ms/step - loss: 0.4727 - accuracy: 0.8039 - val_loss: 0.5103 - val_accuracy: 0.7982\n",
            "Epoch 85/500\n",
            "21/21 [==============================] - 0s 2ms/step - loss: 0.4703 - accuracy: 0.7904 - val_loss: 0.5196 - val_accuracy: 0.7892\n",
            "Epoch 86/500\n",
            "21/21 [==============================] - 0s 2ms/step - loss: 0.4739 - accuracy: 0.8039 - val_loss: 0.5133 - val_accuracy: 0.7892\n",
            "Epoch 87/500\n",
            "21/21 [==============================] - 0s 2ms/step - loss: 0.4661 - accuracy: 0.8009 - val_loss: 0.5124 - val_accuracy: 0.8027\n",
            "Epoch 88/500\n",
            "21/21 [==============================] - 0s 3ms/step - loss: 0.4685 - accuracy: 0.8009 - val_loss: 0.5069 - val_accuracy: 0.7803\n",
            "Epoch 89/500\n",
            "21/21 [==============================] - 0s 3ms/step - loss: 0.4659 - accuracy: 0.7934 - val_loss: 0.5230 - val_accuracy: 0.7937\n",
            "Epoch 90/500\n",
            "21/21 [==============================] - 0s 2ms/step - loss: 0.4680 - accuracy: 0.8084 - val_loss: 0.5066 - val_accuracy: 0.7937\n",
            "Epoch 91/500\n",
            "21/21 [==============================] - 0s 3ms/step - loss: 0.4640 - accuracy: 0.7934 - val_loss: 0.5045 - val_accuracy: 0.7982\n",
            "Epoch 92/500\n",
            "21/21 [==============================] - 0s 3ms/step - loss: 0.4616 - accuracy: 0.8099 - val_loss: 0.5116 - val_accuracy: 0.8027\n",
            "Epoch 93/500\n",
            "21/21 [==============================] - 0s 3ms/step - loss: 0.4668 - accuracy: 0.8039 - val_loss: 0.4985 - val_accuracy: 0.7982\n",
            "Epoch 94/500\n",
            "21/21 [==============================] - 0s 2ms/step - loss: 0.4628 - accuracy: 0.8114 - val_loss: 0.5119 - val_accuracy: 0.7982\n",
            "Epoch 95/500\n",
            "21/21 [==============================] - 0s 3ms/step - loss: 0.4638 - accuracy: 0.8114 - val_loss: 0.5053 - val_accuracy: 0.7848\n",
            "Epoch 96/500\n",
            "21/21 [==============================] - 0s 3ms/step - loss: 0.4620 - accuracy: 0.8174 - val_loss: 0.4933 - val_accuracy: 0.7937\n",
            "Epoch 97/500\n",
            "21/21 [==============================] - 0s 3ms/step - loss: 0.4558 - accuracy: 0.8069 - val_loss: 0.5110 - val_accuracy: 0.7892\n",
            "Epoch 98/500\n",
            "21/21 [==============================] - 0s 2ms/step - loss: 0.4601 - accuracy: 0.8039 - val_loss: 0.4987 - val_accuracy: 0.8027\n",
            "Epoch 99/500\n",
            "21/21 [==============================] - 0s 3ms/step - loss: 0.4631 - accuracy: 0.8039 - val_loss: 0.4945 - val_accuracy: 0.7937\n",
            "Epoch 100/500\n",
            "21/21 [==============================] - 0s 2ms/step - loss: 0.4606 - accuracy: 0.8129 - val_loss: 0.5008 - val_accuracy: 0.7937\n",
            "Epoch 101/500\n",
            "21/21 [==============================] - 0s 2ms/step - loss: 0.4581 - accuracy: 0.8099 - val_loss: 0.4947 - val_accuracy: 0.8027\n",
            "Epoch 102/500\n",
            "21/21 [==============================] - 0s 3ms/step - loss: 0.4598 - accuracy: 0.8159 - val_loss: 0.4919 - val_accuracy: 0.8027\n",
            "Epoch 103/500\n",
            "21/21 [==============================] - 0s 3ms/step - loss: 0.4560 - accuracy: 0.8114 - val_loss: 0.5020 - val_accuracy: 0.7937\n",
            "Epoch 104/500\n",
            "21/21 [==============================] - 0s 3ms/step - loss: 0.4565 - accuracy: 0.8174 - val_loss: 0.5039 - val_accuracy: 0.7937\n",
            "Epoch 105/500\n",
            "21/21 [==============================] - 0s 3ms/step - loss: 0.4566 - accuracy: 0.8009 - val_loss: 0.4947 - val_accuracy: 0.7982\n",
            "Epoch 106/500\n",
            "21/21 [==============================] - 0s 2ms/step - loss: 0.4554 - accuracy: 0.8084 - val_loss: 0.4947 - val_accuracy: 0.8027\n",
            "Epoch 107/500\n",
            "21/21 [==============================] - 0s 3ms/step - loss: 0.4516 - accuracy: 0.8114 - val_loss: 0.4922 - val_accuracy: 0.8027\n",
            "Epoch 108/500\n",
            "21/21 [==============================] - 0s 3ms/step - loss: 0.4506 - accuracy: 0.8114 - val_loss: 0.4889 - val_accuracy: 0.7982\n",
            "Epoch 109/500\n",
            "21/21 [==============================] - 0s 2ms/step - loss: 0.4499 - accuracy: 0.8069 - val_loss: 0.4977 - val_accuracy: 0.8027\n",
            "Epoch 110/500\n",
            "21/21 [==============================] - 0s 3ms/step - loss: 0.4545 - accuracy: 0.8099 - val_loss: 0.4889 - val_accuracy: 0.8027\n",
            "Epoch 111/500\n",
            "21/21 [==============================] - 0s 3ms/step - loss: 0.4495 - accuracy: 0.8114 - val_loss: 0.4833 - val_accuracy: 0.7982\n",
            "Epoch 112/500\n",
            "21/21 [==============================] - 0s 4ms/step - loss: 0.4542 - accuracy: 0.8114 - val_loss: 0.4855 - val_accuracy: 0.8027\n",
            "Epoch 113/500\n",
            "21/21 [==============================] - 0s 2ms/step - loss: 0.4501 - accuracy: 0.8159 - val_loss: 0.4969 - val_accuracy: 0.8027\n",
            "Epoch 114/500\n",
            "21/21 [==============================] - 0s 2ms/step - loss: 0.4551 - accuracy: 0.8084 - val_loss: 0.4875 - val_accuracy: 0.8027\n",
            "Epoch 115/500\n",
            "21/21 [==============================] - 0s 3ms/step - loss: 0.4504 - accuracy: 0.8114 - val_loss: 0.4939 - val_accuracy: 0.7937\n",
            "Epoch 116/500\n",
            "21/21 [==============================] - 0s 2ms/step - loss: 0.4514 - accuracy: 0.8129 - val_loss: 0.4944 - val_accuracy: 0.7758\n",
            "Epoch 117/500\n",
            "21/21 [==============================] - 0s 3ms/step - loss: 0.4507 - accuracy: 0.8114 - val_loss: 0.4884 - val_accuracy: 0.8027\n",
            "Epoch 118/500\n",
            "21/21 [==============================] - 0s 3ms/step - loss: 0.4535 - accuracy: 0.8114 - val_loss: 0.4806 - val_accuracy: 0.7982\n",
            "Epoch 119/500\n",
            "21/21 [==============================] - 0s 2ms/step - loss: 0.4471 - accuracy: 0.8114 - val_loss: 0.4938 - val_accuracy: 0.7892\n",
            "Epoch 120/500\n",
            "21/21 [==============================] - 0s 2ms/step - loss: 0.4470 - accuracy: 0.8054 - val_loss: 0.4867 - val_accuracy: 0.7982\n",
            "Epoch 121/500\n",
            "21/21 [==============================] - 0s 4ms/step - loss: 0.4501 - accuracy: 0.8114 - val_loss: 0.4825 - val_accuracy: 0.8027\n",
            "Epoch 122/500\n",
            "21/21 [==============================] - 0s 3ms/step - loss: 0.4449 - accuracy: 0.8099 - val_loss: 0.4757 - val_accuracy: 0.7937\n",
            "Epoch 123/500\n",
            "21/21 [==============================] - 0s 2ms/step - loss: 0.4489 - accuracy: 0.8069 - val_loss: 0.4847 - val_accuracy: 0.7982\n",
            "Epoch 124/500\n",
            "21/21 [==============================] - 0s 3ms/step - loss: 0.4511 - accuracy: 0.8054 - val_loss: 0.4790 - val_accuracy: 0.7937\n",
            "Epoch 125/500\n",
            "21/21 [==============================] - 0s 3ms/step - loss: 0.4525 - accuracy: 0.8054 - val_loss: 0.4807 - val_accuracy: 0.7982\n",
            "Epoch 126/500\n",
            "21/21 [==============================] - 0s 3ms/step - loss: 0.4453 - accuracy: 0.8189 - val_loss: 0.4975 - val_accuracy: 0.7803\n",
            "Epoch 127/500\n",
            "21/21 [==============================] - 0s 3ms/step - loss: 0.4450 - accuracy: 0.8084 - val_loss: 0.4781 - val_accuracy: 0.8117\n",
            "Epoch 128/500\n",
            "21/21 [==============================] - 0s 3ms/step - loss: 0.4420 - accuracy: 0.8054 - val_loss: 0.4934 - val_accuracy: 0.7982\n",
            "Epoch 129/500\n",
            "21/21 [==============================] - 0s 2ms/step - loss: 0.4485 - accuracy: 0.8234 - val_loss: 0.4849 - val_accuracy: 0.7982\n",
            "Epoch 130/500\n",
            "21/21 [==============================] - 0s 3ms/step - loss: 0.4483 - accuracy: 0.8099 - val_loss: 0.4764 - val_accuracy: 0.7982\n",
            "Epoch 131/500\n",
            "21/21 [==============================] - 0s 2ms/step - loss: 0.4474 - accuracy: 0.8084 - val_loss: 0.4809 - val_accuracy: 0.7937\n",
            "Epoch 132/500\n",
            "21/21 [==============================] - 0s 3ms/step - loss: 0.4466 - accuracy: 0.8144 - val_loss: 0.4778 - val_accuracy: 0.7982\n",
            "Epoch 133/500\n",
            "21/21 [==============================] - 0s 2ms/step - loss: 0.4472 - accuracy: 0.8099 - val_loss: 0.4871 - val_accuracy: 0.7848\n",
            "Epoch 134/500\n",
            "21/21 [==============================] - 0s 2ms/step - loss: 0.4437 - accuracy: 0.8129 - val_loss: 0.4874 - val_accuracy: 0.7803\n",
            "Epoch 135/500\n",
            "21/21 [==============================] - 0s 3ms/step - loss: 0.4402 - accuracy: 0.8069 - val_loss: 0.4777 - val_accuracy: 0.7982\n",
            "Epoch 136/500\n",
            "21/21 [==============================] - 0s 3ms/step - loss: 0.4437 - accuracy: 0.8174 - val_loss: 0.4746 - val_accuracy: 0.7937\n",
            "Epoch 137/500\n",
            "21/21 [==============================] - 0s 2ms/step - loss: 0.4458 - accuracy: 0.8099 - val_loss: 0.4711 - val_accuracy: 0.7982\n",
            "Epoch 138/500\n",
            "21/21 [==============================] - 0s 3ms/step - loss: 0.4400 - accuracy: 0.8129 - val_loss: 0.4776 - val_accuracy: 0.7982\n",
            "Epoch 139/500\n",
            "21/21 [==============================] - 0s 3ms/step - loss: 0.4421 - accuracy: 0.8114 - val_loss: 0.4850 - val_accuracy: 0.7937\n",
            "Epoch 140/500\n",
            "21/21 [==============================] - 0s 3ms/step - loss: 0.4441 - accuracy: 0.8069 - val_loss: 0.4805 - val_accuracy: 0.7937\n",
            "Epoch 141/500\n",
            "21/21 [==============================] - 0s 2ms/step - loss: 0.4420 - accuracy: 0.8039 - val_loss: 0.4723 - val_accuracy: 0.7982\n",
            "Epoch 142/500\n",
            "21/21 [==============================] - 0s 2ms/step - loss: 0.4472 - accuracy: 0.8054 - val_loss: 0.4794 - val_accuracy: 0.8027\n",
            "Epoch 143/500\n",
            "21/21 [==============================] - 0s 3ms/step - loss: 0.4423 - accuracy: 0.8159 - val_loss: 0.4706 - val_accuracy: 0.8072\n",
            "Epoch 144/500\n",
            "21/21 [==============================] - 0s 3ms/step - loss: 0.4412 - accuracy: 0.8144 - val_loss: 0.4682 - val_accuracy: 0.7982\n",
            "Epoch 145/500\n",
            "21/21 [==============================] - 0s 2ms/step - loss: 0.4429 - accuracy: 0.8069 - val_loss: 0.4722 - val_accuracy: 0.7982\n",
            "Epoch 146/500\n",
            "21/21 [==============================] - 0s 3ms/step - loss: 0.4481 - accuracy: 0.8099 - val_loss: 0.4726 - val_accuracy: 0.7982\n",
            "Epoch 147/500\n",
            "21/21 [==============================] - 0s 2ms/step - loss: 0.4387 - accuracy: 0.8174 - val_loss: 0.4905 - val_accuracy: 0.7892\n",
            "Epoch 148/500\n",
            "21/21 [==============================] - 0s 2ms/step - loss: 0.4449 - accuracy: 0.8009 - val_loss: 0.4876 - val_accuracy: 0.7892\n",
            "Epoch 149/500\n",
            "21/21 [==============================] - 0s 3ms/step - loss: 0.4414 - accuracy: 0.8159 - val_loss: 0.4670 - val_accuracy: 0.8072\n",
            "Epoch 150/500\n",
            "21/21 [==============================] - 0s 2ms/step - loss: 0.4394 - accuracy: 0.8099 - val_loss: 0.4830 - val_accuracy: 0.7982\n",
            "Epoch 151/500\n",
            "21/21 [==============================] - 0s 3ms/step - loss: 0.4410 - accuracy: 0.8114 - val_loss: 0.4710 - val_accuracy: 0.7848\n",
            "Epoch 152/500\n",
            "21/21 [==============================] - 0s 2ms/step - loss: 0.4461 - accuracy: 0.8114 - val_loss: 0.4672 - val_accuracy: 0.8027\n",
            "Epoch 153/500\n",
            "21/21 [==============================] - 0s 2ms/step - loss: 0.4428 - accuracy: 0.8159 - val_loss: 0.4761 - val_accuracy: 0.8072\n",
            "Epoch 154/500\n",
            "21/21 [==============================] - 0s 3ms/step - loss: 0.4422 - accuracy: 0.8159 - val_loss: 0.4740 - val_accuracy: 0.8072\n",
            "Epoch 155/500\n",
            "21/21 [==============================] - 0s 2ms/step - loss: 0.4410 - accuracy: 0.8114 - val_loss: 0.4803 - val_accuracy: 0.7848\n",
            "Epoch 156/500\n",
            "21/21 [==============================] - 0s 3ms/step - loss: 0.4392 - accuracy: 0.8144 - val_loss: 0.4700 - val_accuracy: 0.8117\n",
            "Epoch 157/500\n",
            "21/21 [==============================] - 0s 3ms/step - loss: 0.4384 - accuracy: 0.8039 - val_loss: 0.4889 - val_accuracy: 0.7803\n",
            "Epoch 158/500\n",
            "21/21 [==============================] - 0s 3ms/step - loss: 0.4386 - accuracy: 0.8204 - val_loss: 0.4819 - val_accuracy: 0.8027\n",
            "Epoch 159/500\n",
            "21/21 [==============================] - 0s 2ms/step - loss: 0.4384 - accuracy: 0.8084 - val_loss: 0.4816 - val_accuracy: 0.7892\n",
            "Epoch 160/500\n",
            "21/21 [==============================] - 0s 3ms/step - loss: 0.4388 - accuracy: 0.8084 - val_loss: 0.4828 - val_accuracy: 0.8027\n",
            "Epoch 161/500\n",
            "21/21 [==============================] - 0s 3ms/step - loss: 0.4400 - accuracy: 0.8114 - val_loss: 0.4825 - val_accuracy: 0.7892\n",
            "Epoch 162/500\n",
            "21/21 [==============================] - 0s 3ms/step - loss: 0.4409 - accuracy: 0.8084 - val_loss: 0.4787 - val_accuracy: 0.7982\n",
            "Epoch 163/500\n",
            "21/21 [==============================] - 0s 3ms/step - loss: 0.4389 - accuracy: 0.8219 - val_loss: 0.4678 - val_accuracy: 0.7803\n",
            "Epoch 164/500\n",
            "21/21 [==============================] - 0s 2ms/step - loss: 0.4418 - accuracy: 0.8039 - val_loss: 0.4672 - val_accuracy: 0.8072\n",
            "Epoch 165/500\n",
            "21/21 [==============================] - 0s 3ms/step - loss: 0.4377 - accuracy: 0.8144 - val_loss: 0.4816 - val_accuracy: 0.8072\n",
            "Epoch 166/500\n",
            "21/21 [==============================] - 0s 3ms/step - loss: 0.4422 - accuracy: 0.8174 - val_loss: 0.4655 - val_accuracy: 0.7982\n",
            "Epoch 167/500\n",
            "21/21 [==============================] - 0s 4ms/step - loss: 0.4410 - accuracy: 0.8174 - val_loss: 0.4747 - val_accuracy: 0.7892\n",
            "Epoch 168/500\n",
            "21/21 [==============================] - 0s 3ms/step - loss: 0.4416 - accuracy: 0.8039 - val_loss: 0.4699 - val_accuracy: 0.8072\n",
            "Epoch 169/500\n",
            "21/21 [==============================] - 0s 2ms/step - loss: 0.4324 - accuracy: 0.8219 - val_loss: 0.4664 - val_accuracy: 0.8072\n",
            "Epoch 170/500\n",
            "21/21 [==============================] - 0s 4ms/step - loss: 0.4442 - accuracy: 0.8084 - val_loss: 0.4731 - val_accuracy: 0.7982\n",
            "Epoch 171/500\n",
            "21/21 [==============================] - 0s 3ms/step - loss: 0.4404 - accuracy: 0.8159 - val_loss: 0.4668 - val_accuracy: 0.8072\n",
            "Epoch 172/500\n",
            "21/21 [==============================] - 0s 4ms/step - loss: 0.4423 - accuracy: 0.8054 - val_loss: 0.4747 - val_accuracy: 0.7982\n",
            "Epoch 173/500\n",
            "21/21 [==============================] - 0s 2ms/step - loss: 0.4368 - accuracy: 0.8234 - val_loss: 0.4860 - val_accuracy: 0.7982\n",
            "Epoch 174/500\n",
            "21/21 [==============================] - 0s 3ms/step - loss: 0.4327 - accuracy: 0.8099 - val_loss: 0.4820 - val_accuracy: 0.7937\n"
          ],
          "name": "stdout"
        }
      ]
    },
    {
      "cell_type": "code",
      "metadata": {
        "colab": {
          "base_uri": "https://localhost:8080/",
          "height": 541
        },
        "id": "L1Ok-4dxY_hd",
        "outputId": "d61ec570-93a2-464c-b628-038e190ddbb0"
      },
      "source": [
        "def pltGr(history, string):\n",
        "  plt.plot(history.history[string])\n",
        "  plt.plot(history.history['val_'+string])\n",
        "  plt.xlabel('Epochs')\n",
        "  plt.ylabel(string)\n",
        "  plt.legend([string, 'val_'+string])\n",
        "  plt.show()\n",
        "\n",
        "\n",
        "pltGr(history, 'accuracy')\n",
        "pltGr(history, 'loss')"
      ],
      "execution_count": 52,
      "outputs": [
        {
          "output_type": "display_data",
          "data": {
            "image/png": "[encoded data removed]",
            "text/plain": [
              "<Figure size 432x288 with 1 Axes>"
            ]
          },
          "metadata": {
            "tags": [],
            "needs_background": "light"
          }
        },
        {
          "output_type": "display_data",
          "data": {
            "image/png": "[encoded data removed]",
            "text/plain": [
              "<Figure size 432x288 with 1 Axes>"
            ]
          },
          "metadata": {
            "tags": [],
            "needs_background": "light"
          }
        }
      ]
    },
    {
      "cell_type": "code",
      "metadata": {
        "id": "5GK9JegsY_p5"
      },
      "source": [
        "testPreds = model1.predict(X_test)"
      ],
      "execution_count": 53,
      "outputs": []
    },
    {
      "cell_type": "code",
      "metadata": {
        "id": "FzaJ9xgKY_tZ"
      },
      "source": [
        "def errorPlot(labels, preds, binVal):\n",
        "  err = preds - labels\n",
        "  plt.hist(err, bins=binVal)\n",
        "  plt.xlabel('Prediction-Error')\n",
        "  plt.ylabel('Count')\n",
        "  plt.show()"
      ],
      "execution_count": 54,
      "outputs": []
    },
    {
      "cell_type": "code",
      "metadata": {
        "colab": {
          "base_uri": "https://localhost:8080/"
        },
        "id": "HS5macSIdfNO",
        "outputId": "2775c0ef-8fe4-424c-da40-d4a3f3829468"
      },
      "source": [
        "Y_test"
      ],
      "execution_count": 55,
      "outputs": [
        {
          "output_type": "execute_result",
          "data": {
            "text/plain": [
              "299    1\n",
              "839    1\n",
              "591    1\n",
              "566    0\n",
              "351    0\n",
              "      ..\n",
              "53     1\n",
              "315    1\n",
              "337    1\n",
              "128    1\n",
              "275    1\n",
              "Name: Survived, Length: 223, dtype: int64"
            ]
          },
          "metadata": {
            "tags": []
          },
          "execution_count": 55
        }
      ]
    },
    {
      "cell_type": "code",
      "metadata": {
        "colab": {
          "base_uri": "https://localhost:8080/"
        },
        "id": "qwYOV2D5coZ1",
        "outputId": "56148aa9-127c-4c46-c599-e5ab26b04314"
      },
      "source": [
        "t=testPreds.flatten()\n",
        "list(t)"
      ],
      "execution_count": 56,
      "outputs": [
        {
          "output_type": "execute_result",
          "data": {
            "text/plain": [
              "[0.99592793,\n",
              " 0.4648197,\n",
              " 0.92299336,\n",
              " 0.07793003,\n",
              " 0.37643975,\n",
              " 0.1414068,\n",
              " 0.2922981,\n",
              " 0.25351542,\n",
              " 0.074146956,\n",
              " 0.2488215,\n",
              " 0.069565415,\n",
              " 0.8839369,\n",
              " 0.26959217,\n",
              " 0.093237996,\n",
              " 0.07588121,\n",
              " 0.08150774,\n",
              " 0.69582456,\n",
              " 0.9520323,\n",
              " 0.31666088,\n",
              " 0.5233302,\n",
              " 0.30566067,\n",
              " 0.22182766,\n",
              " 0.5889713,\n",
              " 0.08269414,\n",
              " 0.04998684,\n",
              " 0.7332982,\n",
              " 0.0638448,\n",
              " 0.7586024,\n",
              " 0.20277038,\n",
              " 0.7660903,\n",
              " 0.47876722,\n",
              " 0.06819457,\n",
              " 0.47637737,\n",
              " 0.20277038,\n",
              " 0.11522949,\n",
              " 0.08064845,\n",
              " 0.07499555,\n",
              " 0.7580581,\n",
              " 0.75192964,\n",
              " 0.025206745,\n",
              " 0.40412846,\n",
              " 0.17049724,\n",
              " 0.07352474,\n",
              " 0.54019976,\n",
              " 0.18829316,\n",
              " 0.06885016,\n",
              " 0.79600567,\n",
              " 0.074753135,\n",
              " 0.102507144,\n",
              " 0.94359493,\n",
              " 0.07529679,\n",
              " 0.6673849,\n",
              " 0.07289389,\n",
              " 0.7611584,\n",
              " 0.76581764,\n",
              " 0.07449946,\n",
              " 0.09083384,\n",
              " 0.3521265,\n",
              " 0.0517852,\n",
              " 0.17712593,\n",
              " 0.7712065,\n",
              " 0.067959845,\n",
              " 0.07338351,\n",
              " 0.4919146,\n",
              " 0.3119805,\n",
              " 0.07614645,\n",
              " 0.562107,\n",
              " 0.7988157,\n",
              " 0.903368,\n",
              " 0.7880916,\n",
              " 0.59841037,\n",
              " 0.68495464,\n",
              " 0.66938186,\n",
              " 0.075867176,\n",
              " 0.48736548,\n",
              " 0.111756,\n",
              " 0.17622331,\n",
              " 0.43492204,\n",
              " 0.7580581,\n",
              " 0.071650654,\n",
              " 0.070991576,\n",
              " 0.076434314,\n",
              " 0.07903218,\n",
              " 0.5630676,\n",
              " 0.44062304,\n",
              " 0.406712,\n",
              " 0.6676396,\n",
              " 0.98944306,\n",
              " 0.21573001,\n",
              " 0.8159455,\n",
              " 0.073571116,\n",
              " 0.8457762,\n",
              " 0.13488927,\n",
              " 0.82644385,\n",
              " 0.17880902,\n",
              " 0.70751876,\n",
              " 0.078244865,\n",
              " 0.67550707,\n",
              " 0.29003382,\n",
              " 0.55767024,\n",
              " 0.98248374,\n",
              " 0.70928323,\n",
              " 0.43059087,\n",
              " 0.64740276,\n",
              " 0.19056445,\n",
              " 0.9484616,\n",
              " 0.7653854,\n",
              " 0.11552495,\n",
              " 0.07688251,\n",
              " 0.45365158,\n",
              " 0.07245126,\n",
              " 0.45051128,\n",
              " 0.2035881,\n",
              " 0.17712533,\n",
              " 0.068561226,\n",
              " 0.20651665,\n",
              " 0.1822339,\n",
              " 0.29840934,\n",
              " 0.7660903,\n",
              " 0.78202677,\n",
              " 0.46992764,\n",
              " 0.3225116,\n",
              " 0.22477317,\n",
              " 0.18375063,\n",
              " 0.18566886,\n",
              " 0.074192524,\n",
              " 0.14529285,\n",
              " 0.3985324,\n",
              " 0.53387946,\n",
              " 0.19724631,\n",
              " 0.11833465,\n",
              " 0.059231073,\n",
              " 0.85942304,\n",
              " 0.7734661,\n",
              " 0.37445992,\n",
              " 0.7659296,\n",
              " 0.9473045,\n",
              " 0.6637906,\n",
              " 0.1963369,\n",
              " 0.40224302,\n",
              " 0.6444819,\n",
              " 0.11671516,\n",
              " 0.17623329,\n",
              " 0.76263976,\n",
              " 0.43502933,\n",
              " 0.48112983,\n",
              " 0.00899151,\n",
              " 0.17721197,\n",
              " 0.40224302,\n",
              " 0.7005191,\n",
              " 0.076963186,\n",
              " 0.14523152,\n",
              " 0.13962561,\n",
              " 0.11730176,\n",
              " 0.1758621,\n",
              " 0.6752209,\n",
              " 0.69582456,\n",
              " 0.8513384,\n",
              " 0.07402128,\n",
              " 0.42999053,\n",
              " 0.1173259,\n",
              " 0.1963369,\n",
              " 0.7928207,\n",
              " 0.69222605,\n",
              " 0.6811025,\n",
              " 0.74878955,\n",
              " 0.07482168,\n",
              " 0.33805907,\n",
              " 0.94109577,\n",
              " 0.77135605,\n",
              " 0.43766475,\n",
              " 0.18810534,\n",
              " 0.20006016,\n",
              " 0.9721812,\n",
              " 0.7581308,\n",
              " 0.07555297,\n",
              " 0.7698866,\n",
              " 0.89098275,\n",
              " 0.07388803,\n",
              " 0.07793003,\n",
              " 0.832639,\n",
              " 0.76472497,\n",
              " 0.7684711,\n",
              " 0.7334125,\n",
              " 0.77041066,\n",
              " 0.11262834,\n",
              " 0.7641536,\n",
              " 0.109143555,\n",
              " 0.67761517,\n",
              " 0.085318506,\n",
              " 0.07588121,\n",
              " 0.17753965,\n",
              " 0.5360662,\n",
              " 0.7655902,\n",
              " 0.11524242,\n",
              " 0.0878897,\n",
              " 0.07473567,\n",
              " 0.7576835,\n",
              " 0.70186895,\n",
              " 0.5864391,\n",
              " 0.7276141,\n",
              " 0.761119,\n",
              " 0.8839438,\n",
              " 0.7712959,\n",
              " 0.7794775,\n",
              " 0.07663137,\n",
              " 0.818087,\n",
              " 0.5356969,\n",
              " 0.75766,\n",
              " 0.20496547,\n",
              " 0.5492936,\n",
              " 0.052731305,\n",
              " 0.07588121,\n",
              " 0.06893727,\n",
              " 0.58600056,\n",
              " 0.5157819,\n",
              " 0.9423505,\n",
              " 0.6681041,\n",
              " 0.75271046,\n",
              " 0.55017394,\n",
              " 0.9823395,\n",
              " 0.58979976,\n",
              " 0.83480144]"
            ]
          },
          "metadata": {
            "tags": []
          },
          "execution_count": 56
        }
      ]
    },
    {
      "cell_type": "code",
      "metadata": {
        "colab": {
          "base_uri": "https://localhost:8080/",
          "height": 279
        },
        "id": "-fQoirkncdoE",
        "outputId": "1ccb3496-a9bb-4c31-922e-d720795c6eff"
      },
      "source": [
        "errorPlot(Y_test, t, 100)"
      ],
      "execution_count": 57,
      "outputs": [
        {
          "output_type": "display_data",
          "data": {
            "image/png": "[encoded data removed]",
            "text/plain": [
              "<Figure size 432x288 with 1 Axes>"
            ]
          },
          "metadata": {
            "tags": [],
            "needs_background": "light"
          }
        }
      ]
    },
    {
      "cell_type": "code",
      "metadata": {
        "id": "9O1TGsuFeiwU"
      },
      "source": [
        "te = []\n",
        "for x in t:\n",
        "  if x >= 0.5:\n",
        "    te.append(1)\n",
        "  else:\n",
        "    te.append(0)"
      ],
      "execution_count": 58,
      "outputs": []
    },
    {
      "cell_type": "code",
      "metadata": {
        "colab": {
          "base_uri": "https://localhost:8080/",
          "height": 279
        },
        "id": "fcPSqnnqidlI",
        "outputId": "d1068044-3540-4b76-ddf4-d5c7eef13057"
      },
      "source": [
        "errorPlot(Y_test, te, 100)"
      ],
      "execution_count": 59,
      "outputs": [
        {
          "output_type": "display_data",
          "data": {
            "image/png": "[encoded data removed]",
            "text/plain": [
              "<Figure size 432x288 with 1 Axes>"
            ]
          },
          "metadata": {
            "tags": [],
            "needs_background": "light"
          }
        }
      ]
    }
  ]
}