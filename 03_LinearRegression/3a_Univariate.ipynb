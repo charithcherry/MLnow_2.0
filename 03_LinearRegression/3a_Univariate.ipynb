{
  "nbformat": 4,
  "nbformat_minor": 0,
  "metadata": {
    "colab": {
      "name": "3.1_Univariate.ipynb",
      "provenance": [],
      "include_colab_link": true
    },
    "kernelspec": {
      "name": "python3",
      "display_name": "Python 3"
    }
  },
  "cells": [
    {
      "cell_type": "markdown",
      "metadata": {
        "id": "view-in-github",
        "colab_type": "text"
      },
      "source": [
        "<a href=\"https://colab.research.google.com/github/charithcherry/MLnow_2.0/blob/main/03_LinearRegression/3a_Univariate.ipynb\" target=\"_parent\"><img src=\"https://colab.research.google.com/assets/colab-badge.svg\" alt=\"Open In Colab\"/></a>"
      ]
    },
    {
      "cell_type": "markdown",
      "metadata": {
        "id": "q_569ugy6lyY"
      },
      "source": [
        "> This notebook was created for code illustration of the `ML.now()` course\n",
        "\n",
        "\n",
        "`Univariate Linear Regression`\n",
        "\n",
        "[Link to Download the dataset](https://archive.ics.uci.edu/ml/datasets/Student+Performance)\n",
        "\n",
        "**Date Created**: June 6, 2021\n",
        "\n",
        "\n",
        "**Author**:\n",
        " Shivani Shimpi \n",
        "\n",
        "**Reach out**:\n",
        "[Email](https://www.google.com/intl/en-GB/gmail/about/#) | [GitHub](https://github.com/shivanishimpi) | [LinkedIn](https://www.linkedin.com/in/shivani-shimpi-5113a8170/)\n",
        "\n",
        "[[Course Repository](https://github.com/shivanishimpi/MLnow_2.0)]\n",
        "\n",
        "Feel free to check out my [website](http://shivanishimpi.github.io/) for more information"
      ]
    },
    {
      "cell_type": "markdown",
      "metadata": {
        "id": "KmW9S6zjaauQ"
      },
      "source": [
        "## Setup"
      ]
    },
    {
      "cell_type": "code",
      "metadata": {
        "colab": {
          "base_uri": "https://localhost:8080/"
        },
        "id": "oX_QibhWsnnX",
        "outputId": "7a6d1697-105e-4fb8-b0db-0e1738e35616"
      },
      "source": [
        "from google.colab import drive\n",
        "drive.mount('/content/drive')"
      ],
      "execution_count": null,
      "outputs": [
        {
          "output_type": "stream",
          "text": [
            "Mounted at /content/drive\n"
          ],
          "name": "stdout"
        }
      ]
    },
    {
      "cell_type": "code",
      "metadata": {
        "colab": {
          "base_uri": "https://localhost:8080/"
        },
        "id": "wYuNn17Isvml",
        "outputId": "18b405b6-d886-4898-9d73-16b0860571d2"
      },
      "source": [
        "cd '/content/drive/MyDrive/Courses/ML.now()/CodeArchive/student'"
      ],
      "execution_count": null,
      "outputs": [
        {
          "output_type": "stream",
          "text": [
            "/content/drive/MyDrive/Courses/ML.now()/CodeArchive/student\n"
          ],
          "name": "stdout"
        }
      ]
    },
    {
      "cell_type": "code",
      "metadata": {
        "colab": {
          "base_uri": "https://localhost:8080/"
        },
        "id": "oR69jwALs-uP",
        "outputId": "00f2c359-1a90-430b-9cae-41845bd695d4"
      },
      "source": [
        "ls"
      ],
      "execution_count": null,
      "outputs": [
        {
          "output_type": "stream",
          "text": [
            "cleanedMathData.csv          student-mat.csv  student.txt\n",
            "model_01.h5                  student-merge.R  univariate_MathData_2.csv\n",
            "multivariate_MathData_2.csv  student-por.csv\n"
          ],
          "name": "stdout"
        }
      ]
    },
    {
      "cell_type": "code",
      "metadata": {
        "id": "0rYwvbeMtPJg"
      },
      "source": [
        "import os"
      ],
      "execution_count": null,
      "outputs": []
    },
    {
      "cell_type": "code",
      "metadata": {
        "id": "cnGQRbmes_tZ"
      },
      "source": [
        "import pandas as pd #working with csv or excel files\n",
        "import numpy as np #working with numbers/ arrays/ tensors\n",
        "import tensorflow as tf #framework\n",
        "from tensorflow import keras #API / library \n",
        "import os #using os commands between the python language"
      ],
      "execution_count": null,
      "outputs": []
    },
    {
      "cell_type": "code",
      "metadata": {
        "id": "VV-Ps6dJtX6B"
      },
      "source": [
        "mathData = pd.read_csv('student-mat.csv', sep=';') #load the csv file as dataframe"
      ],
      "execution_count": null,
      "outputs": []
    },
    {
      "cell_type": "code",
      "metadata": {
        "colab": {
          "base_uri": "https://localhost:8080/",
          "height": 379
        },
        "id": "2_KId_bptr05",
        "outputId": "bed801cb-0956-4d4a-92a8-74a1f7b069c3"
      },
      "source": [
        "mathData.head(10) #print the first ten rows of the dataframe"
      ],
      "execution_count": null,
      "outputs": [
        {
          "output_type": "execute_result",
          "data": {
            "text/html": [
              "<div>\n",
              "<style scoped>\n",
              "    .dataframe tbody tr th:only-of-type {\n",
              "        vertical-align: middle;\n",
              "    }\n",
              "\n",
              "    .dataframe tbody tr th {\n",
              "        vertical-align: top;\n",
              "    }\n",
              "\n",
              "    .dataframe thead th {\n",
              "        text-align: right;\n",
              "    }\n",
              "</style>\n",
              "<table border=\"1\" class=\"dataframe\">\n",
              "  <thead>\n",
              "    <tr style=\"text-align: right;\">\n",
              "      <th></th>\n",
              "      <th>school</th>\n",
              "      <th>sex</th>\n",
              "      <th>age</th>\n",
              "      <th>address</th>\n",
              "      <th>famsize</th>\n",
              "      <th>Pstatus</th>\n",
              "      <th>Medu</th>\n",
              "      <th>Fedu</th>\n",
              "      <th>Mjob</th>\n",
              "      <th>Fjob</th>\n",
              "      <th>reason</th>\n",
              "      <th>guardian</th>\n",
              "      <th>traveltime</th>\n",
              "      <th>studytime</th>\n",
              "      <th>failures</th>\n",
              "      <th>schoolsup</th>\n",
              "      <th>famsup</th>\n",
              "      <th>paid</th>\n",
              "      <th>activities</th>\n",
              "      <th>nursery</th>\n",
              "      <th>higher</th>\n",
              "      <th>internet</th>\n",
              "      <th>romantic</th>\n",
              "      <th>famrel</th>\n",
              "      <th>freetime</th>\n",
              "      <th>goout</th>\n",
              "      <th>Dalc</th>\n",
              "      <th>Walc</th>\n",
              "      <th>health</th>\n",
              "      <th>absences</th>\n",
              "      <th>G1</th>\n",
              "      <th>G2</th>\n",
              "      <th>G3</th>\n",
              "    </tr>\n",
              "  </thead>\n",
              "  <tbody>\n",
              "    <tr>\n",
              "      <th>0</th>\n",
              "      <td>GP</td>\n",
              "      <td>F</td>\n",
              "      <td>18</td>\n",
              "      <td>U</td>\n",
              "      <td>GT3</td>\n",
              "      <td>A</td>\n",
              "      <td>4</td>\n",
              "      <td>4</td>\n",
              "      <td>at_home</td>\n",
              "      <td>teacher</td>\n",
              "      <td>course</td>\n",
              "      <td>mother</td>\n",
              "      <td>2</td>\n",
              "      <td>2</td>\n",
              "      <td>0</td>\n",
              "      <td>yes</td>\n",
              "      <td>no</td>\n",
              "      <td>no</td>\n",
              "      <td>no</td>\n",
              "      <td>yes</td>\n",
              "      <td>yes</td>\n",
              "      <td>no</td>\n",
              "      <td>no</td>\n",
              "      <td>4</td>\n",
              "      <td>3</td>\n",
              "      <td>4</td>\n",
              "      <td>1</td>\n",
              "      <td>1</td>\n",
              "      <td>3</td>\n",
              "      <td>6</td>\n",
              "      <td>5</td>\n",
              "      <td>6</td>\n",
              "      <td>6</td>\n",
              "    </tr>\n",
              "    <tr>\n",
              "      <th>1</th>\n",
              "      <td>GP</td>\n",
              "      <td>F</td>\n",
              "      <td>17</td>\n",
              "      <td>U</td>\n",
              "      <td>GT3</td>\n",
              "      <td>T</td>\n",
              "      <td>1</td>\n",
              "      <td>1</td>\n",
              "      <td>at_home</td>\n",
              "      <td>other</td>\n",
              "      <td>course</td>\n",
              "      <td>father</td>\n",
              "      <td>1</td>\n",
              "      <td>2</td>\n",
              "      <td>0</td>\n",
              "      <td>no</td>\n",
              "      <td>yes</td>\n",
              "      <td>no</td>\n",
              "      <td>no</td>\n",
              "      <td>no</td>\n",
              "      <td>yes</td>\n",
              "      <td>yes</td>\n",
              "      <td>no</td>\n",
              "      <td>5</td>\n",
              "      <td>3</td>\n",
              "      <td>3</td>\n",
              "      <td>1</td>\n",
              "      <td>1</td>\n",
              "      <td>3</td>\n",
              "      <td>4</td>\n",
              "      <td>5</td>\n",
              "      <td>5</td>\n",
              "      <td>6</td>\n",
              "    </tr>\n",
              "    <tr>\n",
              "      <th>2</th>\n",
              "      <td>GP</td>\n",
              "      <td>F</td>\n",
              "      <td>15</td>\n",
              "      <td>U</td>\n",
              "      <td>LE3</td>\n",
              "      <td>T</td>\n",
              "      <td>1</td>\n",
              "      <td>1</td>\n",
              "      <td>at_home</td>\n",
              "      <td>other</td>\n",
              "      <td>other</td>\n",
              "      <td>mother</td>\n",
              "      <td>1</td>\n",
              "      <td>2</td>\n",
              "      <td>3</td>\n",
              "      <td>yes</td>\n",
              "      <td>no</td>\n",
              "      <td>yes</td>\n",
              "      <td>no</td>\n",
              "      <td>yes</td>\n",
              "      <td>yes</td>\n",
              "      <td>yes</td>\n",
              "      <td>no</td>\n",
              "      <td>4</td>\n",
              "      <td>3</td>\n",
              "      <td>2</td>\n",
              "      <td>2</td>\n",
              "      <td>3</td>\n",
              "      <td>3</td>\n",
              "      <td>10</td>\n",
              "      <td>7</td>\n",
              "      <td>8</td>\n",
              "      <td>10</td>\n",
              "    </tr>\n",
              "    <tr>\n",
              "      <th>3</th>\n",
              "      <td>GP</td>\n",
              "      <td>F</td>\n",
              "      <td>15</td>\n",
              "      <td>U</td>\n",
              "      <td>GT3</td>\n",
              "      <td>T</td>\n",
              "      <td>4</td>\n",
              "      <td>2</td>\n",
              "      <td>health</td>\n",
              "      <td>services</td>\n",
              "      <td>home</td>\n",
              "      <td>mother</td>\n",
              "      <td>1</td>\n",
              "      <td>3</td>\n",
              "      <td>0</td>\n",
              "      <td>no</td>\n",
              "      <td>yes</td>\n",
              "      <td>yes</td>\n",
              "      <td>yes</td>\n",
              "      <td>yes</td>\n",
              "      <td>yes</td>\n",
              "      <td>yes</td>\n",
              "      <td>yes</td>\n",
              "      <td>3</td>\n",
              "      <td>2</td>\n",
              "      <td>2</td>\n",
              "      <td>1</td>\n",
              "      <td>1</td>\n",
              "      <td>5</td>\n",
              "      <td>2</td>\n",
              "      <td>15</td>\n",
              "      <td>14</td>\n",
              "      <td>15</td>\n",
              "    </tr>\n",
              "    <tr>\n",
              "      <th>4</th>\n",
              "      <td>GP</td>\n",
              "      <td>F</td>\n",
              "      <td>16</td>\n",
              "      <td>U</td>\n",
              "      <td>GT3</td>\n",
              "      <td>T</td>\n",
              "      <td>3</td>\n",
              "      <td>3</td>\n",
              "      <td>other</td>\n",
              "      <td>other</td>\n",
              "      <td>home</td>\n",
              "      <td>father</td>\n",
              "      <td>1</td>\n",
              "      <td>2</td>\n",
              "      <td>0</td>\n",
              "      <td>no</td>\n",
              "      <td>yes</td>\n",
              "      <td>yes</td>\n",
              "      <td>no</td>\n",
              "      <td>yes</td>\n",
              "      <td>yes</td>\n",
              "      <td>no</td>\n",
              "      <td>no</td>\n",
              "      <td>4</td>\n",
              "      <td>3</td>\n",
              "      <td>2</td>\n",
              "      <td>1</td>\n",
              "      <td>2</td>\n",
              "      <td>5</td>\n",
              "      <td>4</td>\n",
              "      <td>6</td>\n",
              "      <td>10</td>\n",
              "      <td>10</td>\n",
              "    </tr>\n",
              "    <tr>\n",
              "      <th>5</th>\n",
              "      <td>GP</td>\n",
              "      <td>M</td>\n",
              "      <td>16</td>\n",
              "      <td>U</td>\n",
              "      <td>LE3</td>\n",
              "      <td>T</td>\n",
              "      <td>4</td>\n",
              "      <td>3</td>\n",
              "      <td>services</td>\n",
              "      <td>other</td>\n",
              "      <td>reputation</td>\n",
              "      <td>mother</td>\n",
              "      <td>1</td>\n",
              "      <td>2</td>\n",
              "      <td>0</td>\n",
              "      <td>no</td>\n",
              "      <td>yes</td>\n",
              "      <td>yes</td>\n",
              "      <td>yes</td>\n",
              "      <td>yes</td>\n",
              "      <td>yes</td>\n",
              "      <td>yes</td>\n",
              "      <td>no</td>\n",
              "      <td>5</td>\n",
              "      <td>4</td>\n",
              "      <td>2</td>\n",
              "      <td>1</td>\n",
              "      <td>2</td>\n",
              "      <td>5</td>\n",
              "      <td>10</td>\n",
              "      <td>15</td>\n",
              "      <td>15</td>\n",
              "      <td>15</td>\n",
              "    </tr>\n",
              "    <tr>\n",
              "      <th>6</th>\n",
              "      <td>GP</td>\n",
              "      <td>M</td>\n",
              "      <td>16</td>\n",
              "      <td>U</td>\n",
              "      <td>LE3</td>\n",
              "      <td>T</td>\n",
              "      <td>2</td>\n",
              "      <td>2</td>\n",
              "      <td>other</td>\n",
              "      <td>other</td>\n",
              "      <td>home</td>\n",
              "      <td>mother</td>\n",
              "      <td>1</td>\n",
              "      <td>2</td>\n",
              "      <td>0</td>\n",
              "      <td>no</td>\n",
              "      <td>no</td>\n",
              "      <td>no</td>\n",
              "      <td>no</td>\n",
              "      <td>yes</td>\n",
              "      <td>yes</td>\n",
              "      <td>yes</td>\n",
              "      <td>no</td>\n",
              "      <td>4</td>\n",
              "      <td>4</td>\n",
              "      <td>4</td>\n",
              "      <td>1</td>\n",
              "      <td>1</td>\n",
              "      <td>3</td>\n",
              "      <td>0</td>\n",
              "      <td>12</td>\n",
              "      <td>12</td>\n",
              "      <td>11</td>\n",
              "    </tr>\n",
              "    <tr>\n",
              "      <th>7</th>\n",
              "      <td>GP</td>\n",
              "      <td>F</td>\n",
              "      <td>17</td>\n",
              "      <td>U</td>\n",
              "      <td>GT3</td>\n",
              "      <td>A</td>\n",
              "      <td>4</td>\n",
              "      <td>4</td>\n",
              "      <td>other</td>\n",
              "      <td>teacher</td>\n",
              "      <td>home</td>\n",
              "      <td>mother</td>\n",
              "      <td>2</td>\n",
              "      <td>2</td>\n",
              "      <td>0</td>\n",
              "      <td>yes</td>\n",
              "      <td>yes</td>\n",
              "      <td>no</td>\n",
              "      <td>no</td>\n",
              "      <td>yes</td>\n",
              "      <td>yes</td>\n",
              "      <td>no</td>\n",
              "      <td>no</td>\n",
              "      <td>4</td>\n",
              "      <td>1</td>\n",
              "      <td>4</td>\n",
              "      <td>1</td>\n",
              "      <td>1</td>\n",
              "      <td>1</td>\n",
              "      <td>6</td>\n",
              "      <td>6</td>\n",
              "      <td>5</td>\n",
              "      <td>6</td>\n",
              "    </tr>\n",
              "    <tr>\n",
              "      <th>8</th>\n",
              "      <td>GP</td>\n",
              "      <td>M</td>\n",
              "      <td>15</td>\n",
              "      <td>U</td>\n",
              "      <td>LE3</td>\n",
              "      <td>A</td>\n",
              "      <td>3</td>\n",
              "      <td>2</td>\n",
              "      <td>services</td>\n",
              "      <td>other</td>\n",
              "      <td>home</td>\n",
              "      <td>mother</td>\n",
              "      <td>1</td>\n",
              "      <td>2</td>\n",
              "      <td>0</td>\n",
              "      <td>no</td>\n",
              "      <td>yes</td>\n",
              "      <td>yes</td>\n",
              "      <td>no</td>\n",
              "      <td>yes</td>\n",
              "      <td>yes</td>\n",
              "      <td>yes</td>\n",
              "      <td>no</td>\n",
              "      <td>4</td>\n",
              "      <td>2</td>\n",
              "      <td>2</td>\n",
              "      <td>1</td>\n",
              "      <td>1</td>\n",
              "      <td>1</td>\n",
              "      <td>0</td>\n",
              "      <td>16</td>\n",
              "      <td>18</td>\n",
              "      <td>19</td>\n",
              "    </tr>\n",
              "    <tr>\n",
              "      <th>9</th>\n",
              "      <td>GP</td>\n",
              "      <td>M</td>\n",
              "      <td>15</td>\n",
              "      <td>U</td>\n",
              "      <td>GT3</td>\n",
              "      <td>T</td>\n",
              "      <td>3</td>\n",
              "      <td>4</td>\n",
              "      <td>other</td>\n",
              "      <td>other</td>\n",
              "      <td>home</td>\n",
              "      <td>mother</td>\n",
              "      <td>1</td>\n",
              "      <td>2</td>\n",
              "      <td>0</td>\n",
              "      <td>no</td>\n",
              "      <td>yes</td>\n",
              "      <td>yes</td>\n",
              "      <td>yes</td>\n",
              "      <td>yes</td>\n",
              "      <td>yes</td>\n",
              "      <td>yes</td>\n",
              "      <td>no</td>\n",
              "      <td>5</td>\n",
              "      <td>5</td>\n",
              "      <td>1</td>\n",
              "      <td>1</td>\n",
              "      <td>1</td>\n",
              "      <td>5</td>\n",
              "      <td>0</td>\n",
              "      <td>14</td>\n",
              "      <td>15</td>\n",
              "      <td>15</td>\n",
              "    </tr>\n",
              "  </tbody>\n",
              "</table>\n",
              "</div>"
            ],
            "text/plain": [
              "  school sex  age address famsize Pstatus  ...  Walc  health absences  G1  G2  G3\n",
              "0     GP   F   18       U     GT3       A  ...     1       3        6   5   6   6\n",
              "1     GP   F   17       U     GT3       T  ...     1       3        4   5   5   6\n",
              "2     GP   F   15       U     LE3       T  ...     3       3       10   7   8  10\n",
              "3     GP   F   15       U     GT3       T  ...     1       5        2  15  14  15\n",
              "4     GP   F   16       U     GT3       T  ...     2       5        4   6  10  10\n",
              "5     GP   M   16       U     LE3       T  ...     2       5       10  15  15  15\n",
              "6     GP   M   16       U     LE3       T  ...     1       3        0  12  12  11\n",
              "7     GP   F   17       U     GT3       A  ...     1       1        6   6   5   6\n",
              "8     GP   M   15       U     LE3       A  ...     1       1        0  16  18  19\n",
              "9     GP   M   15       U     GT3       T  ...     1       5        0  14  15  15\n",
              "\n",
              "[10 rows x 33 columns]"
            ]
          },
          "metadata": {
            "tags": []
          },
          "execution_count": 7
        }
      ]
    },
    {
      "cell_type": "markdown",
      "metadata": {
        "id": "i2bal50yG_PZ"
      },
      "source": [
        "We are just going to consider the columns `G1` and `G3` for univariate linear regression\n",
        "\n",
        "$G3_i = G1_i  \\cdot \\theta_1 + \\theta_0$"
      ]
    },
    {
      "cell_type": "code",
      "metadata": {
        "colab": {
          "base_uri": "https://localhost:8080/",
          "height": 204
        },
        "id": "Yw0PNCuTSEDC",
        "outputId": "363b8e8c-6ec1-42a1-cc3f-445cbcfa2a8d"
      },
      "source": [
        "uniMathData = mathData[['G1', 'G3']]\n",
        "uniMathData.head(5)"
      ],
      "execution_count": null,
      "outputs": [
        {
          "output_type": "execute_result",
          "data": {
            "text/html": [
              "<div>\n",
              "<style scoped>\n",
              "    .dataframe tbody tr th:only-of-type {\n",
              "        vertical-align: middle;\n",
              "    }\n",
              "\n",
              "    .dataframe tbody tr th {\n",
              "        vertical-align: top;\n",
              "    }\n",
              "\n",
              "    .dataframe thead th {\n",
              "        text-align: right;\n",
              "    }\n",
              "</style>\n",
              "<table border=\"1\" class=\"dataframe\">\n",
              "  <thead>\n",
              "    <tr style=\"text-align: right;\">\n",
              "      <th></th>\n",
              "      <th>G1</th>\n",
              "      <th>G3</th>\n",
              "    </tr>\n",
              "  </thead>\n",
              "  <tbody>\n",
              "    <tr>\n",
              "      <th>0</th>\n",
              "      <td>5</td>\n",
              "      <td>6</td>\n",
              "    </tr>\n",
              "    <tr>\n",
              "      <th>1</th>\n",
              "      <td>5</td>\n",
              "      <td>6</td>\n",
              "    </tr>\n",
              "    <tr>\n",
              "      <th>2</th>\n",
              "      <td>7</td>\n",
              "      <td>10</td>\n",
              "    </tr>\n",
              "    <tr>\n",
              "      <th>3</th>\n",
              "      <td>15</td>\n",
              "      <td>15</td>\n",
              "    </tr>\n",
              "    <tr>\n",
              "      <th>4</th>\n",
              "      <td>6</td>\n",
              "      <td>10</td>\n",
              "    </tr>\n",
              "  </tbody>\n",
              "</table>\n",
              "</div>"
            ],
            "text/plain": [
              "   G1  G3\n",
              "0   5   6\n",
              "1   5   6\n",
              "2   7  10\n",
              "3  15  15\n",
              "4   6  10"
            ]
          },
          "metadata": {
            "tags": []
          },
          "execution_count": 8
        }
      ]
    },
    {
      "cell_type": "code",
      "metadata": {
        "id": "eyzP9mL4Hmb5"
      },
      "source": [
        "uniMathData.to_csv('univariate_MathData_2.csv')"
      ],
      "execution_count": null,
      "outputs": []
    },
    {
      "cell_type": "code",
      "metadata": {
        "colab": {
          "base_uri": "https://localhost:8080/"
        },
        "id": "I-3qK_nNxnTA",
        "outputId": "123ffcf8-6559-4497-a7e4-56e4f03d1437"
      },
      "source": [
        "ls"
      ],
      "execution_count": null,
      "outputs": [
        {
          "output_type": "stream",
          "text": [
            "cleanedMathData.csv          student-mat.csv  student.txt\n",
            "model_01.h5                  student-merge.R  univariate_MathData_2.csv\n",
            "multivariate_MathData_2.csv  student-por.csv\n"
          ],
          "name": "stdout"
        }
      ]
    },
    {
      "cell_type": "markdown",
      "metadata": {
        "id": "ImV3p6AKxszU"
      },
      "source": [
        "## Data visualization"
      ]
    },
    {
      "cell_type": "code",
      "metadata": {
        "colab": {
          "base_uri": "https://localhost:8080/",
          "height": 157
        },
        "id": "RqumcsZLxq4v",
        "outputId": "9d014fc6-bdd0-4f13-dec9-4d3715dd3a66"
      },
      "source": [
        "import seaborn as sns\n",
        "sns.palplot(sns.color_palette('PuOr')) #Purple to Orange colors\n",
        "pal = sns.color_palette('PuOr', 6) #print 6 color shades from Purple to Orange\n",
        "pal.as_hex() #set hex code values for colors\n",
        "\n",
        "import matplotlib.pyplot as plt\n",
        "plt.style.use(['seaborn'])\n",
        "sns_colors = ['#c6690c', '#664697'] #orange Purple hex codes\n",
        "sns.set_palette(sns_colors) #set the palette as sns_colors \n",
        "sns.palplot(sns.color_palette(sns_colors)) #plot the color codes"
      ],
      "execution_count": null,
      "outputs": [
        {
          "output_type": "display_data",
          "data": {
            "image/png": "[encoded data removed]",
            "text/plain": [
              "<Figure size 432x72 with 1 Axes>"
            ]
          },
          "metadata": {
            "tags": [],
            "needs_background": "light"
          }
        },
        {
          "output_type": "display_data",
          "data": {
            "image/png": "[encoded data removed]",
            "text/plain": [
              "<Figure size 144x72 with 1 Axes>"
            ]
          },
          "metadata": {
            "tags": []
          }
        }
      ]
    },
    {
      "cell_type": "code",
      "metadata": {
        "colab": {
          "base_uri": "https://localhost:8080/"
        },
        "id": "A6MT5E8Fy7MZ",
        "outputId": "e6e0558b-cfc8-47f2-f3ad-ab81726c092e"
      },
      "source": [
        "uniMathData.columns #columns in the dataframe"
      ],
      "execution_count": null,
      "outputs": [
        {
          "output_type": "execute_result",
          "data": {
            "text/plain": [
              "Index(['G1', 'G3'], dtype='object')"
            ]
          },
          "metadata": {
            "tags": []
          },
          "execution_count": 12
        }
      ]
    },
    {
      "cell_type": "code",
      "metadata": {
        "colab": {
          "base_uri": "https://localhost:8080/",
          "height": 391
        },
        "id": "PrsTwdHHzBbk",
        "outputId": "52dbe038-6dc7-4b8c-a91c-3c603a237c44"
      },
      "source": [
        "#pairplot for all the values\n",
        "\n",
        "sns.pairplot(uniMathData,\n",
        "             x_vars = ['G1', 'G3'],\n",
        "             y_vars =  ['G1', 'G3'],\n",
        "       diag_kind='kde'\n",
        "             )"
      ],
      "execution_count": null,
      "outputs": [
        {
          "output_type": "execute_result",
          "data": {
            "text/plain": [
              "<seaborn.axisgrid.PairGrid at 0x7fe4e3654310>"
            ]
          },
          "metadata": {
            "tags": []
          },
          "execution_count": 13
        },
        {
          "output_type": "display_data",
          "data": {
            "image/png": "[encoded data removed]",
            "text/plain": [
              "<Figure size 360x360 with 6 Axes>"
            ]
          },
          "metadata": {
            "tags": []
          }
        }
      ]
    },
    {
      "cell_type": "markdown",
      "metadata": {
        "id": "Klm33YcpKZkl"
      },
      "source": [
        "## Data Splits"
      ]
    },
    {
      "cell_type": "code",
      "metadata": {
        "colab": {
          "base_uri": "https://localhost:8080/"
        },
        "id": "UwrSOCKS1NhN",
        "outputId": "914cf2d3-dabd-4cd8-a197-6075b1cadf3d"
      },
      "source": [
        "#80-20 train-test percent split\n",
        "\n",
        "trainDataset = uniMathData.sample(frac=0.8, random_state=0) \n",
        "testDataset = uniMathData.drop(trainDataset.index)\n",
        "\n",
        "print(trainDataset.head())\n",
        "print(testDataset.head())"
      ],
      "execution_count": null,
      "outputs": [
        {
          "output_type": "stream",
          "text": [
            "     G1  G3\n",
            "329  14  14\n",
            "318  11  10\n",
            "317   9   9\n",
            "65   16  15\n",
            "59   15  16\n",
            "    G1  G3\n",
            "9   14  15\n",
            "25   6   8\n",
            "28  11  11\n",
            "31  17  17\n",
            "32  17  16\n"
          ],
          "name": "stdout"
        }
      ]
    },
    {
      "cell_type": "code",
      "metadata": {
        "colab": {
          "base_uri": "https://localhost:8080/"
        },
        "id": "YWO2xRV53wV-",
        "outputId": "2e9cfc16-b48f-472b-f63d-0bdbcbd4d6de"
      },
      "source": [
        "print(trainDataset.shape)\n",
        "print(testDataset.shape)"
      ],
      "execution_count": null,
      "outputs": [
        {
          "output_type": "stream",
          "text": [
            "(316, 2)\n",
            "(79, 2)\n"
          ],
          "name": "stdout"
        }
      ]
    },
    {
      "cell_type": "code",
      "metadata": {
        "colab": {
          "base_uri": "https://localhost:8080/"
        },
        "id": "OmDTbvMC32hg",
        "outputId": "01cea53b-fa47-456e-ab31-93ee3b7cec19"
      },
      "source": [
        "#copy the trainDataset dataframe for getting the features\n",
        "\n",
        "trainFeatures = trainDataset.copy()\n",
        "testFeatures = testDataset.copy()\n",
        "\n",
        "print(trainFeatures.head())\n",
        "print(testFeatures.head())"
      ],
      "execution_count": null,
      "outputs": [
        {
          "output_type": "stream",
          "text": [
            "     G1  G3\n",
            "329  14  14\n",
            "318  11  10\n",
            "317   9   9\n",
            "65   16  15\n",
            "59   15  16\n",
            "    G1  G3\n",
            "9   14  15\n",
            "25   6   8\n",
            "28  11  11\n",
            "31  17  17\n",
            "32  17  16\n"
          ],
          "name": "stdout"
        }
      ]
    },
    {
      "cell_type": "code",
      "metadata": {
        "colab": {
          "base_uri": "https://localhost:8080/"
        },
        "id": "jSR0_uni4ayh",
        "outputId": "c9a27ef9-a0d0-4aaa-f6e2-bbe63dff2832"
      },
      "source": [
        "#removing the G3 column and saving it into the labels variable\n",
        "\n",
        "trainLabels = trainFeatures.pop('G3')\n",
        "testLabels = testFeatures.pop('G3')\n",
        "\n",
        "print(trainLabels.head())\n",
        "print(testLabels.head())"
      ],
      "execution_count": null,
      "outputs": [
        {
          "output_type": "stream",
          "text": [
            "329    14\n",
            "318    10\n",
            "317     9\n",
            "65     15\n",
            "59     16\n",
            "Name: G3, dtype: int64\n",
            "9     15\n",
            "25     8\n",
            "28    11\n",
            "31    17\n",
            "32    16\n",
            "Name: G3, dtype: int64\n"
          ],
          "name": "stdout"
        }
      ]
    },
    {
      "cell_type": "code",
      "metadata": {
        "colab": {
          "base_uri": "https://localhost:8080/"
        },
        "id": "HnGSqb-q4wk8",
        "outputId": "8971398a-e993-402a-e906-4867a77c4068"
      },
      "source": [
        "print(trainFeatures.head())\n",
        "print(testFeatures.head())"
      ],
      "execution_count": null,
      "outputs": [
        {
          "output_type": "stream",
          "text": [
            "     G1\n",
            "329  14\n",
            "318  11\n",
            "317   9\n",
            "65   16\n",
            "59   15\n",
            "    G1\n",
            "9   14\n",
            "25   6\n",
            "28  11\n",
            "31  17\n",
            "32  17\n"
          ],
          "name": "stdout"
        }
      ]
    },
    {
      "cell_type": "code",
      "metadata": {
        "id": "XPTSq34jk4o_"
      },
      "source": [
        "# univariate -> num(features) = 1\n",
        "# multvariate -> num(features) > 1 = 11\n",
        "\n",
        "\n",
        "model = tf.keras.Sequential([\n",
        "                             tf.keras.layers.Dense(1)\n",
        "\n",
        "])"
      ],
      "execution_count": null,
      "outputs": []
    },
    {
      "cell_type": "code",
      "metadata": {
        "id": "4C4GKBdE6iCE"
      },
      "source": [
        "model.compile(\n",
        "    loss = 'mean_absolute_error', #minimizing the MAE loss\n",
        "    optimizer = tf.keras.optimizers.Adam(0.001), #learning rate specified as 0.001\n",
        "    # optimizer = 'adam', #takes the default learning rate\n",
        "    metrics = ['mae', 'mse'] #meanSquare and meanAbsolute error metrics\n",
        ")"
      ],
      "execution_count": null,
      "outputs": []
    },
    {
      "cell_type": "code",
      "metadata": {
        "colab": {
          "base_uri": "https://localhost:8080/"
        },
        "id": "d_A7DrhB6zvm",
        "outputId": "685411ad-f121-432c-dfcb-f202a5ced241"
      },
      "source": [
        "numEpochs = 300\n",
        "history = model.fit(x = trainFeatures, y = trainLabels, validation_data = (testFeatures, testLabels), epochs = numEpochs)"
      ],
      "execution_count": null,
      "outputs": [
        {
          "output_type": "stream",
          "text": [
            "Epoch 1/300\n",
            "10/10 [==============================] - 0s 19ms/step - loss: 2.5638 - mae: 2.5638 - mse: 10.8063 - val_loss: 2.3767 - val_mae: 2.3767 - val_mse: 8.9963\n",
            "Epoch 2/300\n",
            "10/10 [==============================] - 0s 3ms/step - loss: 2.4825 - mae: 2.4825 - mse: 10.4799 - val_loss: 2.2855 - val_mae: 2.2855 - val_mse: 8.6568\n",
            "Epoch 3/300\n",
            "10/10 [==============================] - 0s 3ms/step - loss: 2.4080 - mae: 2.4080 - mse: 10.2150 - val_loss: 2.1970 - val_mae: 2.1970 - val_mse: 8.3558\n",
            "Epoch 4/300\n",
            "10/10 [==============================] - 0s 3ms/step - loss: 2.3437 - mae: 2.3437 - mse: 9.9589 - val_loss: 2.1145 - val_mae: 2.1145 - val_mse: 8.0975\n",
            "Epoch 5/300\n",
            "10/10 [==============================] - 0s 3ms/step - loss: 2.2877 - mae: 2.2877 - mse: 9.7705 - val_loss: 2.0351 - val_mae: 2.0351 - val_mse: 7.8732\n",
            "Epoch 6/300\n",
            "10/10 [==============================] - 0s 3ms/step - loss: 2.2348 - mae: 2.2348 - mse: 9.5973 - val_loss: 1.9642 - val_mae: 1.9642 - val_mse: 7.6851\n",
            "Epoch 7/300\n",
            "10/10 [==============================] - 0s 3ms/step - loss: 2.1918 - mae: 2.1918 - mse: 9.4621 - val_loss: 1.9035 - val_mae: 1.9035 - val_mse: 7.5320\n",
            "Epoch 8/300\n",
            "10/10 [==============================] - 0s 4ms/step - loss: 2.1514 - mae: 2.1514 - mse: 9.3232 - val_loss: 1.8445 - val_mae: 1.8445 - val_mse: 7.4027\n",
            "Epoch 9/300\n",
            "10/10 [==============================] - 0s 3ms/step - loss: 2.1140 - mae: 2.1140 - mse: 9.2327 - val_loss: 1.8030 - val_mae: 1.8030 - val_mse: 7.2947\n",
            "Epoch 10/300\n",
            "10/10 [==============================] - 0s 3ms/step - loss: 2.0825 - mae: 2.0825 - mse: 9.1628 - val_loss: 1.7648 - val_mae: 1.7648 - val_mse: 7.2080\n",
            "Epoch 11/300\n",
            "10/10 [==============================] - 0s 4ms/step - loss: 2.0506 - mae: 2.0506 - mse: 9.0933 - val_loss: 1.7339 - val_mae: 1.7339 - val_mse: 7.1446\n",
            "Epoch 12/300\n",
            "10/10 [==============================] - 0s 3ms/step - loss: 2.0271 - mae: 2.0271 - mse: 9.0514 - val_loss: 1.7062 - val_mae: 1.7062 - val_mse: 7.0920\n",
            "Epoch 13/300\n",
            "10/10 [==============================] - 0s 3ms/step - loss: 2.0023 - mae: 2.0023 - mse: 9.0150 - val_loss: 1.6853 - val_mae: 1.6853 - val_mse: 7.0580\n",
            "Epoch 14/300\n",
            "10/10 [==============================] - 0s 3ms/step - loss: 1.9863 - mae: 1.9863 - mse: 9.0062 - val_loss: 1.6684 - val_mae: 1.6684 - val_mse: 7.0358\n",
            "Epoch 15/300\n",
            "10/10 [==============================] - 0s 4ms/step - loss: 1.9708 - mae: 1.9708 - mse: 9.0008 - val_loss: 1.6534 - val_mae: 1.6534 - val_mse: 7.0260\n",
            "Epoch 16/300\n",
            "10/10 [==============================] - 0s 3ms/step - loss: 1.9563 - mae: 1.9563 - mse: 8.9980 - val_loss: 1.6451 - val_mae: 1.6451 - val_mse: 7.0250\n",
            "Epoch 17/300\n",
            "10/10 [==============================] - 0s 4ms/step - loss: 1.9489 - mae: 1.9489 - mse: 9.0013 - val_loss: 1.6407 - val_mae: 1.6407 - val_mse: 7.0292\n",
            "Epoch 18/300\n",
            "10/10 [==============================] - 0s 3ms/step - loss: 1.9446 - mae: 1.9446 - mse: 9.0194 - val_loss: 1.6363 - val_mae: 1.6363 - val_mse: 7.0376\n",
            "Epoch 19/300\n",
            "10/10 [==============================] - 0s 3ms/step - loss: 1.9381 - mae: 1.9381 - mse: 9.0208 - val_loss: 1.6359 - val_mae: 1.6359 - val_mse: 7.0450\n",
            "Epoch 20/300\n",
            "10/10 [==============================] - 0s 3ms/step - loss: 1.9373 - mae: 1.9373 - mse: 9.0371 - val_loss: 1.6376 - val_mae: 1.6376 - val_mse: 7.0583\n",
            "Epoch 21/300\n",
            "10/10 [==============================] - 0s 3ms/step - loss: 1.9334 - mae: 1.9334 - mse: 9.0498 - val_loss: 1.6392 - val_mae: 1.6392 - val_mse: 7.0672\n",
            "Epoch 22/300\n",
            "10/10 [==============================] - 0s 3ms/step - loss: 1.9323 - mae: 1.9323 - mse: 9.0568 - val_loss: 1.6406 - val_mae: 1.6406 - val_mse: 7.0723\n",
            "Epoch 23/300\n",
            "10/10 [==============================] - 0s 3ms/step - loss: 1.9320 - mae: 1.9320 - mse: 9.0640 - val_loss: 1.6419 - val_mae: 1.6419 - val_mse: 7.0771\n",
            "Epoch 24/300\n",
            "10/10 [==============================] - 0s 3ms/step - loss: 1.9315 - mae: 1.9315 - mse: 9.0700 - val_loss: 1.6430 - val_mae: 1.6430 - val_mse: 7.0810\n",
            "Epoch 25/300\n",
            "10/10 [==============================] - 0s 4ms/step - loss: 1.9312 - mae: 1.9312 - mse: 9.0729 - val_loss: 1.6443 - val_mae: 1.6443 - val_mse: 7.0864\n",
            "Epoch 26/300\n",
            "10/10 [==============================] - 0s 3ms/step - loss: 1.9313 - mae: 1.9313 - mse: 9.0786 - val_loss: 1.6453 - val_mae: 1.6453 - val_mse: 7.0895\n",
            "Epoch 27/300\n",
            "10/10 [==============================] - 0s 3ms/step - loss: 1.9306 - mae: 1.9306 - mse: 9.0827 - val_loss: 1.6466 - val_mae: 1.6466 - val_mse: 7.0934\n",
            "Epoch 28/300\n",
            "10/10 [==============================] - 0s 4ms/step - loss: 1.9303 - mae: 1.9303 - mse: 9.0858 - val_loss: 1.6472 - val_mae: 1.6472 - val_mse: 7.0949\n",
            "Epoch 29/300\n",
            "10/10 [==============================] - 0s 4ms/step - loss: 1.9302 - mae: 1.9302 - mse: 9.0883 - val_loss: 1.6481 - val_mae: 1.6481 - val_mse: 7.0979\n",
            "Epoch 30/300\n",
            "10/10 [==============================] - 0s 4ms/step - loss: 1.9299 - mae: 1.9299 - mse: 9.0913 - val_loss: 1.6494 - val_mae: 1.6494 - val_mse: 7.1020\n",
            "Epoch 31/300\n",
            "10/10 [==============================] - 0s 4ms/step - loss: 1.9298 - mae: 1.9298 - mse: 9.0961 - val_loss: 1.6507 - val_mae: 1.6507 - val_mse: 7.1069\n",
            "Epoch 32/300\n",
            "10/10 [==============================] - 0s 4ms/step - loss: 1.9295 - mae: 1.9295 - mse: 9.0996 - val_loss: 1.6512 - val_mae: 1.6512 - val_mse: 7.1084\n",
            "Epoch 33/300\n",
            "10/10 [==============================] - 0s 3ms/step - loss: 1.9293 - mae: 1.9293 - mse: 9.1049 - val_loss: 1.6529 - val_mae: 1.6529 - val_mse: 7.1149\n",
            "Epoch 34/300\n",
            "10/10 [==============================] - 0s 4ms/step - loss: 1.9290 - mae: 1.9290 - mse: 9.1078 - val_loss: 1.6534 - val_mae: 1.6534 - val_mse: 7.1164\n",
            "Epoch 35/300\n",
            "10/10 [==============================] - 0s 3ms/step - loss: 1.9288 - mae: 1.9288 - mse: 9.1105 - val_loss: 1.6544 - val_mae: 1.6544 - val_mse: 7.1200\n",
            "Epoch 36/300\n",
            "10/10 [==============================] - 0s 3ms/step - loss: 1.9285 - mae: 1.9285 - mse: 9.1161 - val_loss: 1.6557 - val_mae: 1.6557 - val_mse: 7.1255\n",
            "Epoch 37/300\n",
            "10/10 [==============================] - 0s 5ms/step - loss: 1.9284 - mae: 1.9284 - mse: 9.1234 - val_loss: 1.6572 - val_mae: 1.6572 - val_mse: 7.1317\n",
            "Epoch 38/300\n",
            "10/10 [==============================] - 0s 4ms/step - loss: 1.9287 - mae: 1.9287 - mse: 9.1341 - val_loss: 1.6594 - val_mae: 1.6594 - val_mse: 7.1421\n",
            "Epoch 39/300\n",
            "10/10 [==============================] - 0s 4ms/step - loss: 1.9277 - mae: 1.9277 - mse: 9.1372 - val_loss: 1.6596 - val_mae: 1.6596 - val_mse: 7.1422\n",
            "Epoch 40/300\n",
            "10/10 [==============================] - 0s 6ms/step - loss: 1.9275 - mae: 1.9275 - mse: 9.1390 - val_loss: 1.6608 - val_mae: 1.6608 - val_mse: 7.1477\n",
            "Epoch 41/300\n",
            "10/10 [==============================] - 0s 4ms/step - loss: 1.9273 - mae: 1.9273 - mse: 9.1432 - val_loss: 1.6612 - val_mae: 1.6612 - val_mse: 7.1491\n",
            "Epoch 42/300\n",
            "10/10 [==============================] - 0s 4ms/step - loss: 1.9272 - mae: 1.9272 - mse: 9.1423 - val_loss: 1.6612 - val_mae: 1.6612 - val_mse: 7.1483\n",
            "Epoch 43/300\n",
            "10/10 [==============================] - 0s 3ms/step - loss: 1.9274 - mae: 1.9274 - mse: 9.1407 - val_loss: 1.6602 - val_mae: 1.6602 - val_mse: 7.1426\n",
            "Epoch 44/300\n",
            "10/10 [==============================] - 0s 4ms/step - loss: 1.9269 - mae: 1.9269 - mse: 9.1388 - val_loss: 1.6614 - val_mae: 1.6614 - val_mse: 7.1475\n",
            "Epoch 45/300\n",
            "10/10 [==============================] - 0s 4ms/step - loss: 1.9270 - mae: 1.9270 - mse: 9.1423 - val_loss: 1.6611 - val_mae: 1.6611 - val_mse: 7.1453\n",
            "Epoch 46/300\n",
            "10/10 [==============================] - 0s 3ms/step - loss: 1.9270 - mae: 1.9270 - mse: 9.1362 - val_loss: 1.6595 - val_mae: 1.6595 - val_mse: 7.1362\n",
            "Epoch 47/300\n",
            "10/10 [==============================] - 0s 4ms/step - loss: 1.9269 - mae: 1.9269 - mse: 9.1308 - val_loss: 1.6598 - val_mae: 1.6598 - val_mse: 7.1373\n",
            "Epoch 48/300\n",
            "10/10 [==============================] - 0s 4ms/step - loss: 1.9267 - mae: 1.9267 - mse: 9.1321 - val_loss: 1.6605 - val_mae: 1.6605 - val_mse: 7.1401\n",
            "Epoch 49/300\n",
            "10/10 [==============================] - 0s 3ms/step - loss: 1.9266 - mae: 1.9266 - mse: 9.1347 - val_loss: 1.6608 - val_mae: 1.6608 - val_mse: 7.1403\n",
            "Epoch 50/300\n",
            "10/10 [==============================] - 0s 4ms/step - loss: 1.9266 - mae: 1.9266 - mse: 9.1381 - val_loss: 1.6609 - val_mae: 1.6609 - val_mse: 7.1399\n",
            "Epoch 51/300\n",
            "10/10 [==============================] - 0s 3ms/step - loss: 1.9262 - mae: 1.9262 - mse: 9.1326 - val_loss: 1.6594 - val_mae: 1.6594 - val_mse: 7.1319\n",
            "Epoch 52/300\n",
            "10/10 [==============================] - 0s 3ms/step - loss: 1.9264 - mae: 1.9264 - mse: 9.1256 - val_loss: 1.6586 - val_mae: 1.6586 - val_mse: 7.1270\n",
            "Epoch 53/300\n",
            "10/10 [==============================] - 0s 3ms/step - loss: 1.9263 - mae: 1.9263 - mse: 9.1295 - val_loss: 1.6600 - val_mae: 1.6600 - val_mse: 7.1334\n",
            "Epoch 54/300\n",
            "10/10 [==============================] - 0s 4ms/step - loss: 1.9260 - mae: 1.9260 - mse: 9.1284 - val_loss: 1.6599 - val_mae: 1.6599 - val_mse: 7.1319\n",
            "Epoch 55/300\n",
            "10/10 [==============================] - 0s 3ms/step - loss: 1.9258 - mae: 1.9258 - mse: 9.1275 - val_loss: 1.6591 - val_mae: 1.6591 - val_mse: 7.1268\n",
            "Epoch 56/300\n",
            "10/10 [==============================] - 0s 4ms/step - loss: 1.9258 - mae: 1.9258 - mse: 9.1243 - val_loss: 1.6596 - val_mae: 1.6596 - val_mse: 7.1286\n",
            "Epoch 57/300\n",
            "10/10 [==============================] - 0s 4ms/step - loss: 1.9256 - mae: 1.9256 - mse: 9.1241 - val_loss: 1.6596 - val_mae: 1.6596 - val_mse: 7.1280\n",
            "Epoch 58/300\n",
            "10/10 [==============================] - 0s 4ms/step - loss: 1.9258 - mae: 1.9258 - mse: 9.1287 - val_loss: 1.6604 - val_mae: 1.6604 - val_mse: 7.1304\n",
            "Epoch 59/300\n",
            "10/10 [==============================] - 0s 4ms/step - loss: 1.9256 - mae: 1.9256 - mse: 9.1227 - val_loss: 1.6590 - val_mae: 1.6590 - val_mse: 7.1230\n",
            "Epoch 60/300\n",
            "10/10 [==============================] - 0s 5ms/step - loss: 1.9254 - mae: 1.9254 - mse: 9.1216 - val_loss: 1.6598 - val_mae: 1.6598 - val_mse: 7.1260\n",
            "Epoch 61/300\n",
            "10/10 [==============================] - 0s 4ms/step - loss: 1.9251 - mae: 1.9251 - mse: 9.1173 - val_loss: 1.6580 - val_mae: 1.6580 - val_mse: 7.1160\n",
            "Epoch 62/300\n",
            "10/10 [==============================] - 0s 3ms/step - loss: 1.9252 - mae: 1.9252 - mse: 9.1138 - val_loss: 1.6580 - val_mae: 1.6580 - val_mse: 7.1154\n",
            "Epoch 63/300\n",
            "10/10 [==============================] - 0s 3ms/step - loss: 1.9251 - mae: 1.9251 - mse: 9.1127 - val_loss: 1.6583 - val_mae: 1.6583 - val_mse: 7.1157\n",
            "Epoch 64/300\n",
            "10/10 [==============================] - 0s 3ms/step - loss: 1.9250 - mae: 1.9250 - mse: 9.1173 - val_loss: 1.6595 - val_mae: 1.6595 - val_mse: 7.1210\n",
            "Epoch 65/300\n",
            "10/10 [==============================] - 0s 4ms/step - loss: 1.9253 - mae: 1.9253 - mse: 9.1107 - val_loss: 1.6571 - val_mae: 1.6571 - val_mse: 7.1076\n",
            "Epoch 66/300\n",
            "10/10 [==============================] - 0s 5ms/step - loss: 1.9249 - mae: 1.9249 - mse: 9.1122 - val_loss: 1.6592 - val_mae: 1.6592 - val_mse: 7.1177\n",
            "Epoch 67/300\n",
            "10/10 [==============================] - 0s 3ms/step - loss: 1.9252 - mae: 1.9252 - mse: 9.1176 - val_loss: 1.6581 - val_mae: 1.6581 - val_mse: 7.1112\n",
            "Epoch 68/300\n",
            "10/10 [==============================] - 0s 4ms/step - loss: 1.9247 - mae: 1.9247 - mse: 9.1065 - val_loss: 1.6577 - val_mae: 1.6577 - val_mse: 7.1082\n",
            "Epoch 69/300\n",
            "10/10 [==============================] - 0s 4ms/step - loss: 1.9243 - mae: 1.9243 - mse: 9.1081 - val_loss: 1.6584 - val_mae: 1.6584 - val_mse: 7.1109\n",
            "Epoch 70/300\n",
            "10/10 [==============================] - 0s 4ms/step - loss: 1.9243 - mae: 1.9243 - mse: 9.1125 - val_loss: 1.6588 - val_mae: 1.6588 - val_mse: 7.1116\n",
            "Epoch 71/300\n",
            "10/10 [==============================] - 0s 4ms/step - loss: 1.9240 - mae: 1.9240 - mse: 9.1077 - val_loss: 1.6579 - val_mae: 1.6579 - val_mse: 7.1068\n",
            "Epoch 72/300\n",
            "10/10 [==============================] - 0s 4ms/step - loss: 1.9243 - mae: 1.9243 - mse: 9.1066 - val_loss: 1.6587 - val_mae: 1.6587 - val_mse: 7.1095\n",
            "Epoch 73/300\n",
            "10/10 [==============================] - 0s 4ms/step - loss: 1.9238 - mae: 1.9238 - mse: 9.1065 - val_loss: 1.6576 - val_mae: 1.6576 - val_mse: 7.1030\n",
            "Epoch 74/300\n",
            "10/10 [==============================] - 0s 4ms/step - loss: 1.9238 - mae: 1.9238 - mse: 9.1009 - val_loss: 1.6571 - val_mae: 1.6571 - val_mse: 7.1000\n",
            "Epoch 75/300\n",
            "10/10 [==============================] - 0s 4ms/step - loss: 1.9237 - mae: 1.9237 - mse: 9.1020 - val_loss: 1.6582 - val_mae: 1.6582 - val_mse: 7.1042\n",
            "Epoch 76/300\n",
            "10/10 [==============================] - 0s 4ms/step - loss: 1.9235 - mae: 1.9235 - mse: 9.1013 - val_loss: 1.6578 - val_mae: 1.6578 - val_mse: 7.1016\n",
            "Epoch 77/300\n",
            "10/10 [==============================] - 0s 3ms/step - loss: 1.9235 - mae: 1.9235 - mse: 9.0954 - val_loss: 1.6566 - val_mae: 1.6566 - val_mse: 7.0942\n",
            "Epoch 78/300\n",
            "10/10 [==============================] - 0s 4ms/step - loss: 1.9233 - mae: 1.9233 - mse: 9.0967 - val_loss: 1.6576 - val_mae: 1.6576 - val_mse: 7.0984\n",
            "Epoch 79/300\n",
            "10/10 [==============================] - 0s 3ms/step - loss: 1.9230 - mae: 1.9230 - mse: 9.0975 - val_loss: 1.6574 - val_mae: 1.6574 - val_mse: 7.0965\n",
            "Epoch 80/300\n",
            "10/10 [==============================] - 0s 4ms/step - loss: 1.9231 - mae: 1.9231 - mse: 9.0943 - val_loss: 1.6569 - val_mae: 1.6569 - val_mse: 7.0931\n",
            "Epoch 81/300\n",
            "10/10 [==============================] - 0s 3ms/step - loss: 1.9228 - mae: 1.9228 - mse: 9.0946 - val_loss: 1.6570 - val_mae: 1.6570 - val_mse: 7.0925\n",
            "Epoch 82/300\n",
            "10/10 [==============================] - 0s 3ms/step - loss: 1.9228 - mae: 1.9228 - mse: 9.0911 - val_loss: 1.6564 - val_mae: 1.6564 - val_mse: 7.0887\n",
            "Epoch 83/300\n",
            "10/10 [==============================] - 0s 4ms/step - loss: 1.9228 - mae: 1.9228 - mse: 9.0878 - val_loss: 1.6566 - val_mae: 1.6566 - val_mse: 7.0888\n",
            "Epoch 84/300\n",
            "10/10 [==============================] - 0s 5ms/step - loss: 1.9227 - mae: 1.9227 - mse: 9.0944 - val_loss: 1.6579 - val_mae: 1.6579 - val_mse: 7.0939\n",
            "Epoch 85/300\n",
            "10/10 [==============================] - 0s 3ms/step - loss: 1.9225 - mae: 1.9225 - mse: 9.0881 - val_loss: 1.6554 - val_mae: 1.6554 - val_mse: 7.0808\n",
            "Epoch 86/300\n",
            "10/10 [==============================] - 0s 4ms/step - loss: 1.9226 - mae: 1.9226 - mse: 9.0773 - val_loss: 1.6547 - val_mae: 1.6547 - val_mse: 7.0762\n",
            "Epoch 87/300\n",
            "10/10 [==============================] - 0s 3ms/step - loss: 1.9225 - mae: 1.9225 - mse: 9.0828 - val_loss: 1.6564 - val_mae: 1.6564 - val_mse: 7.0839\n",
            "Epoch 88/300\n",
            "10/10 [==============================] - 0s 5ms/step - loss: 1.9224 - mae: 1.9224 - mse: 9.0846 - val_loss: 1.6557 - val_mae: 1.6557 - val_mse: 7.0795\n",
            "Epoch 89/300\n",
            "10/10 [==============================] - 0s 3ms/step - loss: 1.9222 - mae: 1.9222 - mse: 9.0888 - val_loss: 1.6586 - val_mae: 1.6586 - val_mse: 7.0923\n",
            "Epoch 90/300\n",
            "10/10 [==============================] - 0s 4ms/step - loss: 1.9221 - mae: 1.9221 - mse: 9.0889 - val_loss: 1.6570 - val_mae: 1.6570 - val_mse: 7.0841\n",
            "Epoch 91/300\n",
            "10/10 [==============================] - 0s 3ms/step - loss: 1.9215 - mae: 1.9215 - mse: 9.0808 - val_loss: 1.6551 - val_mae: 1.6551 - val_mse: 7.0732\n",
            "Epoch 92/300\n",
            "10/10 [==============================] - 0s 4ms/step - loss: 1.9219 - mae: 1.9219 - mse: 9.0708 - val_loss: 1.6535 - val_mae: 1.6535 - val_mse: 7.0642\n",
            "Epoch 93/300\n",
            "10/10 [==============================] - 0s 4ms/step - loss: 1.9217 - mae: 1.9217 - mse: 9.0668 - val_loss: 1.6543 - val_mae: 1.6543 - val_mse: 7.0671\n",
            "Epoch 94/300\n",
            "10/10 [==============================] - 0s 4ms/step - loss: 1.9224 - mae: 1.9224 - mse: 9.0828 - val_loss: 1.6579 - val_mae: 1.6579 - val_mse: 7.0842\n",
            "Epoch 95/300\n",
            "10/10 [==============================] - 0s 3ms/step - loss: 1.9217 - mae: 1.9217 - mse: 9.0812 - val_loss: 1.6543 - val_mae: 1.6543 - val_mse: 7.0656\n",
            "Epoch 96/300\n",
            "10/10 [==============================] - 0s 4ms/step - loss: 1.9211 - mae: 1.9211 - mse: 9.0693 - val_loss: 1.6552 - val_mae: 1.6552 - val_mse: 7.0690\n",
            "Epoch 97/300\n",
            "10/10 [==============================] - 0s 3ms/step - loss: 1.9209 - mae: 1.9209 - mse: 9.0730 - val_loss: 1.6560 - val_mae: 1.6560 - val_mse: 7.0721\n",
            "Epoch 98/300\n",
            "10/10 [==============================] - 0s 4ms/step - loss: 1.9208 - mae: 1.9208 - mse: 9.0723 - val_loss: 1.6548 - val_mae: 1.6548 - val_mse: 7.0651\n",
            "Epoch 99/300\n",
            "10/10 [==============================] - 0s 4ms/step - loss: 1.9208 - mae: 1.9208 - mse: 9.0685 - val_loss: 1.6551 - val_mae: 1.6551 - val_mse: 7.0656\n",
            "Epoch 100/300\n",
            "10/10 [==============================] - 0s 4ms/step - loss: 1.9205 - mae: 1.9205 - mse: 9.0706 - val_loss: 1.6549 - val_mae: 1.6549 - val_mse: 7.0640\n",
            "Epoch 101/300\n",
            "10/10 [==============================] - 0s 3ms/step - loss: 1.9204 - mae: 1.9204 - mse: 9.0669 - val_loss: 1.6547 - val_mae: 1.6547 - val_mse: 7.0622\n",
            "Epoch 102/300\n",
            "10/10 [==============================] - 0s 4ms/step - loss: 1.9205 - mae: 1.9205 - mse: 9.0609 - val_loss: 1.6538 - val_mae: 1.6538 - val_mse: 7.0565\n",
            "Epoch 103/300\n",
            "10/10 [==============================] - 0s 4ms/step - loss: 1.9208 - mae: 1.9208 - mse: 9.0694 - val_loss: 1.6568 - val_mae: 1.6568 - val_mse: 7.0697\n",
            "Epoch 104/300\n",
            "10/10 [==============================] - 0s 4ms/step - loss: 1.9203 - mae: 1.9203 - mse: 9.0707 - val_loss: 1.6551 - val_mae: 1.6551 - val_mse: 7.0610\n",
            "Epoch 105/300\n",
            "10/10 [==============================] - 0s 4ms/step - loss: 1.9206 - mae: 1.9206 - mse: 9.0576 - val_loss: 1.6514 - val_mae: 1.6514 - val_mse: 7.0414\n",
            "Epoch 106/300\n",
            "10/10 [==============================] - 0s 3ms/step - loss: 1.9202 - mae: 1.9202 - mse: 9.0522 - val_loss: 1.6533 - val_mae: 1.6533 - val_mse: 7.0498\n",
            "Epoch 107/300\n",
            "10/10 [==============================] - 0s 6ms/step - loss: 1.9198 - mae: 1.9198 - mse: 9.0587 - val_loss: 1.6544 - val_mae: 1.6544 - val_mse: 7.0548\n",
            "Epoch 108/300\n",
            "10/10 [==============================] - 0s 3ms/step - loss: 1.9195 - mae: 1.9195 - mse: 9.0560 - val_loss: 1.6535 - val_mae: 1.6535 - val_mse: 7.0491\n",
            "Epoch 109/300\n",
            "10/10 [==============================] - 0s 4ms/step - loss: 1.9195 - mae: 1.9195 - mse: 9.0511 - val_loss: 1.6536 - val_mae: 1.6536 - val_mse: 7.0487\n",
            "Epoch 110/300\n",
            "10/10 [==============================] - 0s 4ms/step - loss: 1.9193 - mae: 1.9193 - mse: 9.0563 - val_loss: 1.6540 - val_mae: 1.6540 - val_mse: 7.0496\n",
            "Epoch 111/300\n",
            "10/10 [==============================] - 0s 4ms/step - loss: 1.9195 - mae: 1.9195 - mse: 9.0589 - val_loss: 1.6532 - val_mae: 1.6532 - val_mse: 7.0446\n",
            "Epoch 112/300\n",
            "10/10 [==============================] - 0s 4ms/step - loss: 1.9191 - mae: 1.9191 - mse: 9.0450 - val_loss: 1.6522 - val_mae: 1.6522 - val_mse: 7.0383\n",
            "Epoch 113/300\n",
            "10/10 [==============================] - 0s 4ms/step - loss: 1.9197 - mae: 1.9197 - mse: 9.0381 - val_loss: 1.6503 - val_mae: 1.6503 - val_mse: 7.0277\n",
            "Epoch 114/300\n",
            "10/10 [==============================] - 0s 3ms/step - loss: 1.9193 - mae: 1.9193 - mse: 9.0432 - val_loss: 1.6539 - val_mae: 1.6539 - val_mse: 7.0451\n",
            "Epoch 115/300\n",
            "10/10 [==============================] - 0s 3ms/step - loss: 1.9186 - mae: 1.9186 - mse: 9.0499 - val_loss: 1.6532 - val_mae: 1.6532 - val_mse: 7.0408\n",
            "Epoch 116/300\n",
            "10/10 [==============================] - 0s 4ms/step - loss: 1.9184 - mae: 1.9184 - mse: 9.0462 - val_loss: 1.6533 - val_mae: 1.6533 - val_mse: 7.0403\n",
            "Epoch 117/300\n",
            "10/10 [==============================] - 0s 4ms/step - loss: 1.9188 - mae: 1.9188 - mse: 9.0507 - val_loss: 1.6550 - val_mae: 1.6550 - val_mse: 7.0468\n",
            "Epoch 118/300\n",
            "10/10 [==============================] - 0s 4ms/step - loss: 1.9186 - mae: 1.9186 - mse: 9.0473 - val_loss: 1.6532 - val_mae: 1.6532 - val_mse: 7.0377\n",
            "Epoch 119/300\n",
            "10/10 [==============================] - 0s 5ms/step - loss: 1.9180 - mae: 1.9180 - mse: 9.0417 - val_loss: 1.6522 - val_mae: 1.6522 - val_mse: 7.0314\n",
            "Epoch 120/300\n",
            "10/10 [==============================] - 0s 4ms/step - loss: 1.9179 - mae: 1.9179 - mse: 9.0372 - val_loss: 1.6529 - val_mae: 1.6529 - val_mse: 7.0342\n",
            "Epoch 121/300\n",
            "10/10 [==============================] - 0s 4ms/step - loss: 1.9179 - mae: 1.9179 - mse: 9.0427 - val_loss: 1.6524 - val_mae: 1.6524 - val_mse: 7.0307\n",
            "Epoch 122/300\n",
            "10/10 [==============================] - 0s 3ms/step - loss: 1.9176 - mae: 1.9176 - mse: 9.0368 - val_loss: 1.6528 - val_mae: 1.6528 - val_mse: 7.0318\n",
            "Epoch 123/300\n",
            "10/10 [==============================] - 0s 4ms/step - loss: 1.9176 - mae: 1.9176 - mse: 9.0350 - val_loss: 1.6521 - val_mae: 1.6521 - val_mse: 7.0271\n",
            "Epoch 124/300\n",
            "10/10 [==============================] - 0s 4ms/step - loss: 1.9175 - mae: 1.9175 - mse: 9.0335 - val_loss: 1.6529 - val_mae: 1.6529 - val_mse: 7.0299\n",
            "Epoch 125/300\n",
            "10/10 [==============================] - 0s 3ms/step - loss: 1.9176 - mae: 1.9176 - mse: 9.0418 - val_loss: 1.6540 - val_mae: 1.6540 - val_mse: 7.0342\n",
            "Epoch 126/300\n",
            "10/10 [==============================] - 0s 4ms/step - loss: 1.9173 - mae: 1.9173 - mse: 9.0347 - val_loss: 1.6510 - val_mae: 1.6510 - val_mse: 7.0184\n",
            "Epoch 127/300\n",
            "10/10 [==============================] - 0s 4ms/step - loss: 1.9173 - mae: 1.9173 - mse: 9.0225 - val_loss: 1.6497 - val_mae: 1.6497 - val_mse: 7.0105\n",
            "Epoch 128/300\n",
            "10/10 [==============================] - 0s 4ms/step - loss: 1.9170 - mae: 1.9170 - mse: 9.0204 - val_loss: 1.6513 - val_mae: 1.6513 - val_mse: 7.0183\n",
            "Epoch 129/300\n",
            "10/10 [==============================] - 0s 3ms/step - loss: 1.9167 - mae: 1.9167 - mse: 9.0288 - val_loss: 1.6533 - val_mae: 1.6533 - val_mse: 7.0267\n",
            "Epoch 130/300\n",
            "10/10 [==============================] - 0s 5ms/step - loss: 1.9169 - mae: 1.9169 - mse: 9.0335 - val_loss: 1.6519 - val_mae: 1.6519 - val_mse: 7.0194\n",
            "Epoch 131/300\n",
            "10/10 [==============================] - 0s 4ms/step - loss: 1.9167 - mae: 1.9167 - mse: 9.0219 - val_loss: 1.6507 - val_mae: 1.6507 - val_mse: 7.0121\n",
            "Epoch 132/300\n",
            "10/10 [==============================] - 0s 4ms/step - loss: 1.9165 - mae: 1.9165 - mse: 9.0262 - val_loss: 1.6531 - val_mae: 1.6531 - val_mse: 7.0226\n",
            "Epoch 133/300\n",
            "10/10 [==============================] - 0s 4ms/step - loss: 1.9164 - mae: 1.9164 - mse: 9.0281 - val_loss: 1.6508 - val_mae: 1.6508 - val_mse: 7.0107\n",
            "Epoch 134/300\n",
            "10/10 [==============================] - 0s 4ms/step - loss: 1.9170 - mae: 1.9170 - mse: 9.0128 - val_loss: 1.6485 - val_mae: 1.6485 - val_mse: 6.9978\n",
            "Epoch 135/300\n",
            "10/10 [==============================] - 0s 4ms/step - loss: 1.9162 - mae: 1.9162 - mse: 9.0170 - val_loss: 1.6515 - val_mae: 1.6515 - val_mse: 7.0123\n",
            "Epoch 136/300\n",
            "10/10 [==============================] - 0s 4ms/step - loss: 1.9159 - mae: 1.9159 - mse: 9.0202 - val_loss: 1.6510 - val_mae: 1.6510 - val_mse: 7.0088\n",
            "Epoch 137/300\n",
            "10/10 [==============================] - 0s 4ms/step - loss: 1.9156 - mae: 1.9156 - mse: 9.0153 - val_loss: 1.6506 - val_mae: 1.6506 - val_mse: 7.0060\n",
            "Epoch 138/300\n",
            "10/10 [==============================] - 0s 3ms/step - loss: 1.9155 - mae: 1.9155 - mse: 9.0165 - val_loss: 1.6513 - val_mae: 1.6513 - val_mse: 7.0083\n",
            "Epoch 139/300\n",
            "10/10 [==============================] - 0s 4ms/step - loss: 1.9153 - mae: 1.9153 - mse: 9.0142 - val_loss: 1.6497 - val_mae: 1.6497 - val_mse: 6.9990\n",
            "Epoch 140/300\n",
            "10/10 [==============================] - 0s 4ms/step - loss: 1.9153 - mae: 1.9153 - mse: 9.0081 - val_loss: 1.6497 - val_mae: 1.6497 - val_mse: 6.9981\n",
            "Epoch 141/300\n",
            "10/10 [==============================] - 0s 4ms/step - loss: 1.9152 - mae: 1.9152 - mse: 9.0067 - val_loss: 1.6500 - val_mae: 1.6500 - val_mse: 6.9985\n",
            "Epoch 142/300\n",
            "10/10 [==============================] - 0s 4ms/step - loss: 1.9149 - mae: 1.9149 - mse: 9.0115 - val_loss: 1.6512 - val_mae: 1.6512 - val_mse: 7.0035\n",
            "Epoch 143/300\n",
            "10/10 [==============================] - 0s 4ms/step - loss: 1.9150 - mae: 1.9150 - mse: 9.0117 - val_loss: 1.6504 - val_mae: 1.6504 - val_mse: 6.9985\n",
            "Epoch 144/300\n",
            "10/10 [==============================] - 0s 5ms/step - loss: 1.9148 - mae: 1.9148 - mse: 9.0055 - val_loss: 1.6492 - val_mae: 1.6492 - val_mse: 6.9916\n",
            "Epoch 145/300\n",
            "10/10 [==============================] - 0s 6ms/step - loss: 1.9147 - mae: 1.9147 - mse: 8.9996 - val_loss: 1.6493 - val_mae: 1.6493 - val_mse: 6.9908\n",
            "Epoch 146/300\n",
            "10/10 [==============================] - 0s 3ms/step - loss: 1.9150 - mae: 1.9150 - mse: 9.0112 - val_loss: 1.6519 - val_mae: 1.6519 - val_mse: 7.0018\n",
            "Epoch 147/300\n",
            "10/10 [==============================] - 0s 4ms/step - loss: 1.9145 - mae: 1.9145 - mse: 9.0050 - val_loss: 1.6495 - val_mae: 1.6495 - val_mse: 6.9899\n",
            "Epoch 148/300\n",
            "10/10 [==============================] - 0s 4ms/step - loss: 1.9144 - mae: 1.9144 - mse: 8.9997 - val_loss: 1.6488 - val_mae: 1.6488 - val_mse: 6.9855\n",
            "Epoch 149/300\n",
            "10/10 [==============================] - 0s 5ms/step - loss: 1.9140 - mae: 1.9140 - mse: 9.0026 - val_loss: 1.6503 - val_mae: 1.6503 - val_mse: 6.9920\n",
            "Epoch 150/300\n",
            "10/10 [==============================] - 0s 4ms/step - loss: 1.9140 - mae: 1.9140 - mse: 8.9978 - val_loss: 1.6486 - val_mae: 1.6486 - val_mse: 6.9826\n",
            "Epoch 151/300\n",
            "10/10 [==============================] - 0s 4ms/step - loss: 1.9137 - mae: 1.9137 - mse: 8.9972 - val_loss: 1.6497 - val_mae: 1.6497 - val_mse: 6.9871\n",
            "Epoch 152/300\n",
            "10/10 [==============================] - 0s 4ms/step - loss: 1.9134 - mae: 1.9134 - mse: 8.9970 - val_loss: 1.6491 - val_mae: 1.6491 - val_mse: 6.9833\n",
            "Epoch 153/300\n",
            "10/10 [==============================] - 0s 4ms/step - loss: 1.9134 - mae: 1.9134 - mse: 8.9915 - val_loss: 1.6486 - val_mae: 1.6486 - val_mse: 6.9794\n",
            "Epoch 154/300\n",
            "10/10 [==============================] - 0s 4ms/step - loss: 1.9138 - mae: 1.9138 - mse: 8.9953 - val_loss: 1.6510 - val_mae: 1.6510 - val_mse: 6.9883\n",
            "Epoch 155/300\n",
            "10/10 [==============================] - 0s 3ms/step - loss: 1.9136 - mae: 1.9136 - mse: 8.9950 - val_loss: 1.6471 - val_mae: 1.6471 - val_mse: 6.9700\n",
            "Epoch 156/300\n",
            "10/10 [==============================] - 0s 4ms/step - loss: 1.9136 - mae: 1.9136 - mse: 8.9868 - val_loss: 1.6489 - val_mae: 1.6489 - val_mse: 6.9780\n",
            "Epoch 157/300\n",
            "10/10 [==============================] - 0s 4ms/step - loss: 1.9133 - mae: 1.9133 - mse: 8.9857 - val_loss: 1.6479 - val_mae: 1.6479 - val_mse: 6.9721\n",
            "Epoch 158/300\n",
            "10/10 [==============================] - 0s 4ms/step - loss: 1.9127 - mae: 1.9127 - mse: 8.9889 - val_loss: 1.6502 - val_mae: 1.6502 - val_mse: 6.9808\n",
            "Epoch 159/300\n",
            "10/10 [==============================] - 0s 5ms/step - loss: 1.9129 - mae: 1.9129 - mse: 8.9904 - val_loss: 1.6487 - val_mae: 1.6487 - val_mse: 6.9737\n",
            "Epoch 160/300\n",
            "10/10 [==============================] - 0s 4ms/step - loss: 1.9129 - mae: 1.9129 - mse: 8.9805 - val_loss: 1.6474 - val_mae: 1.6474 - val_mse: 6.9671\n",
            "Epoch 161/300\n",
            "10/10 [==============================] - 0s 4ms/step - loss: 1.9125 - mae: 1.9125 - mse: 8.9841 - val_loss: 1.6483 - val_mae: 1.6483 - val_mse: 6.9699\n",
            "Epoch 162/300\n",
            "10/10 [==============================] - 0s 5ms/step - loss: 1.9127 - mae: 1.9127 - mse: 8.9819 - val_loss: 1.6488 - val_mae: 1.6488 - val_mse: 6.9709\n",
            "Epoch 163/300\n",
            "10/10 [==============================] - 0s 4ms/step - loss: 1.9123 - mae: 1.9123 - mse: 8.9824 - val_loss: 1.6478 - val_mae: 1.6478 - val_mse: 6.9656\n",
            "Epoch 164/300\n",
            "10/10 [==============================] - 0s 3ms/step - loss: 1.9126 - mae: 1.9126 - mse: 8.9833 - val_loss: 1.6479 - val_mae: 1.6479 - val_mse: 6.9649\n",
            "Epoch 165/300\n",
            "10/10 [==============================] - 0s 3ms/step - loss: 1.9123 - mae: 1.9123 - mse: 8.9759 - val_loss: 1.6475 - val_mae: 1.6475 - val_mse: 6.9621\n",
            "Epoch 166/300\n",
            "10/10 [==============================] - 0s 4ms/step - loss: 1.9120 - mae: 1.9120 - mse: 8.9777 - val_loss: 1.6492 - val_mae: 1.6492 - val_mse: 6.9676\n",
            "Epoch 167/300\n",
            "10/10 [==============================] - 0s 4ms/step - loss: 1.9121 - mae: 1.9121 - mse: 8.9828 - val_loss: 1.6490 - val_mae: 1.6490 - val_mse: 6.9660\n",
            "Epoch 168/300\n",
            "10/10 [==============================] - 0s 4ms/step - loss: 1.9120 - mae: 1.9120 - mse: 8.9740 - val_loss: 1.6473 - val_mae: 1.6473 - val_mse: 6.9578\n",
            "Epoch 169/300\n",
            "10/10 [==============================] - 0s 6ms/step - loss: 1.9119 - mae: 1.9119 - mse: 8.9752 - val_loss: 1.6482 - val_mae: 1.6482 - val_mse: 6.9603\n",
            "Epoch 170/300\n",
            "10/10 [==============================] - 0s 3ms/step - loss: 1.9117 - mae: 1.9117 - mse: 8.9728 - val_loss: 1.6475 - val_mae: 1.6475 - val_mse: 6.9562\n",
            "Epoch 171/300\n",
            "10/10 [==============================] - 0s 4ms/step - loss: 1.9116 - mae: 1.9116 - mse: 8.9739 - val_loss: 1.6484 - val_mae: 1.6484 - val_mse: 6.9587\n",
            "Epoch 172/300\n",
            "10/10 [==============================] - 0s 4ms/step - loss: 1.9113 - mae: 1.9113 - mse: 8.9708 - val_loss: 1.6478 - val_mae: 1.6478 - val_mse: 6.9554\n",
            "Epoch 173/300\n",
            "10/10 [==============================] - 0s 4ms/step - loss: 1.9112 - mae: 1.9112 - mse: 8.9708 - val_loss: 1.6472 - val_mae: 1.6472 - val_mse: 6.9517\n",
            "Epoch 174/300\n",
            "10/10 [==============================] - 0s 4ms/step - loss: 1.9112 - mae: 1.9112 - mse: 8.9613 - val_loss: 1.6455 - val_mae: 1.6455 - val_mse: 6.9437\n",
            "Epoch 175/300\n",
            "10/10 [==============================] - 0s 4ms/step - loss: 1.9116 - mae: 1.9116 - mse: 8.9687 - val_loss: 1.6484 - val_mae: 1.6484 - val_mse: 6.9544\n",
            "Epoch 176/300\n",
            "10/10 [==============================] - 0s 7ms/step - loss: 1.9109 - mae: 1.9109 - mse: 8.9652 - val_loss: 1.6468 - val_mae: 1.6468 - val_mse: 6.9468\n",
            "Epoch 177/300\n",
            "10/10 [==============================] - 0s 5ms/step - loss: 1.9108 - mae: 1.9108 - mse: 8.9625 - val_loss: 1.6477 - val_mae: 1.6477 - val_mse: 6.9495\n",
            "Epoch 178/300\n",
            "10/10 [==============================] - 0s 4ms/step - loss: 1.9107 - mae: 1.9107 - mse: 8.9630 - val_loss: 1.6475 - val_mae: 1.6475 - val_mse: 6.9476\n",
            "Epoch 179/300\n",
            "10/10 [==============================] - 0s 4ms/step - loss: 1.9108 - mae: 1.9108 - mse: 8.9658 - val_loss: 1.6480 - val_mae: 1.6480 - val_mse: 6.9485\n",
            "Epoch 180/300\n",
            "10/10 [==============================] - 0s 4ms/step - loss: 1.9107 - mae: 1.9107 - mse: 8.9591 - val_loss: 1.6460 - val_mae: 1.6460 - val_mse: 6.9392\n",
            "Epoch 181/300\n",
            "10/10 [==============================] - 0s 4ms/step - loss: 1.9106 - mae: 1.9106 - mse: 8.9578 - val_loss: 1.6467 - val_mae: 1.6467 - val_mse: 6.9407\n",
            "Epoch 182/300\n",
            "10/10 [==============================] - 0s 4ms/step - loss: 1.9102 - mae: 1.9102 - mse: 8.9573 - val_loss: 1.6475 - val_mae: 1.6475 - val_mse: 6.9429\n",
            "Epoch 183/300\n",
            "10/10 [==============================] - 0s 4ms/step - loss: 1.9108 - mae: 1.9108 - mse: 8.9673 - val_loss: 1.6500 - val_mae: 1.6500 - val_mse: 6.9514\n",
            "Epoch 184/300\n",
            "10/10 [==============================] - 0s 4ms/step - loss: 1.9109 - mae: 1.9109 - mse: 8.9637 - val_loss: 1.6455 - val_mae: 1.6455 - val_mse: 6.9326\n",
            "Epoch 185/300\n",
            "10/10 [==============================] - 0s 4ms/step - loss: 1.9103 - mae: 1.9103 - mse: 8.9552 - val_loss: 1.6466 - val_mae: 1.6466 - val_mse: 6.9361\n",
            "Epoch 186/300\n",
            "10/10 [==============================] - 0s 4ms/step - loss: 1.9099 - mae: 1.9099 - mse: 8.9500 - val_loss: 1.6461 - val_mae: 1.6461 - val_mse: 6.9329\n",
            "Epoch 187/300\n",
            "10/10 [==============================] - 0s 4ms/step - loss: 1.9098 - mae: 1.9098 - mse: 8.9532 - val_loss: 1.6473 - val_mae: 1.6473 - val_mse: 6.9367\n",
            "Epoch 188/300\n",
            "10/10 [==============================] - 0s 4ms/step - loss: 1.9096 - mae: 1.9096 - mse: 8.9522 - val_loss: 1.6463 - val_mae: 1.6463 - val_mse: 6.9314\n",
            "Epoch 189/300\n",
            "10/10 [==============================] - 0s 3ms/step - loss: 1.9098 - mae: 1.9098 - mse: 8.9431 - val_loss: 1.6446 - val_mae: 1.6446 - val_mse: 6.9234\n",
            "Epoch 190/300\n",
            "10/10 [==============================] - 0s 4ms/step - loss: 1.9095 - mae: 1.9095 - mse: 8.9401 - val_loss: 1.6458 - val_mae: 1.6458 - val_mse: 6.9274\n",
            "Epoch 191/300\n",
            "10/10 [==============================] - 0s 4ms/step - loss: 1.9095 - mae: 1.9095 - mse: 8.9516 - val_loss: 1.6489 - val_mae: 1.6489 - val_mse: 6.9381\n",
            "Epoch 192/300\n",
            "10/10 [==============================] - 0s 3ms/step - loss: 1.9095 - mae: 1.9095 - mse: 8.9529 - val_loss: 1.6476 - val_mae: 1.6476 - val_mse: 6.9321\n",
            "Epoch 193/300\n",
            "10/10 [==============================] - 0s 3ms/step - loss: 1.9093 - mae: 1.9093 - mse: 8.9402 - val_loss: 1.6438 - val_mae: 1.6438 - val_mse: 6.9157\n",
            "Epoch 194/300\n",
            "10/10 [==============================] - 0s 3ms/step - loss: 1.9095 - mae: 1.9095 - mse: 8.9314 - val_loss: 1.6430 - val_mae: 1.6430 - val_mse: 6.9112\n",
            "Epoch 195/300\n",
            "10/10 [==============================] - 0s 4ms/step - loss: 1.9093 - mae: 1.9093 - mse: 8.9379 - val_loss: 1.6479 - val_mae: 1.6479 - val_mse: 6.9298\n",
            "Epoch 196/300\n",
            "10/10 [==============================] - 0s 4ms/step - loss: 1.9089 - mae: 1.9089 - mse: 8.9460 - val_loss: 1.6462 - val_mae: 1.6462 - val_mse: 6.9224\n",
            "Epoch 197/300\n",
            "10/10 [==============================] - 0s 4ms/step - loss: 1.9087 - mae: 1.9087 - mse: 8.9373 - val_loss: 1.6450 - val_mae: 1.6450 - val_mse: 6.9160\n",
            "Epoch 198/300\n",
            "10/10 [==============================] - 0s 4ms/step - loss: 1.9096 - mae: 1.9096 - mse: 8.9471 - val_loss: 1.6471 - val_mae: 1.6471 - val_mse: 6.9233\n",
            "Epoch 199/300\n",
            "10/10 [==============================] - 0s 5ms/step - loss: 1.9082 - mae: 1.9082 - mse: 8.9369 - val_loss: 1.6441 - val_mae: 1.6441 - val_mse: 6.9099\n",
            "Epoch 200/300\n",
            "10/10 [==============================] - 0s 4ms/step - loss: 1.9086 - mae: 1.9086 - mse: 8.9264 - val_loss: 1.6433 - val_mae: 1.6433 - val_mse: 6.9054\n",
            "Epoch 201/300\n",
            "10/10 [==============================] - 0s 4ms/step - loss: 1.9084 - mae: 1.9084 - mse: 8.9252 - val_loss: 1.6444 - val_mae: 1.6444 - val_mse: 6.9093\n",
            "Epoch 202/300\n",
            "10/10 [==============================] - 0s 4ms/step - loss: 1.9082 - mae: 1.9082 - mse: 8.9331 - val_loss: 1.6462 - val_mae: 1.6462 - val_mse: 6.9152\n",
            "Epoch 203/300\n",
            "10/10 [==============================] - 0s 4ms/step - loss: 1.9081 - mae: 1.9081 - mse: 8.9329 - val_loss: 1.6452 - val_mae: 1.6452 - val_mse: 6.9103\n",
            "Epoch 204/300\n",
            "10/10 [==============================] - 0s 4ms/step - loss: 1.9082 - mae: 1.9082 - mse: 8.9345 - val_loss: 1.6461 - val_mae: 1.6461 - val_mse: 6.9125\n",
            "Epoch 205/300\n",
            "10/10 [==============================] - 0s 4ms/step - loss: 1.9077 - mae: 1.9077 - mse: 8.9291 - val_loss: 1.6448 - val_mae: 1.6448 - val_mse: 6.9062\n",
            "Epoch 206/300\n",
            "10/10 [==============================] - 0s 5ms/step - loss: 1.9076 - mae: 1.9076 - mse: 8.9217 - val_loss: 1.6435 - val_mae: 1.6435 - val_mse: 6.8999\n",
            "Epoch 207/300\n",
            "10/10 [==============================] - 0s 4ms/step - loss: 1.9078 - mae: 1.9078 - mse: 8.9200 - val_loss: 1.6446 - val_mae: 1.6446 - val_mse: 6.9033\n",
            "Epoch 208/300\n",
            "10/10 [==============================] - 0s 4ms/step - loss: 1.9078 - mae: 1.9078 - mse: 8.9287 - val_loss: 1.6461 - val_mae: 1.6461 - val_mse: 6.9080\n",
            "Epoch 209/300\n",
            "10/10 [==============================] - 0s 6ms/step - loss: 1.9088 - mae: 1.9088 - mse: 8.9174 - val_loss: 1.6411 - val_mae: 1.6411 - val_mse: 6.8865\n",
            "Epoch 210/300\n",
            "10/10 [==============================] - 0s 5ms/step - loss: 1.9077 - mae: 1.9077 - mse: 8.9168 - val_loss: 1.6452 - val_mae: 1.6452 - val_mse: 6.9025\n",
            "Epoch 211/300\n",
            "10/10 [==============================] - 0s 4ms/step - loss: 1.9072 - mae: 1.9072 - mse: 8.9216 - val_loss: 1.6443 - val_mae: 1.6443 - val_mse: 6.8979\n",
            "Epoch 212/300\n",
            "10/10 [==============================] - 0s 5ms/step - loss: 1.9071 - mae: 1.9071 - mse: 8.9237 - val_loss: 1.6462 - val_mae: 1.6462 - val_mse: 6.9042\n",
            "Epoch 213/300\n",
            "10/10 [==============================] - 0s 4ms/step - loss: 1.9070 - mae: 1.9070 - mse: 8.9238 - val_loss: 1.6458 - val_mae: 1.6458 - val_mse: 6.9014\n",
            "Epoch 214/300\n",
            "10/10 [==============================] - 0s 3ms/step - loss: 1.9068 - mae: 1.9068 - mse: 8.9164 - val_loss: 1.6425 - val_mae: 1.6425 - val_mse: 6.8867\n",
            "Epoch 215/300\n",
            "10/10 [==============================] - 0s 4ms/step - loss: 1.9070 - mae: 1.9070 - mse: 8.9093 - val_loss: 1.6432 - val_mae: 1.6432 - val_mse: 6.8885\n",
            "Epoch 216/300\n",
            "10/10 [==============================] - 0s 4ms/step - loss: 1.9067 - mae: 1.9067 - mse: 8.9150 - val_loss: 1.6444 - val_mae: 1.6444 - val_mse: 6.8926\n",
            "Epoch 217/300\n",
            "10/10 [==============================] - 0s 4ms/step - loss: 1.9064 - mae: 1.9064 - mse: 8.9130 - val_loss: 1.6442 - val_mae: 1.6442 - val_mse: 6.8903\n",
            "Epoch 218/300\n",
            "10/10 [==============================] - 0s 4ms/step - loss: 1.9068 - mae: 1.9068 - mse: 8.9147 - val_loss: 1.6461 - val_mae: 1.6461 - val_mse: 6.8967\n",
            "Epoch 219/300\n",
            "10/10 [==============================] - 0s 5ms/step - loss: 1.9063 - mae: 1.9063 - mse: 8.9141 - val_loss: 1.6434 - val_mae: 1.6434 - val_mse: 6.8849\n",
            "Epoch 220/300\n",
            "10/10 [==============================] - 0s 4ms/step - loss: 1.9062 - mae: 1.9062 - mse: 8.9086 - val_loss: 1.6449 - val_mae: 1.6449 - val_mse: 6.8898\n",
            "Epoch 221/300\n",
            "10/10 [==============================] - 0s 4ms/step - loss: 1.9061 - mae: 1.9061 - mse: 8.9097 - val_loss: 1.6444 - val_mae: 1.6444 - val_mse: 6.8869\n",
            "Epoch 222/300\n",
            "10/10 [==============================] - 0s 4ms/step - loss: 1.9059 - mae: 1.9059 - mse: 8.9041 - val_loss: 1.6425 - val_mae: 1.6425 - val_mse: 6.8779\n",
            "Epoch 223/300\n",
            "10/10 [==============================] - 0s 4ms/step - loss: 1.9059 - mae: 1.9059 - mse: 8.9026 - val_loss: 1.6443 - val_mae: 1.6443 - val_mse: 6.8842\n",
            "Epoch 224/300\n",
            "10/10 [==============================] - 0s 4ms/step - loss: 1.9057 - mae: 1.9057 - mse: 8.9052 - val_loss: 1.6443 - val_mae: 1.6443 - val_mse: 6.8832\n",
            "Epoch 225/300\n",
            "10/10 [==============================] - 0s 4ms/step - loss: 1.9057 - mae: 1.9057 - mse: 8.9074 - val_loss: 1.6437 - val_mae: 1.6437 - val_mse: 6.8798\n",
            "Epoch 226/300\n",
            "10/10 [==============================] - 0s 4ms/step - loss: 1.9055 - mae: 1.9055 - mse: 8.8995 - val_loss: 1.6421 - val_mae: 1.6421 - val_mse: 6.8718\n",
            "Epoch 227/300\n",
            "10/10 [==============================] - 0s 5ms/step - loss: 1.9056 - mae: 1.9056 - mse: 8.8959 - val_loss: 1.6433 - val_mae: 1.6433 - val_mse: 6.8759\n",
            "Epoch 228/300\n",
            "10/10 [==============================] - 0s 4ms/step - loss: 1.9052 - mae: 1.9052 - mse: 8.8998 - val_loss: 1.6436 - val_mae: 1.6436 - val_mse: 6.8762\n",
            "Epoch 229/300\n",
            "10/10 [==============================] - 0s 4ms/step - loss: 1.9051 - mae: 1.9051 - mse: 8.8983 - val_loss: 1.6441 - val_mae: 1.6441 - val_mse: 6.8767\n",
            "Epoch 230/300\n",
            "10/10 [==============================] - 0s 4ms/step - loss: 1.9050 - mae: 1.9050 - mse: 8.8998 - val_loss: 1.6429 - val_mae: 1.6429 - val_mse: 6.8709\n",
            "Epoch 231/300\n",
            "10/10 [==============================] - 0s 4ms/step - loss: 1.9053 - mae: 1.9053 - mse: 8.8905 - val_loss: 1.6417 - val_mae: 1.6417 - val_mse: 6.8648\n",
            "Epoch 232/300\n",
            "10/10 [==============================] - 0s 4ms/step - loss: 1.9057 - mae: 1.9057 - mse: 8.8992 - val_loss: 1.6458 - val_mae: 1.6458 - val_mse: 6.8799\n",
            "Epoch 233/300\n",
            "10/10 [==============================] - 0s 4ms/step - loss: 1.9048 - mae: 1.9048 - mse: 8.8970 - val_loss: 1.6428 - val_mae: 1.6428 - val_mse: 6.8672\n",
            "Epoch 234/300\n",
            "10/10 [==============================] - 0s 4ms/step - loss: 1.9048 - mae: 1.9048 - mse: 8.8866 - val_loss: 1.6412 - val_mae: 1.6412 - val_mse: 6.8593\n",
            "Epoch 235/300\n",
            "10/10 [==============================] - 0s 4ms/step - loss: 1.9049 - mae: 1.9049 - mse: 8.8817 - val_loss: 1.6408 - val_mae: 1.6408 - val_mse: 6.8564\n",
            "Epoch 236/300\n",
            "10/10 [==============================] - 0s 4ms/step - loss: 1.9049 - mae: 1.9049 - mse: 8.8924 - val_loss: 1.6433 - val_mae: 1.6433 - val_mse: 6.8658\n",
            "Epoch 237/300\n",
            "10/10 [==============================] - 0s 5ms/step - loss: 1.9041 - mae: 1.9041 - mse: 8.8886 - val_loss: 1.6432 - val_mae: 1.6432 - val_mse: 6.8642\n",
            "Epoch 238/300\n",
            "10/10 [==============================] - 0s 3ms/step - loss: 1.9047 - mae: 1.9047 - mse: 8.8897 - val_loss: 1.6411 - val_mae: 1.6411 - val_mse: 6.8542\n",
            "Epoch 239/300\n",
            "10/10 [==============================] - 0s 5ms/step - loss: 1.9042 - mae: 1.9042 - mse: 8.8806 - val_loss: 1.6420 - val_mae: 1.6420 - val_mse: 6.8570\n",
            "Epoch 240/300\n",
            "10/10 [==============================] - 0s 4ms/step - loss: 1.9045 - mae: 1.9045 - mse: 8.8909 - val_loss: 1.6451 - val_mae: 1.6451 - val_mse: 6.8682\n",
            "Epoch 241/300\n",
            "10/10 [==============================] - 0s 5ms/step - loss: 1.9041 - mae: 1.9041 - mse: 8.8870 - val_loss: 1.6409 - val_mae: 1.6409 - val_mse: 6.8500\n",
            "Epoch 242/300\n",
            "10/10 [==============================] - 0s 4ms/step - loss: 1.9040 - mae: 1.9040 - mse: 8.8737 - val_loss: 1.6409 - val_mae: 1.6409 - val_mse: 6.8493\n",
            "Epoch 243/300\n",
            "10/10 [==============================] - 0s 4ms/step - loss: 1.9039 - mae: 1.9039 - mse: 8.8831 - val_loss: 1.6438 - val_mae: 1.6438 - val_mse: 6.8600\n",
            "Epoch 244/300\n",
            "10/10 [==============================] - 0s 5ms/step - loss: 1.9036 - mae: 1.9036 - mse: 8.8792 - val_loss: 1.6413 - val_mae: 1.6413 - val_mse: 6.8486\n",
            "Epoch 245/300\n",
            "10/10 [==============================] - 0s 5ms/step - loss: 1.9035 - mae: 1.9035 - mse: 8.8737 - val_loss: 1.6418 - val_mae: 1.6418 - val_mse: 6.8494\n",
            "Epoch 246/300\n",
            "10/10 [==============================] - 0s 4ms/step - loss: 1.9034 - mae: 1.9034 - mse: 8.8769 - val_loss: 1.6419 - val_mae: 1.6419 - val_mse: 6.8489\n",
            "Epoch 247/300\n",
            "10/10 [==============================] - 0s 4ms/step - loss: 1.9037 - mae: 1.9037 - mse: 8.8821 - val_loss: 1.6437 - val_mae: 1.6437 - val_mse: 6.8550\n",
            "Epoch 248/300\n",
            "10/10 [==============================] - 0s 5ms/step - loss: 1.9029 - mae: 1.9029 - mse: 8.8748 - val_loss: 1.6408 - val_mae: 1.6408 - val_mse: 6.8422\n",
            "Epoch 249/300\n",
            "10/10 [==============================] - 0s 4ms/step - loss: 1.9031 - mae: 1.9031 - mse: 8.8738 - val_loss: 1.6415 - val_mae: 1.6415 - val_mse: 6.8441\n",
            "Epoch 250/300\n",
            "10/10 [==============================] - 0s 4ms/step - loss: 1.9029 - mae: 1.9029 - mse: 8.8703 - val_loss: 1.6415 - val_mae: 1.6415 - val_mse: 6.8428\n",
            "Epoch 251/300\n",
            "10/10 [==============================] - 0s 4ms/step - loss: 1.9027 - mae: 1.9027 - mse: 8.8715 - val_loss: 1.6424 - val_mae: 1.6424 - val_mse: 6.8454\n",
            "Epoch 252/300\n",
            "10/10 [==============================] - 0s 4ms/step - loss: 1.9028 - mae: 1.9028 - mse: 8.8706 - val_loss: 1.6428 - val_mae: 1.6428 - val_mse: 6.8461\n",
            "Epoch 253/300\n",
            "10/10 [==============================] - 0s 4ms/step - loss: 1.9024 - mae: 1.9024 - mse: 8.8717 - val_loss: 1.6415 - val_mae: 1.6415 - val_mse: 6.8399\n",
            "Epoch 254/300\n",
            "10/10 [==============================] - 0s 4ms/step - loss: 1.9034 - mae: 1.9034 - mse: 8.8611 - val_loss: 1.6385 - val_mae: 1.6385 - val_mse: 6.8262\n",
            "Epoch 255/300\n",
            "10/10 [==============================] - 0s 4ms/step - loss: 1.9023 - mae: 1.9023 - mse: 8.8581 - val_loss: 1.6412 - val_mae: 1.6412 - val_mse: 6.8364\n",
            "Epoch 256/300\n",
            "10/10 [==============================] - 0s 6ms/step - loss: 1.9021 - mae: 1.9021 - mse: 8.8676 - val_loss: 1.6439 - val_mae: 1.6439 - val_mse: 6.8457\n",
            "Epoch 257/300\n",
            "10/10 [==============================] - 0s 4ms/step - loss: 1.9022 - mae: 1.9022 - mse: 8.8710 - val_loss: 1.6417 - val_mae: 1.6417 - val_mse: 6.8364\n",
            "Epoch 258/300\n",
            "10/10 [==============================] - 0s 4ms/step - loss: 1.9020 - mae: 1.9020 - mse: 8.8658 - val_loss: 1.6412 - val_mae: 1.6412 - val_mse: 6.8332\n",
            "Epoch 259/300\n",
            "10/10 [==============================] - 0s 4ms/step - loss: 1.9018 - mae: 1.9018 - mse: 8.8583 - val_loss: 1.6403 - val_mae: 1.6403 - val_mse: 6.8283\n",
            "Epoch 260/300\n",
            "10/10 [==============================] - 0s 3ms/step - loss: 1.9018 - mae: 1.9018 - mse: 8.8570 - val_loss: 1.6410 - val_mae: 1.6410 - val_mse: 6.8303\n",
            "Epoch 261/300\n",
            "10/10 [==============================] - 0s 4ms/step - loss: 1.9018 - mae: 1.9018 - mse: 8.8549 - val_loss: 1.6402 - val_mae: 1.6402 - val_mse: 6.8258\n",
            "Epoch 262/300\n",
            "10/10 [==============================] - 0s 3ms/step - loss: 1.9016 - mae: 1.9016 - mse: 8.8576 - val_loss: 1.6410 - val_mae: 1.6410 - val_mse: 6.8280\n",
            "Epoch 263/300\n",
            "10/10 [==============================] - 0s 4ms/step - loss: 1.9013 - mae: 1.9013 - mse: 8.8569 - val_loss: 1.6411 - val_mae: 1.6411 - val_mse: 6.8275\n",
            "Epoch 264/300\n",
            "10/10 [==============================] - 0s 4ms/step - loss: 1.9012 - mae: 1.9012 - mse: 8.8559 - val_loss: 1.6425 - val_mae: 1.6425 - val_mse: 6.8318\n",
            "Epoch 265/300\n",
            "10/10 [==============================] - 0s 4ms/step - loss: 1.9013 - mae: 1.9013 - mse: 8.8574 - val_loss: 1.6409 - val_mae: 1.6409 - val_mse: 6.8245\n",
            "Epoch 266/300\n",
            "10/10 [==============================] - 0s 4ms/step - loss: 1.9010 - mae: 1.9010 - mse: 8.8514 - val_loss: 1.6391 - val_mae: 1.6391 - val_mse: 6.8157\n",
            "Epoch 267/300\n",
            "10/10 [==============================] - 0s 4ms/step - loss: 1.9022 - mae: 1.9022 - mse: 8.8402 - val_loss: 1.6371 - val_mae: 1.6371 - val_mse: 6.8064\n",
            "Epoch 268/300\n",
            "10/10 [==============================] - 0s 4ms/step - loss: 1.9014 - mae: 1.9014 - mse: 8.8501 - val_loss: 1.6423 - val_mae: 1.6423 - val_mse: 6.8265\n",
            "Epoch 269/300\n",
            "10/10 [==============================] - 0s 4ms/step - loss: 1.9012 - mae: 1.9012 - mse: 8.8502 - val_loss: 1.6395 - val_mae: 1.6395 - val_mse: 6.8144\n",
            "Epoch 270/300\n",
            "10/10 [==============================] - 0s 4ms/step - loss: 1.9006 - mae: 1.9006 - mse: 8.8494 - val_loss: 1.6416 - val_mae: 1.6416 - val_mse: 6.8218\n",
            "Epoch 271/300\n",
            "10/10 [==============================] - 0s 4ms/step - loss: 1.9005 - mae: 1.9005 - mse: 8.8463 - val_loss: 1.6398 - val_mae: 1.6398 - val_mse: 6.8131\n",
            "Epoch 272/300\n",
            "10/10 [==============================] - 0s 4ms/step - loss: 1.9005 - mae: 1.9005 - mse: 8.8460 - val_loss: 1.6411 - val_mae: 1.6411 - val_mse: 6.8176\n",
            "Epoch 273/300\n",
            "10/10 [==============================] - 0s 3ms/step - loss: 1.9003 - mae: 1.9003 - mse: 8.8450 - val_loss: 1.6406 - val_mae: 1.6406 - val_mse: 6.8144\n",
            "Epoch 274/300\n",
            "10/10 [==============================] - 0s 3ms/step - loss: 1.9000 - mae: 1.9000 - mse: 8.8422 - val_loss: 1.6401 - val_mae: 1.6401 - val_mse: 6.8117\n",
            "Epoch 275/300\n",
            "10/10 [==============================] - 0s 4ms/step - loss: 1.9000 - mae: 1.9000 - mse: 8.8403 - val_loss: 1.6399 - val_mae: 1.6399 - val_mse: 6.8097\n",
            "Epoch 276/300\n",
            "10/10 [==============================] - 0s 4ms/step - loss: 1.8998 - mae: 1.8998 - mse: 8.8426 - val_loss: 1.6402 - val_mae: 1.6402 - val_mse: 6.8098\n",
            "Epoch 277/300\n",
            "10/10 [==============================] - 0s 4ms/step - loss: 1.8997 - mae: 1.8997 - mse: 8.8405 - val_loss: 1.6401 - val_mae: 1.6401 - val_mse: 6.8083\n",
            "Epoch 278/300\n",
            "10/10 [==============================] - 0s 4ms/step - loss: 1.8997 - mae: 1.8997 - mse: 8.8382 - val_loss: 1.6393 - val_mae: 1.6393 - val_mse: 6.8038\n",
            "Epoch 279/300\n",
            "10/10 [==============================] - 0s 4ms/step - loss: 1.9000 - mae: 1.9000 - mse: 8.8378 - val_loss: 1.6408 - val_mae: 1.6408 - val_mse: 6.8087\n",
            "Epoch 280/300\n",
            "10/10 [==============================] - 0s 3ms/step - loss: 1.8992 - mae: 1.8992 - mse: 8.8364 - val_loss: 1.6385 - val_mae: 1.6385 - val_mse: 6.7984\n",
            "Epoch 281/300\n",
            "10/10 [==============================] - 0s 4ms/step - loss: 1.8995 - mae: 1.8995 - mse: 8.8252 - val_loss: 1.6373 - val_mae: 1.6373 - val_mse: 6.7922\n",
            "Epoch 282/300\n",
            "10/10 [==============================] - 0s 4ms/step - loss: 1.8999 - mae: 1.8999 - mse: 8.8308 - val_loss: 1.6407 - val_mae: 1.6407 - val_mse: 6.8052\n",
            "Epoch 283/300\n",
            "10/10 [==============================] - 0s 4ms/step - loss: 1.8991 - mae: 1.8991 - mse: 8.8305 - val_loss: 1.6387 - val_mae: 1.6387 - val_mse: 6.7960\n",
            "Epoch 284/300\n",
            "10/10 [==============================] - 0s 3ms/step - loss: 1.8991 - mae: 1.8991 - mse: 8.8313 - val_loss: 1.6392 - val_mae: 1.6392 - val_mse: 6.7971\n",
            "Epoch 285/300\n",
            "10/10 [==============================] - 0s 4ms/step - loss: 1.8991 - mae: 1.8991 - mse: 8.8277 - val_loss: 1.6393 - val_mae: 1.6393 - val_mse: 6.7964\n",
            "Epoch 286/300\n",
            "10/10 [==============================] - 0s 5ms/step - loss: 1.8987 - mae: 1.8987 - mse: 8.8288 - val_loss: 1.6397 - val_mae: 1.6397 - val_mse: 6.7970\n",
            "Epoch 287/300\n",
            "10/10 [==============================] - 0s 4ms/step - loss: 1.8989 - mae: 1.8989 - mse: 8.8327 - val_loss: 1.6401 - val_mae: 1.6401 - val_mse: 6.7972\n",
            "Epoch 288/300\n",
            "10/10 [==============================] - 0s 5ms/step - loss: 1.8985 - mae: 1.8985 - mse: 8.8201 - val_loss: 1.6367 - val_mae: 1.6367 - val_mse: 6.7822\n",
            "Epoch 289/300\n",
            "10/10 [==============================] - 0s 3ms/step - loss: 1.8987 - mae: 1.8987 - mse: 8.8188 - val_loss: 1.6383 - val_mae: 1.6383 - val_mse: 6.7879\n",
            "Epoch 290/300\n",
            "10/10 [==============================] - 0s 4ms/step - loss: 1.8983 - mae: 1.8983 - mse: 8.8225 - val_loss: 1.6396 - val_mae: 1.6396 - val_mse: 6.7922\n",
            "Epoch 291/300\n",
            "10/10 [==============================] - 0s 4ms/step - loss: 1.8981 - mae: 1.8981 - mse: 8.8243 - val_loss: 1.6383 - val_mae: 1.6383 - val_mse: 6.7855\n",
            "Epoch 292/300\n",
            "10/10 [==============================] - 0s 4ms/step - loss: 1.8981 - mae: 1.8981 - mse: 8.8202 - val_loss: 1.6378 - val_mae: 1.6378 - val_mse: 6.7824\n",
            "Epoch 293/300\n",
            "10/10 [==============================] - 0s 4ms/step - loss: 1.8981 - mae: 1.8981 - mse: 8.8134 - val_loss: 1.6373 - val_mae: 1.6373 - val_mse: 6.7792\n",
            "Epoch 294/300\n",
            "10/10 [==============================] - 0s 3ms/step - loss: 1.9000 - mae: 1.9000 - mse: 8.8332 - val_loss: 1.6426 - val_mae: 1.6426 - val_mse: 6.7994\n",
            "Epoch 295/300\n",
            "10/10 [==============================] - 0s 4ms/step - loss: 1.8976 - mae: 1.8976 - mse: 8.8213 - val_loss: 1.6377 - val_mae: 1.6377 - val_mse: 6.7790\n",
            "Epoch 296/300\n",
            "10/10 [==============================] - 0s 4ms/step - loss: 1.8985 - mae: 1.8985 - mse: 8.8095 - val_loss: 1.6343 - val_mae: 1.6343 - val_mse: 6.7635\n",
            "Epoch 297/300\n",
            "10/10 [==============================] - 0s 4ms/step - loss: 1.8979 - mae: 1.8979 - mse: 8.8056 - val_loss: 1.6371 - val_mae: 1.6371 - val_mse: 6.7741\n",
            "Epoch 298/300\n",
            "10/10 [==============================] - 0s 4ms/step - loss: 1.8980 - mae: 1.8980 - mse: 8.8196 - val_loss: 1.6401 - val_mae: 1.6401 - val_mse: 6.7855\n",
            "Epoch 299/300\n",
            "10/10 [==============================] - 0s 4ms/step - loss: 1.8971 - mae: 1.8971 - mse: 8.8154 - val_loss: 1.6377 - val_mae: 1.6377 - val_mse: 6.7749\n",
            "Epoch 300/300\n",
            "10/10 [==============================] - 0s 4ms/step - loss: 1.8972 - mae: 1.8972 - mse: 8.8035 - val_loss: 1.6356 - val_mae: 1.6356 - val_mse: 6.7647\n"
          ],
          "name": "stdout"
        }
      ]
    },
    {
      "cell_type": "code",
      "metadata": {
        "id": "6zYkLGS6wQyy",
        "colab": {
          "base_uri": "https://localhost:8080/"
        },
        "outputId": "fbef63e4-33d3-4665-bec5-826d17fef474"
      },
      "source": [
        "print(history)"
      ],
      "execution_count": null,
      "outputs": [
        {
          "output_type": "stream",
          "text": [
            "<tensorflow.python.keras.callbacks.History object at 0x7fe4d2568a50>\n"
          ],
          "name": "stdout"
        }
      ]
    },
    {
      "cell_type": "code",
      "metadata": {
        "colab": {
          "base_uri": "https://localhost:8080/"
        },
        "id": "1lsbk_ohAu1j",
        "outputId": "d5e931d8-e7d2-4e0e-cf68-a9347df4e142"
      },
      "source": [
        "model.summary()"
      ],
      "execution_count": null,
      "outputs": [
        {
          "output_type": "stream",
          "text": [
            "Model: \"sequential\"\n",
            "_________________________________________________________________\n",
            "Layer (type)                 Output Shape              Param #   \n",
            "=================================================================\n",
            "dense (Dense)                (None, 1)                 2         \n",
            "=================================================================\n",
            "Total params: 2\n",
            "Trainable params: 2\n",
            "Non-trainable params: 0\n",
            "_________________________________________________________________\n"
          ],
          "name": "stdout"
        }
      ]
    },
    {
      "cell_type": "code",
      "metadata": {
        "colab": {
          "base_uri": "https://localhost:8080/",
          "height": 1000
        },
        "id": "P6VnkPim7tH7",
        "outputId": "ce573ceb-cf77-4968-d61f-835693b3fe29"
      },
      "source": [
        "# tempString = 'mse'\n",
        "def curvePlots(tempString):\n",
        "  plt.plot(history.history[tempString])\n",
        "  plt.plot(history.history[f'val_{tempString}'])\n",
        "  plt.xlabel('NumEpochs')\n",
        "  plt.ylabel(tempString)\n",
        "  plt.legend([tempString, f'val_{tempString}'])\n",
        "  plt.show()\n",
        "\n",
        "\n",
        "curvePlots('mse')\n",
        "curvePlots('mae')\n",
        "curvePlots('loss')"
      ],
      "execution_count": null,
      "outputs": [
        {
          "output_type": "display_data",
          "data": {
            "image/png": "[encoded data removed]",
            "text/plain": [
              "<Figure size 576x396 with 1 Axes>"
            ]
          },
          "metadata": {
            "tags": []
          }
        },
        {
          "output_type": "display_data",
          "data": {
            "image/png": "[encoded data removed]",
            "text/plain": [
              "<Figure size 576x396 with 1 Axes>"
            ]
          },
          "metadata": {
            "tags": []
          }
        },
        {
          "output_type": "display_data",
          "data": {
            "image/png": "[encoded data removed]",
            "text/plain": [
              "<Figure size 576x396 with 1 Axes>"
            ]
          },
          "metadata": {
            "tags": []
          }
        }
      ]
    },
    {
      "cell_type": "code",
      "metadata": {
        "id": "esW0eHQbzoj4",
        "colab": {
          "base_uri": "https://localhost:8080/"
        },
        "outputId": "34dfa0c8-68d8-4159-b4e6-824c417721ea"
      },
      "source": [
        "model.predict([1])"
      ],
      "execution_count": null,
      "outputs": [
        {
          "output_type": "execute_result",
          "data": {
            "text/plain": [
              "array([[2.253069]], dtype=float32)"
            ]
          },
          "metadata": {
            "tags": []
          },
          "execution_count": 46
        }
      ]
    },
    {
      "cell_type": "code",
      "metadata": {
        "colab": {
          "base_uri": "https://localhost:8080/"
        },
        "id": "KJrLWamX8Tg-",
        "outputId": "83855a7b-4ce0-4bb6-c57c-3d8a859eb9fe"
      },
      "source": [
        "# testPreds = model.predict(testFeatures).flatten() #array of all prediction values\n",
        "\n",
        "#for single values\n",
        "\n",
        "print(f'Prediction for input value 1: {model.predict([1])}')\n",
        "\n",
        "\n",
        "# for a list of values\n",
        "tempListforPreds = [1,2,3,4,5]\n",
        "print(f'''\n",
        "\n",
        "input List = {tempListforPreds}\n",
        "\n",
        "\n",
        "List of Predictions:\n",
        "{model.predict(tempListforPreds)}\n",
        "\n",
        "List of Predictions (flattened out):\n",
        "{model.predict(tempListforPreds).flatten()}\n",
        "''')"
      ],
      "execution_count": null,
      "outputs": [
        {
          "output_type": "stream",
          "text": [
            "Prediction for input value 1: [[2.253069]]\n",
            "\n",
            "\n",
            "input List = [1, 2, 3, 4, 5]\n",
            "\n",
            "\n",
            "List of Predictions:\n",
            "[[2.253069 ]\n",
            " [3.137846 ]\n",
            " [4.0226226]\n",
            " [4.9073997]\n",
            " [5.7921767]]\n",
            "\n",
            "List of Predictions (flattened out):\n",
            "[2.253069  3.137846  4.0226226 4.9073997 5.7921767]\n",
            "\n"
          ],
          "name": "stdout"
        }
      ]
    },
    {
      "cell_type": "code",
      "metadata": {
        "id": "vJNFh6hc0K6r",
        "colab": {
          "base_uri": "https://localhost:8080/"
        },
        "outputId": "9a239eb4-e0c3-48ad-acea-ada4fb597430"
      },
      "source": [
        "print(testFeatures)"
      ],
      "execution_count": null,
      "outputs": [
        {
          "output_type": "stream",
          "text": [
            "     G1\n",
            "9    14\n",
            "25    6\n",
            "28   11\n",
            "31   17\n",
            "32   17\n",
            "..   ..\n",
            "365  10\n",
            "367   7\n",
            "379  10\n",
            "381   7\n",
            "393  11\n",
            "\n",
            "[79 rows x 1 columns]\n"
          ],
          "name": "stdout"
        }
      ]
    },
    {
      "cell_type": "code",
      "metadata": {
        "id": "MniGZOu50IyN"
      },
      "source": [
        "testPreds = model.predict(testFeatures).flatten() #array of all prediction values"
      ],
      "execution_count": null,
      "outputs": []
    },
    {
      "cell_type": "code",
      "metadata": {
        "id": "du0Orwu40Qan",
        "colab": {
          "base_uri": "https://localhost:8080/"
        },
        "outputId": "17ef7462-efa2-4052-95ab-138069f55091"
      },
      "source": [
        "print(len(testPreds))\n",
        "print(testPreds)"
      ],
      "execution_count": null,
      "outputs": [
        {
          "output_type": "stream",
          "text": [
            "79\n",
            "[13.755169   6.6769533 11.100839  16.4095    16.4095    11.985615\n",
            " 13.755169  18.179054  18.179054   8.446507  13.755169  12.870392\n",
            "  8.446507   7.5617304  9.3312845 12.870392  11.100839  15.524723\n",
            "  7.5617304 10.216062  14.639946  12.870392  13.755169  15.524723\n",
            "  7.5617304  7.5617304  8.446507  10.216062  11.985615  10.216062\n",
            " 11.985615  12.870392  10.216062   6.6769533  9.3312845 11.985615\n",
            "  7.5617304  8.446507  13.755169   9.3312845  9.3312845  7.5617304\n",
            " 11.985615   6.6769533 12.870392   7.5617304  7.5617304 11.100839\n",
            " 12.870392  16.4095    11.985615  14.639946   9.3312845 11.985615\n",
            " 14.639946  11.985615  14.639946  11.985615  14.639946  11.100839\n",
            " 11.985615   8.446507  15.524723   7.5617304 15.524723  11.100839\n",
            " 15.524723  12.870392   8.446507   8.446507  11.985615  17.294277\n",
            " 12.870392  15.524723  10.216062   7.5617304 10.216062   7.5617304\n",
            " 11.100839 ]\n"
          ],
          "name": "stdout"
        }
      ]
    },
    {
      "cell_type": "code",
      "metadata": {
        "colab": {
          "base_uri": "https://localhost:8080/",
          "height": 361
        },
        "id": "EfP8bB_v89Wa",
        "outputId": "4dfca95a-da79-468a-a687-bf1c2e5040ed"
      },
      "source": [
        "# prediciton plot --> how well is your model predicting across the actual labels\n",
        "\n",
        "def predPlot(labels, predictions):\n",
        "  plt.scatter(labels, predictions)\n",
        "  plt.ylabel('Predictions')\n",
        "  plt.xlabel('True Value or Labels')\n",
        "  plt.axis('equal')\n",
        "  plt.axis('square')\n",
        "  plt.xlim([0, plt.xlim()[1]])\n",
        "  plt.ylim([0, plt.ylim()[1]])\n",
        "  plt.show()\n",
        "\n",
        "predPlot(testLabels, testPreds)"
      ],
      "execution_count": null,
      "outputs": [
        {
          "output_type": "display_data",
          "data": {
            "image/png": "[encoded data removed]",
            "text/plain": [
              "<Figure size 576x396 with 1 Axes>"
            ]
          },
          "metadata": {
            "tags": []
          }
        }
      ]
    },
    {
      "cell_type": "code",
      "metadata": {
        "colab": {
          "base_uri": "https://localhost:8080/",
          "height": 361
        },
        "id": "70608Z0o9tWL",
        "outputId": "bcb0916e-9f66-45b0-92d0-7ae7a93249dd"
      },
      "source": [
        "#error plot --> gaussian distribution \n",
        "\n",
        "def errorPlot(preds, labels, counts):\n",
        "  errors = preds - labels\n",
        "  plt.hist(errors, counts)\n",
        "  plt.xlabel('Error')\n",
        "  plt.ylabel('Counts')\n",
        "  plt.show()\n",
        "\n",
        "errorPlot(testPreds, testLabels, numEpochs)"
      ],
      "execution_count": null,
      "outputs": [
        {
          "output_type": "display_data",
          "data": {
            "image/png": "[encoded data removed]",
            "text/plain": [
              "<Figure size 576x396 with 1 Axes>"
            ]
          },
          "metadata": {
            "tags": []
          }
        }
      ]
    },
    {
      "cell_type": "markdown",
      "metadata": {
        "id": "oshf2mUG1vPk"
      },
      "source": [
        "Note: \n",
        "\n",
        "\n",
        "Validation loss `val_loss` is a metric that tells you how much deviation from the actual label can you expect in the predicted label\n",
        "\n",
        "To optimize your predicitons -->\n",
        "\n",
        "- Hyperparameter tuning --> `numEpochs`, `optimizer`, `learning_rate`, lossFunctions"
      ]
    }
  ]
}